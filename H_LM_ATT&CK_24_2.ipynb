{
  "cells": [
    {
      "cell_type": "markdown",
      "metadata": {
        "id": "MllwlXeOEdnk"
      },
      "source": [
        "# **Language Model and MITRE ATT&CK**\n"
      ]
    },
    {
      "cell_type": "markdown",
      "metadata": {
        "id": "hBnPHfmPEj26"
      },
      "source": [
        "## **Instructions**\n",
        "\n",
        "* Use \"Fine-tuning a masked language model\" as the template to create your own language model.\n",
        "  * https://huggingface.co/learn/nlp-course/en/chapter7/3\n",
        "* Selcet a built-in language model, and try to fine-tune it with an additional corpus.\n",
        "* We would like to make the fine-tuned model learn 'cybersecurity' knowledge, so we choose to use some cybersecurity-related, professional documents from MITRE website.\n",
        "  * https://attack.mitre.org/resources/attack-data-and-tools/\n",
        "* In the MITRE data and tools page, please find two excel files which include the definitions of attack tactics and attack techniques.\n",
        "  * enterprise-attack-v15.1-tactics.xlsx\n",
        "  * enterprise-attack-v15.1-techniques.xlsx\n",
        "* Parse the xlsx files, and extract 'name' and 'description' as your additional corpus.\n",
        "* Try to fine-tune your model.\n",
        "* Note that you do not have to push your model to huggingface, rather please keep it in your colab and use/test it directly."
      ]
    },
    {
      "cell_type": "markdown",
      "metadata": {
        "id": "ywXPPGxNE2zf"
      },
      "source": [
        "## **Import Libraries**\n",
        "\n"
      ]
    },
    {
      "cell_type": "code",
      "execution_count": 1,
      "metadata": {
        "colab": {
          "base_uri": "https://localhost:8080/"
        },
        "id": "xpXW4uY1E_rT",
        "outputId": "825907d3-9669-48cd-f474-33382ce51271"
      },
      "outputs": [
        {
          "name": "stdout",
          "output_type": "stream",
          "text": [
            "Collecting datasets\n",
            "  Downloading datasets-2.19.1-py3-none-any.whl.metadata (19 kB)\n",
            "Collecting filelock (from datasets)\n",
            "  Downloading filelock-3.14.0-py3-none-any.whl.metadata (2.8 kB)\n",
            "Collecting numpy>=1.17 (from datasets)\n",
            "  Downloading numpy-1.26.4-cp312-cp312-macosx_11_0_arm64.whl.metadata (61 kB)\n",
            "\u001b[2K     \u001b[90m━━━━━━━━━━━━━━━━━━━━━━━━━━━━━━━━━━━━━━━\u001b[0m \u001b[32m61.1/61.1 kB\u001b[0m \u001b[31m281.6 kB/s\u001b[0m eta \u001b[36m0:00:00\u001b[0ma \u001b[36m0:00:01\u001b[0m\n",
            "\u001b[?25hCollecting pyarrow>=12.0.0 (from datasets)\n",
            "  Downloading pyarrow-16.1.0-cp312-cp312-macosx_11_0_arm64.whl.metadata (3.0 kB)\n",
            "Collecting pyarrow-hotfix (from datasets)\n",
            "  Downloading pyarrow_hotfix-0.6-py3-none-any.whl.metadata (3.6 kB)\n",
            "Collecting dill<0.3.9,>=0.3.0 (from datasets)\n",
            "  Downloading dill-0.3.8-py3-none-any.whl.metadata (10 kB)\n",
            "Collecting pandas (from datasets)\n",
            "  Downloading pandas-2.2.2-cp312-cp312-macosx_11_0_arm64.whl.metadata (19 kB)\n",
            "Requirement already satisfied: requests>=2.19.0 in ./.venv/lib/python3.12/site-packages (from datasets) (2.32.3)\n",
            "Collecting tqdm>=4.62.1 (from datasets)\n",
            "  Downloading tqdm-4.66.4-py3-none-any.whl.metadata (57 kB)\n",
            "\u001b[2K     \u001b[90m━━━━━━━━━━━━━━━━━━━━━━━━━━━━━━━━━━━━━━━━\u001b[0m \u001b[32m57.6/57.6 kB\u001b[0m \u001b[31m1.2 MB/s\u001b[0m eta \u001b[36m0:00:00\u001b[0ma \u001b[36m0:00:01\u001b[0m\n",
            "\u001b[?25hCollecting xxhash (from datasets)\n",
            "  Downloading xxhash-3.4.1-cp312-cp312-macosx_11_0_arm64.whl.metadata (12 kB)\n",
            "Collecting multiprocess (from datasets)\n",
            "  Downloading multiprocess-0.70.16-py312-none-any.whl.metadata (7.2 kB)\n",
            "Collecting fsspec<=2024.3.1,>=2023.1.0 (from fsspec[http]<=2024.3.1,>=2023.1.0->datasets)\n",
            "  Downloading fsspec-2024.3.1-py3-none-any.whl.metadata (6.8 kB)\n",
            "Collecting aiohttp (from datasets)\n",
            "  Downloading aiohttp-3.9.5-cp312-cp312-macosx_11_0_arm64.whl.metadata (7.5 kB)\n",
            "Collecting huggingface-hub>=0.21.2 (from datasets)\n",
            "  Downloading huggingface_hub-0.23.2-py3-none-any.whl.metadata (12 kB)\n",
            "Requirement already satisfied: packaging in ./.venv/lib/python3.12/site-packages (from datasets) (24.0)\n",
            "Requirement already satisfied: pyyaml>=5.1 in ./.venv/lib/python3.12/site-packages (from datasets) (6.0.1)\n",
            "Collecting aiosignal>=1.1.2 (from aiohttp->datasets)\n",
            "  Downloading aiosignal-1.3.1-py3-none-any.whl.metadata (4.0 kB)\n",
            "Requirement already satisfied: attrs>=17.3.0 in ./.venv/lib/python3.12/site-packages (from aiohttp->datasets) (23.2.0)\n",
            "Collecting frozenlist>=1.1.1 (from aiohttp->datasets)\n",
            "  Downloading frozenlist-1.4.1-cp312-cp312-macosx_11_0_arm64.whl.metadata (12 kB)\n",
            "Collecting multidict<7.0,>=4.5 (from aiohttp->datasets)\n",
            "  Downloading multidict-6.0.5-cp312-cp312-macosx_11_0_arm64.whl.metadata (4.2 kB)\n",
            "Collecting yarl<2.0,>=1.0 (from aiohttp->datasets)\n",
            "  Downloading yarl-1.9.4-cp312-cp312-macosx_11_0_arm64.whl.metadata (31 kB)\n",
            "Collecting typing-extensions>=3.7.4.3 (from huggingface-hub>=0.21.2->datasets)\n",
            "  Downloading typing_extensions-4.12.0-py3-none-any.whl.metadata (3.0 kB)\n",
            "Requirement already satisfied: charset-normalizer<4,>=2 in ./.venv/lib/python3.12/site-packages (from requests>=2.19.0->datasets) (3.3.2)\n",
            "Requirement already satisfied: idna<4,>=2.5 in ./.venv/lib/python3.12/site-packages (from requests>=2.19.0->datasets) (3.7)\n",
            "Requirement already satisfied: urllib3<3,>=1.21.1 in ./.venv/lib/python3.12/site-packages (from requests>=2.19.0->datasets) (2.2.1)\n",
            "Requirement already satisfied: certifi>=2017.4.17 in ./.venv/lib/python3.12/site-packages (from requests>=2.19.0->datasets) (2024.2.2)\n",
            "Requirement already satisfied: python-dateutil>=2.8.2 in ./.venv/lib/python3.12/site-packages (from pandas->datasets) (2.9.0.post0)\n",
            "Collecting pytz>=2020.1 (from pandas->datasets)\n",
            "  Downloading pytz-2024.1-py2.py3-none-any.whl.metadata (22 kB)\n",
            "Collecting tzdata>=2022.7 (from pandas->datasets)\n",
            "  Downloading tzdata-2024.1-py2.py3-none-any.whl.metadata (1.4 kB)\n",
            "Requirement already satisfied: six>=1.5 in ./.venv/lib/python3.12/site-packages (from python-dateutil>=2.8.2->pandas->datasets) (1.16.0)\n",
            "Downloading datasets-2.19.1-py3-none-any.whl (542 kB)\n",
            "\u001b[2K   \u001b[90m━━━━━━━━━━━━━━━━━━━━━━━━━━━━━━━━━━━━━━━━\u001b[0m \u001b[32m542.0/542.0 kB\u001b[0m \u001b[31m1.2 MB/s\u001b[0m eta \u001b[36m0:00:00\u001b[0m00:01\u001b[0m00:01\u001b[0mm\n",
            "\u001b[?25hDownloading dill-0.3.8-py3-none-any.whl (116 kB)\n",
            "\u001b[2K   \u001b[90m━━━━━━━━━━━━━━━━━━━━━━━━━━━━━━━━━━━━━━━━\u001b[0m \u001b[32m116.3/116.3 kB\u001b[0m \u001b[31m6.6 MB/s\u001b[0m eta \u001b[36m0:00:00\u001b[0mta \u001b[36m0:00:01\u001b[0m\n",
            "\u001b[?25hDownloading fsspec-2024.3.1-py3-none-any.whl (171 kB)\n",
            "\u001b[2K   \u001b[90m━━━━━━━━━━━━━━━━━━━━━━━━━━━━━━━━━━━━━━━━\u001b[0m \u001b[32m172.0/172.0 kB\u001b[0m \u001b[31m5.6 MB/s\u001b[0m eta \u001b[36m0:00:00\u001b[0m\n",
            "\u001b[?25hDownloading aiohttp-3.9.5-cp312-cp312-macosx_11_0_arm64.whl (392 kB)\n",
            "\u001b[2K   \u001b[90m━━━━━━━━━━━━━━━━━━━━━━━━━━━━━━━━━━━━━━━━\u001b[0m \u001b[32m392.4/392.4 kB\u001b[0m \u001b[31m5.9 MB/s\u001b[0m eta \u001b[36m0:00:00\u001b[0ma \u001b[36m0:00:01\u001b[0m\n",
            "\u001b[?25hDownloading huggingface_hub-0.23.2-py3-none-any.whl (401 kB)\n",
            "\u001b[2K   \u001b[90m━━━━━━━━━━━━━━━━━━━━━━━━━━━━━━━━━━━━━━━━\u001b[0m \u001b[32m401.7/401.7 kB\u001b[0m \u001b[31m7.4 MB/s\u001b[0m eta \u001b[36m0:00:00\u001b[0ma \u001b[36m0:00:01\u001b[0m\n",
            "\u001b[?25hDownloading numpy-1.26.4-cp312-cp312-macosx_11_0_arm64.whl (13.7 MB)\n",
            "\u001b[2K   \u001b[90m━━━━━━━━━━━━━━━━━━━━━━━━━━━━━━━━━━━━━━━━\u001b[0m \u001b[32m13.7/13.7 MB\u001b[0m \u001b[31m14.1 MB/s\u001b[0m eta \u001b[36m0:00:00\u001b[0ma \u001b[36m0:00:01\u001b[0m\n",
            "\u001b[?25hDownloading pyarrow-16.1.0-cp312-cp312-macosx_11_0_arm64.whl (26.0 MB)\n",
            "\u001b[2K   \u001b[90m━━━━━━━━━━━━━━━━━━━━━━━━━━━━━━━━━━━━━━━━\u001b[0m \u001b[32m26.0/26.0 MB\u001b[0m \u001b[31m18.2 MB/s\u001b[0m eta \u001b[36m0:00:00\u001b[0m00:01\u001b[0m00:01\u001b[0m\n",
            "\u001b[?25hDownloading tqdm-4.66.4-py3-none-any.whl (78 kB)\n",
            "\u001b[2K   \u001b[90m━━━━━━━━━━━━━━━━━━━━━━━━━━━━━━━━━━━━━━━━\u001b[0m \u001b[32m78.3/78.3 kB\u001b[0m \u001b[31m5.9 MB/s\u001b[0m eta \u001b[36m0:00:00\u001b[0m\n",
            "\u001b[?25hDownloading filelock-3.14.0-py3-none-any.whl (12 kB)\n",
            "Downloading multiprocess-0.70.16-py312-none-any.whl (146 kB)\n",
            "\u001b[2K   \u001b[90m━━━━━━━━━━━━━━━━━━━━━━━━━━━━━━━━━━━━━━━━\u001b[0m \u001b[32m146.7/146.7 kB\u001b[0m \u001b[31m14.3 MB/s\u001b[0m eta \u001b[36m0:00:00\u001b[0m\n",
            "\u001b[?25hDownloading pandas-2.2.2-cp312-cp312-macosx_11_0_arm64.whl (11.3 MB)\n",
            "\u001b[2K   \u001b[90m━━━━━━━━━━━━━━━━━━━━━━━━━━━━━━━━━━━━━━━━\u001b[0m \u001b[32m11.3/11.3 MB\u001b[0m \u001b[31m11.5 MB/s\u001b[0m eta \u001b[36m0:00:00\u001b[0m00:01\u001b[0m00:01\u001b[0m\n",
            "\u001b[?25hDownloading pyarrow_hotfix-0.6-py3-none-any.whl (7.9 kB)\n",
            "Downloading xxhash-3.4.1-cp312-cp312-macosx_11_0_arm64.whl (30 kB)\n",
            "Downloading aiosignal-1.3.1-py3-none-any.whl (7.6 kB)\n",
            "Downloading frozenlist-1.4.1-cp312-cp312-macosx_11_0_arm64.whl (51 kB)\n",
            "\u001b[2K   \u001b[90m━━━━━━━━━━━━━━━━━━━━━━━━━━━━━━━━━━━━━━━━\u001b[0m \u001b[32m51.9/51.9 kB\u001b[0m \u001b[31m4.2 MB/s\u001b[0m eta \u001b[36m0:00:00\u001b[0m\n",
            "\u001b[?25hDownloading multidict-6.0.5-cp312-cp312-macosx_11_0_arm64.whl (29 kB)\n",
            "Downloading pytz-2024.1-py2.py3-none-any.whl (505 kB)\n",
            "\u001b[2K   \u001b[90m━━━━━━━━━━━━━━━━━━━━━━━━━━━━━━━━━━━━━━━━\u001b[0m \u001b[32m505.5/505.5 kB\u001b[0m \u001b[31m11.5 MB/s\u001b[0m eta \u001b[36m0:00:00\u001b[0m00:01\u001b[0m\n",
            "\u001b[?25hDownloading typing_extensions-4.12.0-py3-none-any.whl (37 kB)\n",
            "Downloading tzdata-2024.1-py2.py3-none-any.whl (345 kB)\n",
            "\u001b[2K   \u001b[90m━━━━━━━━━━━━━━━━━━━━━━━━━━━━━━━━━━━━━━━━\u001b[0m \u001b[32m345.4/345.4 kB\u001b[0m \u001b[31m13.8 MB/s\u001b[0m eta \u001b[36m0:00:00\u001b[0m\n",
            "\u001b[?25hDownloading yarl-1.9.4-cp312-cp312-macosx_11_0_arm64.whl (79 kB)\n",
            "\u001b[2K   \u001b[90m━━━━━━━━━━━━━━━━━━━━━━━━━━━━━━━━━━━━━━━━\u001b[0m \u001b[32m79.4/79.4 kB\u001b[0m \u001b[31m7.0 MB/s\u001b[0m eta \u001b[36m0:00:00\u001b[0m\n",
            "\u001b[?25hInstalling collected packages: pytz, xxhash, tzdata, typing-extensions, tqdm, pyarrow-hotfix, numpy, multidict, fsspec, frozenlist, filelock, dill, yarl, pyarrow, pandas, multiprocess, huggingface-hub, aiosignal, aiohttp, datasets\n",
            "Successfully installed aiohttp-3.9.5 aiosignal-1.3.1 datasets-2.19.1 dill-0.3.8 filelock-3.14.0 frozenlist-1.4.1 fsspec-2024.3.1 huggingface-hub-0.23.2 multidict-6.0.5 multiprocess-0.70.16 numpy-1.26.4 pandas-2.2.2 pyarrow-16.1.0 pyarrow-hotfix-0.6 pytz-2024.1 tqdm-4.66.4 typing-extensions-4.12.0 tzdata-2024.1 xxhash-3.4.1 yarl-1.9.4\n",
            "zsh:1: no matches found: transformers[torch]\n",
            "Collecting torch\n",
            "  Downloading torch-2.3.0-cp312-none-macosx_11_0_arm64.whl.metadata (26 kB)\n",
            "Requirement already satisfied: filelock in ./.venv/lib/python3.12/site-packages (from torch) (3.14.0)\n",
            "Requirement already satisfied: typing-extensions>=4.8.0 in ./.venv/lib/python3.12/site-packages (from torch) (4.12.0)\n",
            "Collecting sympy (from torch)\n",
            "  Downloading sympy-1.12.1-py3-none-any.whl.metadata (12 kB)\n",
            "Collecting networkx (from torch)\n",
            "  Downloading networkx-3.3-py3-none-any.whl.metadata (5.1 kB)\n",
            "Requirement already satisfied: jinja2 in ./.venv/lib/python3.12/site-packages (from torch) (3.1.4)\n",
            "Requirement already satisfied: fsspec in ./.venv/lib/python3.12/site-packages (from torch) (2024.3.1)\n",
            "Requirement already satisfied: MarkupSafe>=2.0 in ./.venv/lib/python3.12/site-packages (from jinja2->torch) (2.1.5)\n",
            "Collecting mpmath<1.4.0,>=1.1.0 (from sympy->torch)\n",
            "  Downloading mpmath-1.3.0-py3-none-any.whl.metadata (8.6 kB)\n",
            "Downloading torch-2.3.0-cp312-none-macosx_11_0_arm64.whl (61.0 MB)\n",
            "\u001b[2K   \u001b[90m━━━━━━━━━━━━━━━━━━━━━━━━━━━━━━━━━━━━━━━━\u001b[0m \u001b[32m61.0/61.0 MB\u001b[0m \u001b[31m3.3 MB/s\u001b[0m eta \u001b[36m0:00:00\u001b[0m00:01\u001b[0m00:01\u001b[0m0m\n",
            "\u001b[?25hDownloading networkx-3.3-py3-none-any.whl (1.7 MB)\n",
            "\u001b[2K   \u001b[90m━━━━━━━━━━━━━━━━━━━━━━━━━━━━━━━━━━━━━━━━\u001b[0m \u001b[32m1.7/1.7 MB\u001b[0m \u001b[31m5.3 MB/s\u001b[0m eta \u001b[36m0:00:00\u001b[0ma \u001b[36m0:00:01\u001b[0m\n",
            "\u001b[?25hDownloading sympy-1.12.1-py3-none-any.whl (5.7 MB)\n",
            "\u001b[2K   \u001b[90m━━━━━━━━━━━━━━━━━━━━━━━━━━━━━━━━━━━━━━━━\u001b[0m \u001b[32m5.7/5.7 MB\u001b[0m \u001b[31m5.8 MB/s\u001b[0m eta \u001b[36m0:00:00\u001b[0m00:01\u001b[0m00:01\u001b[0m\n",
            "\u001b[?25hDownloading mpmath-1.3.0-py3-none-any.whl (536 kB)\n",
            "\u001b[2K   \u001b[90m━━━━━━━━━━━━━━━━━━━━━━━━━━━━━━━━━━━━━━━━\u001b[0m \u001b[32m536.2/536.2 kB\u001b[0m \u001b[31m7.4 MB/s\u001b[0m eta \u001b[36m0:00:00\u001b[0ma \u001b[36m0:00:01\u001b[0m\n",
            "\u001b[?25hInstalling collected packages: mpmath, sympy, networkx, torch\n",
            "Successfully installed mpmath-1.3.0 networkx-3.3 sympy-1.12.1 torch-2.3.0\n",
            "Collecting transformers\n",
            "  Downloading transformers-4.41.1-py3-none-any.whl.metadata (43 kB)\n",
            "\u001b[2K     \u001b[90m━━━━━━━━━━━━━━━━━━━━━━━━━━━━━━━━━━━━━━━\u001b[0m \u001b[32m43.8/43.8 kB\u001b[0m \u001b[31m181.8 kB/s\u001b[0m eta \u001b[36m0:00:00\u001b[0ma \u001b[36m0:00:01\u001b[0m\n",
            "\u001b[?25hRequirement already satisfied: filelock in ./.venv/lib/python3.12/site-packages (from transformers) (3.14.0)\n",
            "Requirement already satisfied: huggingface-hub<1.0,>=0.23.0 in ./.venv/lib/python3.12/site-packages (from transformers) (0.23.2)\n",
            "Requirement already satisfied: numpy>=1.17 in ./.venv/lib/python3.12/site-packages (from transformers) (1.26.4)\n",
            "Requirement already satisfied: packaging>=20.0 in ./.venv/lib/python3.12/site-packages (from transformers) (24.0)\n",
            "Requirement already satisfied: pyyaml>=5.1 in ./.venv/lib/python3.12/site-packages (from transformers) (6.0.1)\n",
            "Collecting regex!=2019.12.17 (from transformers)\n",
            "  Downloading regex-2024.5.15-cp312-cp312-macosx_11_0_arm64.whl.metadata (40 kB)\n",
            "\u001b[2K     \u001b[90m━━━━━━━━━━━━━━━━━━━━━━━━━━━━━━━━━━━━━━━━\u001b[0m \u001b[32m40.9/40.9 kB\u001b[0m \u001b[31m4.4 MB/s\u001b[0m eta \u001b[36m0:00:00\u001b[0m\n",
            "\u001b[?25hRequirement already satisfied: requests in ./.venv/lib/python3.12/site-packages (from transformers) (2.32.3)\n",
            "Collecting tokenizers<0.20,>=0.19 (from transformers)\n",
            "  Downloading tokenizers-0.19.1-cp312-cp312-macosx_11_0_arm64.whl.metadata (6.7 kB)\n",
            "Collecting safetensors>=0.4.1 (from transformers)\n",
            "  Downloading safetensors-0.4.3-cp312-cp312-macosx_11_0_arm64.whl.metadata (3.8 kB)\n",
            "Requirement already satisfied: tqdm>=4.27 in ./.venv/lib/python3.12/site-packages (from transformers) (4.66.4)\n",
            "Requirement already satisfied: fsspec>=2023.5.0 in ./.venv/lib/python3.12/site-packages (from huggingface-hub<1.0,>=0.23.0->transformers) (2024.3.1)\n",
            "Requirement already satisfied: typing-extensions>=3.7.4.3 in ./.venv/lib/python3.12/site-packages (from huggingface-hub<1.0,>=0.23.0->transformers) (4.12.0)\n",
            "Requirement already satisfied: charset-normalizer<4,>=2 in ./.venv/lib/python3.12/site-packages (from requests->transformers) (3.3.2)\n",
            "Requirement already satisfied: idna<4,>=2.5 in ./.venv/lib/python3.12/site-packages (from requests->transformers) (3.7)\n",
            "Requirement already satisfied: urllib3<3,>=1.21.1 in ./.venv/lib/python3.12/site-packages (from requests->transformers) (2.2.1)\n",
            "Requirement already satisfied: certifi>=2017.4.17 in ./.venv/lib/python3.12/site-packages (from requests->transformers) (2024.2.2)\n",
            "Downloading transformers-4.41.1-py3-none-any.whl (9.1 MB)\n",
            "\u001b[2K   \u001b[90m━━━━━━━━━━━━━━━━━━━━━━━━━━━━━━━━━━━━━━━━\u001b[0m \u001b[32m9.1/9.1 MB\u001b[0m \u001b[31m6.0 MB/s\u001b[0m eta \u001b[36m0:00:00\u001b[0ma \u001b[36m0:00:01\u001b[0m0m\n",
            "\u001b[?25hDownloading regex-2024.5.15-cp312-cp312-macosx_11_0_arm64.whl (278 kB)\n",
            "\u001b[2K   \u001b[90m━━━━━━━━━━━━━━━━━━━━━━━━━━━━━━━━━━━━━━━━\u001b[0m \u001b[32m278.5/278.5 kB\u001b[0m \u001b[31m13.4 MB/s\u001b[0m eta \u001b[36m0:00:00\u001b[0m\n",
            "\u001b[?25hDownloading safetensors-0.4.3-cp312-cp312-macosx_11_0_arm64.whl (411 kB)\n",
            "\u001b[2K   \u001b[90m━━━━━━━━━━━━━━━━━━━━━━━━━━━━━━━━━━━━━━━━\u001b[0m \u001b[32m411.1/411.1 kB\u001b[0m \u001b[31m23.7 MB/s\u001b[0m eta \u001b[36m0:00:00\u001b[0m\n",
            "\u001b[?25hDownloading tokenizers-0.19.1-cp312-cp312-macosx_11_0_arm64.whl (2.4 MB)\n",
            "\u001b[2K   \u001b[90m━━━━━━━━━━━━━━━━━━━━━━━━━━━━━━━━━━━━━━━━\u001b[0m \u001b[32m2.4/2.4 MB\u001b[0m \u001b[31m20.5 MB/s\u001b[0m eta \u001b[36m0:00:00\u001b[0m00:01\u001b[0m00:01\u001b[0m\n",
            "\u001b[?25hInstalling collected packages: safetensors, regex, tokenizers, transformers\n",
            "Successfully installed regex-2024.5.15 safetensors-0.4.3 tokenizers-0.19.1 transformers-4.41.1\n"
          ]
        }
      ],
      "source": [
        "!pip install datasets\n",
        "!pip install transformers[torch]\n",
        "!pip install torch\n",
        "!pip install transformers"
      ]
    },
    {
      "cell_type": "code",
      "execution_count": 9,
      "metadata": {
        "id": "80vtRXPqFBas"
      },
      "outputs": [],
      "source": [
        "import torch\n",
        "import accelerate\n",
        "from datasets import Dataset\n",
        "from transformers import default_data_collator\n",
        "from transformers import AutoModelForMaskedLM\n",
        "from transformers import AutoTokenizer\n",
        "from transformers import DataCollatorForLanguageModeling\n",
        "from transformers import TrainingArguments\n",
        "from transformers import Trainer\n",
        "from transformers import AutoModelForSequenceClassification\n",
        "from torch.utils.data import DataLoader\n",
        "from transformers import default_data_collator\n",
        "from transformers import get_scheduler\n",
        "from transformers import pipeline\n",
        "from torch.optim import AdamW\n",
        "from accelerate import Accelerator\n",
        "from tqdm.auto import tqdm\n",
        "import math\n",
        "import collections\n",
        "import numpy as np\n",
        "import pandas as pd\n",
        "import wget\n"
      ]
    },
    {
      "cell_type": "markdown",
      "metadata": {
        "id": "ZvKQdfeCExgL"
      },
      "source": [
        "## **Corpus**"
      ]
    },
    {
      "cell_type": "code",
      "execution_count": 11,
      "metadata": {
        "colab": {
          "base_uri": "https://localhost:8080/"
        },
        "id": "fTtmB0VCEcvT",
        "outputId": "399c7c4f-7081-4c6f-cce9-ba66ef2c6039"
      },
      "outputs": [
        {
          "ename": "URLError",
          "evalue": "<urlopen error [SSL: CERTIFICATE_VERIFY_FAILED] certificate verify failed: unable to get local issuer certificate (_ssl.c:1000)>",
          "output_type": "error",
          "traceback": [
            "\u001b[0;31m---------------------------------------------------------------------------\u001b[0m",
            "\u001b[0;31mSSLCertVerificationError\u001b[0m                  Traceback (most recent call last)",
            "File \u001b[0;32m/Library/Frameworks/Python.framework/Versions/3.12/lib/python3.12/urllib/request.py:1344\u001b[0m, in \u001b[0;36mAbstractHTTPHandler.do_open\u001b[0;34m(self, http_class, req, **http_conn_args)\u001b[0m\n\u001b[1;32m   1343\u001b[0m \u001b[38;5;28;01mtry\u001b[39;00m:\n\u001b[0;32m-> 1344\u001b[0m     \u001b[43mh\u001b[49m\u001b[38;5;241;43m.\u001b[39;49m\u001b[43mrequest\u001b[49m\u001b[43m(\u001b[49m\u001b[43mreq\u001b[49m\u001b[38;5;241;43m.\u001b[39;49m\u001b[43mget_method\u001b[49m\u001b[43m(\u001b[49m\u001b[43m)\u001b[49m\u001b[43m,\u001b[49m\u001b[43m \u001b[49m\u001b[43mreq\u001b[49m\u001b[38;5;241;43m.\u001b[39;49m\u001b[43mselector\u001b[49m\u001b[43m,\u001b[49m\u001b[43m \u001b[49m\u001b[43mreq\u001b[49m\u001b[38;5;241;43m.\u001b[39;49m\u001b[43mdata\u001b[49m\u001b[43m,\u001b[49m\u001b[43m \u001b[49m\u001b[43mheaders\u001b[49m\u001b[43m,\u001b[49m\n\u001b[1;32m   1345\u001b[0m \u001b[43m              \u001b[49m\u001b[43mencode_chunked\u001b[49m\u001b[38;5;241;43m=\u001b[39;49m\u001b[43mreq\u001b[49m\u001b[38;5;241;43m.\u001b[39;49m\u001b[43mhas_header\u001b[49m\u001b[43m(\u001b[49m\u001b[38;5;124;43m'\u001b[39;49m\u001b[38;5;124;43mTransfer-encoding\u001b[39;49m\u001b[38;5;124;43m'\u001b[39;49m\u001b[43m)\u001b[49m\u001b[43m)\u001b[49m\n\u001b[1;32m   1346\u001b[0m \u001b[38;5;28;01mexcept\u001b[39;00m \u001b[38;5;167;01mOSError\u001b[39;00m \u001b[38;5;28;01mas\u001b[39;00m err: \u001b[38;5;66;03m# timeout error\u001b[39;00m\n",
            "File \u001b[0;32m/Library/Frameworks/Python.framework/Versions/3.12/lib/python3.12/http/client.py:1327\u001b[0m, in \u001b[0;36mHTTPConnection.request\u001b[0;34m(self, method, url, body, headers, encode_chunked)\u001b[0m\n\u001b[1;32m   1326\u001b[0m \u001b[38;5;250m\u001b[39m\u001b[38;5;124;03m\"\"\"Send a complete request to the server.\"\"\"\u001b[39;00m\n\u001b[0;32m-> 1327\u001b[0m \u001b[38;5;28;43mself\u001b[39;49m\u001b[38;5;241;43m.\u001b[39;49m\u001b[43m_send_request\u001b[49m\u001b[43m(\u001b[49m\u001b[43mmethod\u001b[49m\u001b[43m,\u001b[49m\u001b[43m \u001b[49m\u001b[43murl\u001b[49m\u001b[43m,\u001b[49m\u001b[43m \u001b[49m\u001b[43mbody\u001b[49m\u001b[43m,\u001b[49m\u001b[43m \u001b[49m\u001b[43mheaders\u001b[49m\u001b[43m,\u001b[49m\u001b[43m \u001b[49m\u001b[43mencode_chunked\u001b[49m\u001b[43m)\u001b[49m\n",
            "File \u001b[0;32m/Library/Frameworks/Python.framework/Versions/3.12/lib/python3.12/http/client.py:1373\u001b[0m, in \u001b[0;36mHTTPConnection._send_request\u001b[0;34m(self, method, url, body, headers, encode_chunked)\u001b[0m\n\u001b[1;32m   1372\u001b[0m     body \u001b[38;5;241m=\u001b[39m _encode(body, \u001b[38;5;124m'\u001b[39m\u001b[38;5;124mbody\u001b[39m\u001b[38;5;124m'\u001b[39m)\n\u001b[0;32m-> 1373\u001b[0m \u001b[38;5;28;43mself\u001b[39;49m\u001b[38;5;241;43m.\u001b[39;49m\u001b[43mendheaders\u001b[49m\u001b[43m(\u001b[49m\u001b[43mbody\u001b[49m\u001b[43m,\u001b[49m\u001b[43m \u001b[49m\u001b[43mencode_chunked\u001b[49m\u001b[38;5;241;43m=\u001b[39;49m\u001b[43mencode_chunked\u001b[49m\u001b[43m)\u001b[49m\n",
            "File \u001b[0;32m/Library/Frameworks/Python.framework/Versions/3.12/lib/python3.12/http/client.py:1322\u001b[0m, in \u001b[0;36mHTTPConnection.endheaders\u001b[0;34m(self, message_body, encode_chunked)\u001b[0m\n\u001b[1;32m   1321\u001b[0m     \u001b[38;5;28;01mraise\u001b[39;00m CannotSendHeader()\n\u001b[0;32m-> 1322\u001b[0m \u001b[38;5;28;43mself\u001b[39;49m\u001b[38;5;241;43m.\u001b[39;49m\u001b[43m_send_output\u001b[49m\u001b[43m(\u001b[49m\u001b[43mmessage_body\u001b[49m\u001b[43m,\u001b[49m\u001b[43m \u001b[49m\u001b[43mencode_chunked\u001b[49m\u001b[38;5;241;43m=\u001b[39;49m\u001b[43mencode_chunked\u001b[49m\u001b[43m)\u001b[49m\n",
            "File \u001b[0;32m/Library/Frameworks/Python.framework/Versions/3.12/lib/python3.12/http/client.py:1081\u001b[0m, in \u001b[0;36mHTTPConnection._send_output\u001b[0;34m(self, message_body, encode_chunked)\u001b[0m\n\u001b[1;32m   1080\u001b[0m \u001b[38;5;28;01mdel\u001b[39;00m \u001b[38;5;28mself\u001b[39m\u001b[38;5;241m.\u001b[39m_buffer[:]\n\u001b[0;32m-> 1081\u001b[0m \u001b[38;5;28;43mself\u001b[39;49m\u001b[38;5;241;43m.\u001b[39;49m\u001b[43msend\u001b[49m\u001b[43m(\u001b[49m\u001b[43mmsg\u001b[49m\u001b[43m)\u001b[49m\n\u001b[1;32m   1083\u001b[0m \u001b[38;5;28;01mif\u001b[39;00m message_body \u001b[38;5;129;01mis\u001b[39;00m \u001b[38;5;129;01mnot\u001b[39;00m \u001b[38;5;28;01mNone\u001b[39;00m:\n\u001b[1;32m   1084\u001b[0m \n\u001b[1;32m   1085\u001b[0m     \u001b[38;5;66;03m# create a consistent interface to message_body\u001b[39;00m\n",
            "File \u001b[0;32m/Library/Frameworks/Python.framework/Versions/3.12/lib/python3.12/http/client.py:1025\u001b[0m, in \u001b[0;36mHTTPConnection.send\u001b[0;34m(self, data)\u001b[0m\n\u001b[1;32m   1024\u001b[0m \u001b[38;5;28;01mif\u001b[39;00m \u001b[38;5;28mself\u001b[39m\u001b[38;5;241m.\u001b[39mauto_open:\n\u001b[0;32m-> 1025\u001b[0m     \u001b[38;5;28;43mself\u001b[39;49m\u001b[38;5;241;43m.\u001b[39;49m\u001b[43mconnect\u001b[49m\u001b[43m(\u001b[49m\u001b[43m)\u001b[49m\n\u001b[1;32m   1026\u001b[0m \u001b[38;5;28;01melse\u001b[39;00m:\n",
            "File \u001b[0;32m/Library/Frameworks/Python.framework/Versions/3.12/lib/python3.12/http/client.py:1468\u001b[0m, in \u001b[0;36mHTTPSConnection.connect\u001b[0;34m(self)\u001b[0m\n\u001b[1;32m   1466\u001b[0m     server_hostname \u001b[38;5;241m=\u001b[39m \u001b[38;5;28mself\u001b[39m\u001b[38;5;241m.\u001b[39mhost\n\u001b[0;32m-> 1468\u001b[0m \u001b[38;5;28mself\u001b[39m\u001b[38;5;241m.\u001b[39msock \u001b[38;5;241m=\u001b[39m \u001b[38;5;28;43mself\u001b[39;49m\u001b[38;5;241;43m.\u001b[39;49m\u001b[43m_context\u001b[49m\u001b[38;5;241;43m.\u001b[39;49m\u001b[43mwrap_socket\u001b[49m\u001b[43m(\u001b[49m\u001b[38;5;28;43mself\u001b[39;49m\u001b[38;5;241;43m.\u001b[39;49m\u001b[43msock\u001b[49m\u001b[43m,\u001b[49m\n\u001b[1;32m   1469\u001b[0m \u001b[43m                                      \u001b[49m\u001b[43mserver_hostname\u001b[49m\u001b[38;5;241;43m=\u001b[39;49m\u001b[43mserver_hostname\u001b[49m\u001b[43m)\u001b[49m\n",
            "File \u001b[0;32m/Library/Frameworks/Python.framework/Versions/3.12/lib/python3.12/ssl.py:455\u001b[0m, in \u001b[0;36mSSLContext.wrap_socket\u001b[0;34m(self, sock, server_side, do_handshake_on_connect, suppress_ragged_eofs, server_hostname, session)\u001b[0m\n\u001b[1;32m    449\u001b[0m \u001b[38;5;28;01mdef\u001b[39;00m \u001b[38;5;21mwrap_socket\u001b[39m(\u001b[38;5;28mself\u001b[39m, sock, server_side\u001b[38;5;241m=\u001b[39m\u001b[38;5;28;01mFalse\u001b[39;00m,\n\u001b[1;32m    450\u001b[0m                 do_handshake_on_connect\u001b[38;5;241m=\u001b[39m\u001b[38;5;28;01mTrue\u001b[39;00m,\n\u001b[1;32m    451\u001b[0m                 suppress_ragged_eofs\u001b[38;5;241m=\u001b[39m\u001b[38;5;28;01mTrue\u001b[39;00m,\n\u001b[1;32m    452\u001b[0m                 server_hostname\u001b[38;5;241m=\u001b[39m\u001b[38;5;28;01mNone\u001b[39;00m, session\u001b[38;5;241m=\u001b[39m\u001b[38;5;28;01mNone\u001b[39;00m):\n\u001b[1;32m    453\u001b[0m     \u001b[38;5;66;03m# SSLSocket class handles server_hostname encoding before it calls\u001b[39;00m\n\u001b[1;32m    454\u001b[0m     \u001b[38;5;66;03m# ctx._wrap_socket()\u001b[39;00m\n\u001b[0;32m--> 455\u001b[0m     \u001b[38;5;28;01mreturn\u001b[39;00m \u001b[38;5;28;43mself\u001b[39;49m\u001b[38;5;241;43m.\u001b[39;49m\u001b[43msslsocket_class\u001b[49m\u001b[38;5;241;43m.\u001b[39;49m\u001b[43m_create\u001b[49m\u001b[43m(\u001b[49m\n\u001b[1;32m    456\u001b[0m \u001b[43m        \u001b[49m\u001b[43msock\u001b[49m\u001b[38;5;241;43m=\u001b[39;49m\u001b[43msock\u001b[49m\u001b[43m,\u001b[49m\n\u001b[1;32m    457\u001b[0m \u001b[43m        \u001b[49m\u001b[43mserver_side\u001b[49m\u001b[38;5;241;43m=\u001b[39;49m\u001b[43mserver_side\u001b[49m\u001b[43m,\u001b[49m\n\u001b[1;32m    458\u001b[0m \u001b[43m        \u001b[49m\u001b[43mdo_handshake_on_connect\u001b[49m\u001b[38;5;241;43m=\u001b[39;49m\u001b[43mdo_handshake_on_connect\u001b[49m\u001b[43m,\u001b[49m\n\u001b[1;32m    459\u001b[0m \u001b[43m        \u001b[49m\u001b[43msuppress_ragged_eofs\u001b[49m\u001b[38;5;241;43m=\u001b[39;49m\u001b[43msuppress_ragged_eofs\u001b[49m\u001b[43m,\u001b[49m\n\u001b[1;32m    460\u001b[0m \u001b[43m        \u001b[49m\u001b[43mserver_hostname\u001b[49m\u001b[38;5;241;43m=\u001b[39;49m\u001b[43mserver_hostname\u001b[49m\u001b[43m,\u001b[49m\n\u001b[1;32m    461\u001b[0m \u001b[43m        \u001b[49m\u001b[43mcontext\u001b[49m\u001b[38;5;241;43m=\u001b[39;49m\u001b[38;5;28;43mself\u001b[39;49m\u001b[43m,\u001b[49m\n\u001b[1;32m    462\u001b[0m \u001b[43m        \u001b[49m\u001b[43msession\u001b[49m\u001b[38;5;241;43m=\u001b[39;49m\u001b[43msession\u001b[49m\n\u001b[1;32m    463\u001b[0m \u001b[43m    \u001b[49m\u001b[43m)\u001b[49m\n",
            "File \u001b[0;32m/Library/Frameworks/Python.framework/Versions/3.12/lib/python3.12/ssl.py:1046\u001b[0m, in \u001b[0;36mSSLSocket._create\u001b[0;34m(cls, sock, server_side, do_handshake_on_connect, suppress_ragged_eofs, server_hostname, context, session)\u001b[0m\n\u001b[1;32m   1045\u001b[0m             \u001b[38;5;28;01mraise\u001b[39;00m \u001b[38;5;167;01mValueError\u001b[39;00m(\u001b[38;5;124m\"\u001b[39m\u001b[38;5;124mdo_handshake_on_connect should not be specified for non-blocking sockets\u001b[39m\u001b[38;5;124m\"\u001b[39m)\n\u001b[0;32m-> 1046\u001b[0m         \u001b[38;5;28;43mself\u001b[39;49m\u001b[38;5;241;43m.\u001b[39;49m\u001b[43mdo_handshake\u001b[49m\u001b[43m(\u001b[49m\u001b[43m)\u001b[49m\n\u001b[1;32m   1047\u001b[0m \u001b[38;5;28;01mexcept\u001b[39;00m (\u001b[38;5;167;01mOSError\u001b[39;00m, \u001b[38;5;167;01mValueError\u001b[39;00m):\n",
            "File \u001b[0;32m/Library/Frameworks/Python.framework/Versions/3.12/lib/python3.12/ssl.py:1321\u001b[0m, in \u001b[0;36mSSLSocket.do_handshake\u001b[0;34m(self, block)\u001b[0m\n\u001b[1;32m   1320\u001b[0m         \u001b[38;5;28mself\u001b[39m\u001b[38;5;241m.\u001b[39msettimeout(\u001b[38;5;28;01mNone\u001b[39;00m)\n\u001b[0;32m-> 1321\u001b[0m     \u001b[38;5;28;43mself\u001b[39;49m\u001b[38;5;241;43m.\u001b[39;49m\u001b[43m_sslobj\u001b[49m\u001b[38;5;241;43m.\u001b[39;49m\u001b[43mdo_handshake\u001b[49m\u001b[43m(\u001b[49m\u001b[43m)\u001b[49m\n\u001b[1;32m   1322\u001b[0m \u001b[38;5;28;01mfinally\u001b[39;00m:\n",
            "\u001b[0;31mSSLCertVerificationError\u001b[0m: [SSL: CERTIFICATE_VERIFY_FAILED] certificate verify failed: unable to get local issuer certificate (_ssl.c:1000)",
            "\nDuring handling of the above exception, another exception occurred:\n",
            "\u001b[0;31mURLError\u001b[0m                                  Traceback (most recent call last)",
            "Cell \u001b[0;32mIn[11], line 1\u001b[0m\n\u001b[0;32m----> 1\u001b[0m \u001b[43mwget\u001b[49m\u001b[38;5;241;43m.\u001b[39;49m\u001b[43mdownload\u001b[49m\u001b[43m(\u001b[49m\u001b[38;5;124;43m\"\u001b[39;49m\u001b[38;5;124;43mhttps://attack.mitre.org/docs/enterprise-attack-v15.1/enterprise-attack-v15.1-tactics.xlsx\u001b[39;49m\u001b[38;5;124;43m\"\u001b[39;49m\u001b[43m)\u001b[49m\n\u001b[1;32m      2\u001b[0m wget\u001b[38;5;241m.\u001b[39mdownload(\u001b[38;5;124m\"\u001b[39m\u001b[38;5;124mhttps://attack.mitre.org/docs/enterprise-attack-v15.1/enterprise-attack-v15.1-techniques.xlsx\u001b[39m\u001b[38;5;124m\"\u001b[39m)\n",
            "File \u001b[0;32m~/H_LM_ATT&CK/.venv/lib/python3.12/site-packages/wget.py:526\u001b[0m, in \u001b[0;36mdownload\u001b[0;34m(url, out, bar)\u001b[0m\n\u001b[1;32m    524\u001b[0m \u001b[38;5;28;01melse\u001b[39;00m:\n\u001b[1;32m    525\u001b[0m     binurl \u001b[38;5;241m=\u001b[39m url\n\u001b[0;32m--> 526\u001b[0m (tmpfile, headers) \u001b[38;5;241m=\u001b[39m \u001b[43mulib\u001b[49m\u001b[38;5;241;43m.\u001b[39;49m\u001b[43murlretrieve\u001b[49m\u001b[43m(\u001b[49m\u001b[43mbinurl\u001b[49m\u001b[43m,\u001b[49m\u001b[43m \u001b[49m\u001b[43mtmpfile\u001b[49m\u001b[43m,\u001b[49m\u001b[43m \u001b[49m\u001b[43mcallback\u001b[49m\u001b[43m)\u001b[49m\n\u001b[1;32m    527\u001b[0m filename \u001b[38;5;241m=\u001b[39m detect_filename(url, out, headers)\n\u001b[1;32m    528\u001b[0m \u001b[38;5;28;01mif\u001b[39;00m outdir:\n",
            "File \u001b[0;32m/Library/Frameworks/Python.framework/Versions/3.12/lib/python3.12/urllib/request.py:240\u001b[0m, in \u001b[0;36murlretrieve\u001b[0;34m(url, filename, reporthook, data)\u001b[0m\n\u001b[1;32m    223\u001b[0m \u001b[38;5;250m\u001b[39m\u001b[38;5;124;03m\"\"\"\u001b[39;00m\n\u001b[1;32m    224\u001b[0m \u001b[38;5;124;03mRetrieve a URL into a temporary location on disk.\u001b[39;00m\n\u001b[1;32m    225\u001b[0m \n\u001b[0;32m   (...)\u001b[0m\n\u001b[1;32m    236\u001b[0m \u001b[38;5;124;03mdata file as well as the resulting HTTPMessage object.\u001b[39;00m\n\u001b[1;32m    237\u001b[0m \u001b[38;5;124;03m\"\"\"\u001b[39;00m\n\u001b[1;32m    238\u001b[0m url_type, path \u001b[38;5;241m=\u001b[39m _splittype(url)\n\u001b[0;32m--> 240\u001b[0m \u001b[38;5;28;01mwith\u001b[39;00m contextlib\u001b[38;5;241m.\u001b[39mclosing(\u001b[43murlopen\u001b[49m\u001b[43m(\u001b[49m\u001b[43murl\u001b[49m\u001b[43m,\u001b[49m\u001b[43m \u001b[49m\u001b[43mdata\u001b[49m\u001b[43m)\u001b[49m) \u001b[38;5;28;01mas\u001b[39;00m fp:\n\u001b[1;32m    241\u001b[0m     headers \u001b[38;5;241m=\u001b[39m fp\u001b[38;5;241m.\u001b[39minfo()\n\u001b[1;32m    243\u001b[0m     \u001b[38;5;66;03m# Just return the local path and the \"headers\" for file://\u001b[39;00m\n\u001b[1;32m    244\u001b[0m     \u001b[38;5;66;03m# URLs. No sense in performing a copy unless requested.\u001b[39;00m\n",
            "File \u001b[0;32m/Library/Frameworks/Python.framework/Versions/3.12/lib/python3.12/urllib/request.py:215\u001b[0m, in \u001b[0;36murlopen\u001b[0;34m(url, data, timeout, cafile, capath, cadefault, context)\u001b[0m\n\u001b[1;32m    213\u001b[0m \u001b[38;5;28;01melse\u001b[39;00m:\n\u001b[1;32m    214\u001b[0m     opener \u001b[38;5;241m=\u001b[39m _opener\n\u001b[0;32m--> 215\u001b[0m \u001b[38;5;28;01mreturn\u001b[39;00m \u001b[43mopener\u001b[49m\u001b[38;5;241;43m.\u001b[39;49m\u001b[43mopen\u001b[49m\u001b[43m(\u001b[49m\u001b[43murl\u001b[49m\u001b[43m,\u001b[49m\u001b[43m \u001b[49m\u001b[43mdata\u001b[49m\u001b[43m,\u001b[49m\u001b[43m \u001b[49m\u001b[43mtimeout\u001b[49m\u001b[43m)\u001b[49m\n",
            "File \u001b[0;32m/Library/Frameworks/Python.framework/Versions/3.12/lib/python3.12/urllib/request.py:515\u001b[0m, in \u001b[0;36mOpenerDirector.open\u001b[0;34m(self, fullurl, data, timeout)\u001b[0m\n\u001b[1;32m    512\u001b[0m     req \u001b[38;5;241m=\u001b[39m meth(req)\n\u001b[1;32m    514\u001b[0m sys\u001b[38;5;241m.\u001b[39maudit(\u001b[38;5;124m'\u001b[39m\u001b[38;5;124murllib.Request\u001b[39m\u001b[38;5;124m'\u001b[39m, req\u001b[38;5;241m.\u001b[39mfull_url, req\u001b[38;5;241m.\u001b[39mdata, req\u001b[38;5;241m.\u001b[39mheaders, req\u001b[38;5;241m.\u001b[39mget_method())\n\u001b[0;32m--> 515\u001b[0m response \u001b[38;5;241m=\u001b[39m \u001b[38;5;28;43mself\u001b[39;49m\u001b[38;5;241;43m.\u001b[39;49m\u001b[43m_open\u001b[49m\u001b[43m(\u001b[49m\u001b[43mreq\u001b[49m\u001b[43m,\u001b[49m\u001b[43m \u001b[49m\u001b[43mdata\u001b[49m\u001b[43m)\u001b[49m\n\u001b[1;32m    517\u001b[0m \u001b[38;5;66;03m# post-process response\u001b[39;00m\n\u001b[1;32m    518\u001b[0m meth_name \u001b[38;5;241m=\u001b[39m protocol\u001b[38;5;241m+\u001b[39m\u001b[38;5;124m\"\u001b[39m\u001b[38;5;124m_response\u001b[39m\u001b[38;5;124m\"\u001b[39m\n",
            "File \u001b[0;32m/Library/Frameworks/Python.framework/Versions/3.12/lib/python3.12/urllib/request.py:532\u001b[0m, in \u001b[0;36mOpenerDirector._open\u001b[0;34m(self, req, data)\u001b[0m\n\u001b[1;32m    529\u001b[0m     \u001b[38;5;28;01mreturn\u001b[39;00m result\n\u001b[1;32m    531\u001b[0m protocol \u001b[38;5;241m=\u001b[39m req\u001b[38;5;241m.\u001b[39mtype\n\u001b[0;32m--> 532\u001b[0m result \u001b[38;5;241m=\u001b[39m \u001b[38;5;28;43mself\u001b[39;49m\u001b[38;5;241;43m.\u001b[39;49m\u001b[43m_call_chain\u001b[49m\u001b[43m(\u001b[49m\u001b[38;5;28;43mself\u001b[39;49m\u001b[38;5;241;43m.\u001b[39;49m\u001b[43mhandle_open\u001b[49m\u001b[43m,\u001b[49m\u001b[43m \u001b[49m\u001b[43mprotocol\u001b[49m\u001b[43m,\u001b[49m\u001b[43m \u001b[49m\u001b[43mprotocol\u001b[49m\u001b[43m \u001b[49m\u001b[38;5;241;43m+\u001b[39;49m\n\u001b[1;32m    533\u001b[0m \u001b[43m                          \u001b[49m\u001b[38;5;124;43m'\u001b[39;49m\u001b[38;5;124;43m_open\u001b[39;49m\u001b[38;5;124;43m'\u001b[39;49m\u001b[43m,\u001b[49m\u001b[43m \u001b[49m\u001b[43mreq\u001b[49m\u001b[43m)\u001b[49m\n\u001b[1;32m    534\u001b[0m \u001b[38;5;28;01mif\u001b[39;00m result:\n\u001b[1;32m    535\u001b[0m     \u001b[38;5;28;01mreturn\u001b[39;00m result\n",
            "File \u001b[0;32m/Library/Frameworks/Python.framework/Versions/3.12/lib/python3.12/urllib/request.py:492\u001b[0m, in \u001b[0;36mOpenerDirector._call_chain\u001b[0;34m(self, chain, kind, meth_name, *args)\u001b[0m\n\u001b[1;32m    490\u001b[0m \u001b[38;5;28;01mfor\u001b[39;00m handler \u001b[38;5;129;01min\u001b[39;00m handlers:\n\u001b[1;32m    491\u001b[0m     func \u001b[38;5;241m=\u001b[39m \u001b[38;5;28mgetattr\u001b[39m(handler, meth_name)\n\u001b[0;32m--> 492\u001b[0m     result \u001b[38;5;241m=\u001b[39m \u001b[43mfunc\u001b[49m\u001b[43m(\u001b[49m\u001b[38;5;241;43m*\u001b[39;49m\u001b[43margs\u001b[49m\u001b[43m)\u001b[49m\n\u001b[1;32m    493\u001b[0m     \u001b[38;5;28;01mif\u001b[39;00m result \u001b[38;5;129;01mis\u001b[39;00m \u001b[38;5;129;01mnot\u001b[39;00m \u001b[38;5;28;01mNone\u001b[39;00m:\n\u001b[1;32m    494\u001b[0m         \u001b[38;5;28;01mreturn\u001b[39;00m result\n",
            "File \u001b[0;32m/Library/Frameworks/Python.framework/Versions/3.12/lib/python3.12/urllib/request.py:1392\u001b[0m, in \u001b[0;36mHTTPSHandler.https_open\u001b[0;34m(self, req)\u001b[0m\n\u001b[1;32m   1391\u001b[0m \u001b[38;5;28;01mdef\u001b[39;00m \u001b[38;5;21mhttps_open\u001b[39m(\u001b[38;5;28mself\u001b[39m, req):\n\u001b[0;32m-> 1392\u001b[0m     \u001b[38;5;28;01mreturn\u001b[39;00m \u001b[38;5;28;43mself\u001b[39;49m\u001b[38;5;241;43m.\u001b[39;49m\u001b[43mdo_open\u001b[49m\u001b[43m(\u001b[49m\u001b[43mhttp\u001b[49m\u001b[38;5;241;43m.\u001b[39;49m\u001b[43mclient\u001b[49m\u001b[38;5;241;43m.\u001b[39;49m\u001b[43mHTTPSConnection\u001b[49m\u001b[43m,\u001b[49m\u001b[43m \u001b[49m\u001b[43mreq\u001b[49m\u001b[43m,\u001b[49m\n\u001b[1;32m   1393\u001b[0m \u001b[43m                        \u001b[49m\u001b[43mcontext\u001b[49m\u001b[38;5;241;43m=\u001b[39;49m\u001b[38;5;28;43mself\u001b[39;49m\u001b[38;5;241;43m.\u001b[39;49m\u001b[43m_context\u001b[49m\u001b[43m)\u001b[49m\n",
            "File \u001b[0;32m/Library/Frameworks/Python.framework/Versions/3.12/lib/python3.12/urllib/request.py:1347\u001b[0m, in \u001b[0;36mAbstractHTTPHandler.do_open\u001b[0;34m(self, http_class, req, **http_conn_args)\u001b[0m\n\u001b[1;32m   1344\u001b[0m         h\u001b[38;5;241m.\u001b[39mrequest(req\u001b[38;5;241m.\u001b[39mget_method(), req\u001b[38;5;241m.\u001b[39mselector, req\u001b[38;5;241m.\u001b[39mdata, headers,\n\u001b[1;32m   1345\u001b[0m                   encode_chunked\u001b[38;5;241m=\u001b[39mreq\u001b[38;5;241m.\u001b[39mhas_header(\u001b[38;5;124m'\u001b[39m\u001b[38;5;124mTransfer-encoding\u001b[39m\u001b[38;5;124m'\u001b[39m))\n\u001b[1;32m   1346\u001b[0m     \u001b[38;5;28;01mexcept\u001b[39;00m \u001b[38;5;167;01mOSError\u001b[39;00m \u001b[38;5;28;01mas\u001b[39;00m err: \u001b[38;5;66;03m# timeout error\u001b[39;00m\n\u001b[0;32m-> 1347\u001b[0m         \u001b[38;5;28;01mraise\u001b[39;00m URLError(err)\n\u001b[1;32m   1348\u001b[0m     r \u001b[38;5;241m=\u001b[39m h\u001b[38;5;241m.\u001b[39mgetresponse()\n\u001b[1;32m   1349\u001b[0m \u001b[38;5;28;01mexcept\u001b[39;00m:\n",
            "\u001b[0;31mURLError\u001b[0m: <urlopen error [SSL: CERTIFICATE_VERIFY_FAILED] certificate verify failed: unable to get local issuer certificate (_ssl.c:1000)>"
          ]
        }
      ],
      "source": [
        "!wget https://attack.mitre.org/docs/enterprise-attack-v15.1/enterprise-attack-v15.1-tactics.xlsx\n",
        "!wget https://attack.mitre.org/docs/enterprise-attack-v15.1/enterprise-attack-v15.1-techniques.xlsx"
      ]
    },
    {
      "cell_type": "code",
      "execution_count": 5,
      "metadata": {
        "id": "EuGEWTg2ETBC"
      },
      "outputs": [
        {
          "ename": "NameError",
          "evalue": "name 'pd' is not defined",
          "output_type": "error",
          "traceback": [
            "\u001b[0;31m---------------------------------------------------------------------------\u001b[0m",
            "\u001b[0;31mNameError\u001b[0m                                 Traceback (most recent call last)",
            "Cell \u001b[0;32mIn[5], line 1\u001b[0m\n\u001b[0;32m----> 1\u001b[0m tactics_df \u001b[38;5;241m=\u001b[39m \u001b[43mpd\u001b[49m\u001b[38;5;241m.\u001b[39mread_excel(\u001b[38;5;124m'\u001b[39m\u001b[38;5;124menterprise-attack-v15.1-tactics.xlsx\u001b[39m\u001b[38;5;124m'\u001b[39m)\n\u001b[1;32m      2\u001b[0m techniques_df \u001b[38;5;241m=\u001b[39m pd\u001b[38;5;241m.\u001b[39mread_excel(\u001b[38;5;124m'\u001b[39m\u001b[38;5;124menterprise-attack-v15.1-techniques.xlsx\u001b[39m\u001b[38;5;124m'\u001b[39m)\n",
            "\u001b[0;31mNameError\u001b[0m: name 'pd' is not defined"
          ]
        }
      ],
      "source": [
        "tactics_df = pd.read_excel('enterprise-attack-v15.1-tactics.xlsx')\n",
        "techniques_df = pd.read_excel('enterprise-attack-v15.1-techniques.xlsx')"
      ]
    },
    {
      "cell_type": "code",
      "execution_count": null,
      "metadata": {
        "id": "NVGevNs9GC0Q"
      },
      "outputs": [],
      "source": [
        "tactics_filtered = tactics_df[['name', 'description']]\n",
        "techniques_filtered = techniques_df[['name', 'description']]\n",
        "tactics_techniques_df = pd.concat([tactics_filtered, techniques_filtered], ignore_index=True)\n"
      ]
    },
    {
      "cell_type": "markdown",
      "metadata": {
        "id": "BYWs9SM6HQ4D"
      },
      "source": [
        "### **資料集範例**"
      ]
    },
    {
      "cell_type": "code",
      "execution_count": null,
      "metadata": {
        "colab": {
          "base_uri": "https://localhost:8080/"
        },
        "id": "17xjyJGzHJCe",
        "outputId": "a78f1e1c-3b3b-4d7b-cc56-88af49e0e619"
      },
      "outputs": [
        {
          "name": "stdout",
          "output_type": "stream",
          "text": [
            "\n",
            "'>>> Name: Virtualization/Sandbox Evasion'\n",
            "'>>> Description: Adversaries may employ various means to detect and avoid virtualization and analysis environments. This may include changing behaviors based on the results of checks for the presence of artifacts indicative of a virtual machine environment (VME) or sandbox. If the adversary detects a VME, they may alter their malware to disengage from the victim or conceal the core functions of the implant. They may also search for VME artifacts before dropping secondary or additional payloads. Adversaries may use the information learned from [Virtualization/Sandbox Evasion](https://attack.mitre.org/techniques/T1497) during automated discovery to shape follow-on behaviors.(Citation: Deloitte Environment Awareness)\n",
            "\n",
            "Adversaries may use several methods to accomplish [Virtualization/Sandbox Evasion](https://attack.mitre.org/techniques/T1497) such as checking for security monitoring tools (e.g., Sysinternals, Wireshark, etc.) or other system artifacts associated with analysis or virtualization. Adversaries may also check for legitimate user activity to help determine if it is in an analysis environment. Additional methods include use of sleep timers or loops within malware code to avoid operating within a temporary sandbox.(Citation: Unit 42 Pirpi July 2015)\n",
            "\n",
            "'\n",
            "\n",
            "'>>> Name: External Remote Services'\n",
            "'>>> Description: Adversaries may leverage external-facing remote services to initially access and/or persist within a network. Remote services such as VPNs, Citrix, and other access mechanisms allow users to connect to internal enterprise network resources from external locations. There are often remote service gateways that manage connections and credential authentication for these services. Services such as [Windows Remote Management](https://attack.mitre.org/techniques/T1021/006) and [VNC](https://attack.mitre.org/techniques/T1021/005) can also be used externally.(Citation: MacOS VNC software for Remote Desktop)\n",
            "\n",
            "Access to [Valid Accounts](https://attack.mitre.org/techniques/T1078) to use the service is often a requirement, which could be obtained through credential pharming or by obtaining the credentials from users after compromising the enterprise network.(Citation: Volexity Virtual Private Keylogging) Access to remote services may be used as a redundant or persistent access mechanism during an operation.\n",
            "\n",
            "Access may also be gained through an exposed service that doesn’t require authentication. In containerized environments, this may include an exposed Docker API, Kubernetes API server, kubelet, or web application such as the Kubernetes dashboard.(Citation: Trend Micro Exposed Docker Server)(Citation: Unit 42 Hildegard Malware)'\n",
            "\n",
            "'>>> Name: Exploitation for Client Execution'\n",
            "'>>> Description: Adversaries may exploit software vulnerabilities in client applications to execute code. Vulnerabilities can exist in software due to unsecure coding practices that can lead to unanticipated behavior. Adversaries can take advantage of certain vulnerabilities through targeted exploitation for the purpose of arbitrary code execution. Oftentimes the most valuable exploits to an offensive toolkit are those that can be used to obtain code execution on a remote system because they can be used to gain access to that system. Users will expect to see files related to the applications they commonly used to do work, so they are a useful target for exploit research and development because of their high utility.\n",
            "\n",
            "Several types exist:\n",
            "\n",
            "### Browser-based Exploitation\n",
            "\n",
            "Web browsers are a common target through [Drive-by Compromise](https://attack.mitre.org/techniques/T1189) and [Spearphishing Link](https://attack.mitre.org/techniques/T1566/002). Endpoint systems may be compromised through normal web browsing or from certain users being targeted by links in spearphishing emails to adversary controlled sites used to exploit the web browser. These often do not require an action by the user for the exploit to be executed.\n",
            "\n",
            "### Office Applications\n",
            "\n",
            "Common office and productivity applications such as Microsoft Office are also targeted through [Phishing](https://attack.mitre.org/techniques/T1566). Malicious files will be transmitted directly as attachments or through links to download them. These require the user to open the document or file for the exploit to run.\n",
            "\n",
            "### Common Third-party Applications\n",
            "\n",
            "Other applications that are commonly seen or are part of the software deployed in a target network may also be used for exploitation. Applications such as Adobe Reader and Flash, which are common in enterprise environments, have been routinely targeted by adversaries attempting to gain access to systems. Depending on the software and nature of the vulnerability, some may be exploited in the browser or require the user to open a file. For instance, some Flash exploits have been delivered as objects within Microsoft Office documents.'\n"
          ]
        }
      ],
      "source": [
        "sample = tactics_techniques_df.sample(n=3, random_state = 42)\n",
        "for index, row in sample.iterrows():\n",
        "    print(f\"\\n'>>> Name: {row['name']}'\")\n",
        "    print(f\"'>>> Description: {row['description']}'\")"
      ]
    },
    {
      "cell_type": "markdown",
      "metadata": {
        "id": "sx5XgsSrGJfA"
      },
      "source": [
        "## **使用 AutoModelForMaskedLM 加載 DistilBERT**"
      ]
    },
    {
      "cell_type": "code",
      "execution_count": null,
      "metadata": {
        "colab": {
          "base_uri": "https://localhost:8080/"
        },
        "id": "3eKxoVW-GHZH",
        "outputId": "a7dc12ac-6593-4268-ceb7-68ebfb1b541b"
      },
      "outputs": [
        {
          "name": "stdout",
          "output_type": "stream",
          "text": [
            "'>>> DistilBERT number of parameters: 67M'\n",
            "'>>> BERT number of parameters: 110M'\n"
          ]
        }
      ],
      "source": [
        "model_checkpoint = \"distilbert-base-uncased\"\n",
        "model = AutoModelForMaskedLM.from_pretrained(model_checkpoint)\n",
        "\n",
        "# 檢查 DistilBERT 模型有多少參數，並與 BERT 比較\n",
        "distilbert_num_parameters = model.num_parameters() / 1_000_000\n",
        "print(f\"'>>> DistilBERT number of parameters: {round(distilbert_num_parameters)}M'\")\n",
        "print(f\"'>>> BERT number of parameters: 110M'\")"
      ]
    },
    {
      "cell_type": "code",
      "execution_count": null,
      "metadata": {
        "id": "YoaA0Rq4Gf-x"
      },
      "outputs": [],
      "source": [
        "# 加載 tokenizer 用來將文字資料轉成數字格式\n",
        "tokenizer = AutoTokenizer.from_pretrained(model_checkpoint)"
      ]
    },
    {
      "cell_type": "markdown",
      "metadata": {
        "id": "3Dy_C8JmG2fa"
      },
      "source": [
        "### **範例：\"This is a great [MASK].\", 將 [MASK] 替換成前 5 個 candidates**\n",
        "\n"
      ]
    },
    {
      "cell_type": "code",
      "execution_count": null,
      "metadata": {
        "colab": {
          "base_uri": "https://localhost:8080/"
        },
        "id": "61lnq5OFGtnz",
        "outputId": "b36fabc8-e4c6-4e30-a8fb-9e31d44b2b62"
      },
      "outputs": [
        {
          "name": "stdout",
          "output_type": "stream",
          "text": [
            "'>>> This is a great deal.'\n",
            "'>>> This is a great success.'\n",
            "'>>> This is a great adventure.'\n",
            "'>>> This is a great idea.'\n",
            "'>>> This is a great feat.'\n"
          ]
        }
      ],
      "source": [
        "text = \"This is a great [MASK].\"\n",
        "\n",
        "inputs = tokenizer(text, return_tensors=\"pt\") # pytorch 的 tensor 形式\n",
        "# forward operation 獲得所有 token 的 logits\n",
        "token_logits = model(**inputs).logits\n",
        "# Find the location of [MASK] and extract its logits\n",
        "mask_token_index = torch.where(inputs[\"input_ids\"] == tokenizer.mask_token_id)[1]\n",
        "mask_token_logits = token_logits[0, mask_token_index, :]\n",
        "# Pick the [MASK] candidates with the highest logits\n",
        "top_5_tokens = torch.topk(mask_token_logits, 5, dim=1).indices[0].tolist()\n",
        "\n",
        "# 將 [MASK] 替換成前 5 個 candidates\n",
        "for token in top_5_tokens:\n",
        "    print(f\"'>>> {text.replace(tokenizer.mask_token, tokenizer.decode([token]))}'\")"
      ]
    },
    {
      "cell_type": "markdown",
      "metadata": {
        "id": "v6Z_tWnRHa0O"
      },
      "source": [
        "### **定義 tokenize_function**"
      ]
    },
    {
      "cell_type": "code",
      "execution_count": null,
      "metadata": {
        "id": "AqC4G0ytHd0d"
      },
      "outputs": [],
      "source": [
        "def tokenize_function(examples):\n",
        "    result = tokenizer(examples[\"description\"])\n",
        "    if tokenizer.is_fast: # check if tokenizers 是不是快速的版本（使用 rust ）\n",
        "        print(tokenizer.is_fast)\n",
        "        # 加入 word_ids 讓單詞能夠對應\n",
        "        result[\"word_ids\"] = [result.word_ids(i) for i in range(len(result[\"input_ids\"]))]\n",
        "    return result"
      ]
    },
    {
      "cell_type": "code",
      "execution_count": null,
      "metadata": {
        "colab": {
          "base_uri": "https://localhost:8080/",
          "height": 171,
          "referenced_widgets": [
            "0a6d972b64904ea693433719de1db226",
            "dee37d4873574327a6dc109e320c679c",
            "78da924608bf4818a60e0ec216943d23",
            "49cc98fcc5d54636859ac5efb6a10dbc",
            "1b2ef14a63be4bd4a72246659184420c",
            "06e03a1669cc4f3997f5298ddd7ae007",
            "917c5727646f4ef4a81148275b987b44",
            "becc4abf971c4c67b1a5e4d6bf91875b",
            "5fe2d8e426f34562943790377674ccc5",
            "c8e658bd8e6f4c748e70f8ed70a629d8",
            "72714de3d6e140f99ad5adb3c3c3c487"
          ]
        },
        "id": "KcHhpC4nHje_",
        "outputId": "115e38df-b194-486d-c51b-052ad1603c75"
      },
      "outputs": [
        {
          "data": {
            "application/vnd.jupyter.widget-view+json": {
              "model_id": "0a6d972b64904ea693433719de1db226",
              "version_major": 2,
              "version_minor": 0
            },
            "text/plain": [
              "Map:   0%|          | 0/651 [00:00<?, ? examples/s]"
            ]
          },
          "metadata": {},
          "output_type": "display_data"
        },
        {
          "name": "stderr",
          "output_type": "stream",
          "text": [
            "Token indices sequence length is longer than the specified maximum sequence length for this model (592 > 512). Running this sequence through the model will result in indexing errors\n"
          ]
        },
        {
          "name": "stdout",
          "output_type": "stream",
          "text": [
            "True\n",
            "Dataset({\n",
            "    features: ['input_ids', 'attention_mask', 'word_ids'],\n",
            "    num_rows: 651\n",
            "})\n"
          ]
        }
      ],
      "source": [
        "dataset = Dataset.from_pandas(tactics_techniques_df)\n",
        "tokenized_datasets = dataset.map(\n",
        "    tokenize_function, batched=True, remove_columns=[\"name\", \"description\"]\n",
        ")\n",
        "print(tokenized_datasets)"
      ]
    },
    {
      "cell_type": "code",
      "execution_count": null,
      "metadata": {
        "colab": {
          "base_uri": "https://localhost:8080/"
        },
        "id": "woS-ae1RHnsN",
        "outputId": "c4f95b60-9371-48e8-f95e-e8c83a9b144e"
      },
      "outputs": [
        {
          "data": {
            "text/plain": [
              "512"
            ]
          },
          "execution_count": 98,
          "metadata": {},
          "output_type": "execute_result"
        }
      ],
      "source": [
        "# tokenizer 和模型能夠接受的最大標記數量，超過這個長度在輸入時需要被截斷，這可以避免模型出錯或性能下降\n",
        "tokenizer.model_max_length"
      ]
    },
    {
      "cell_type": "code",
      "execution_count": null,
      "metadata": {
        "id": "NVQ-LLYwHvYA"
      },
      "outputs": [],
      "source": [
        "chunk_size = 128"
      ]
    },
    {
      "cell_type": "markdown",
      "metadata": {
        "id": "iNTLo2JPH0KS"
      },
      "source": [
        "### **定義 group_texts**"
      ]
    },
    {
      "cell_type": "code",
      "execution_count": null,
      "metadata": {
        "id": "qmOJ64DmH4q-"
      },
      "outputs": [],
      "source": [
        "def group_texts(examples):\n",
        "    # Concatenate all texts\n",
        "    concatenated_examples = {k: sum(examples[k], []) for k in examples.keys()}\n",
        "    # Compute length of concatenated texts\n",
        "    total_length = len(concatenated_examples[list(examples.keys())[0]])\n",
        "    # We drop the last chunk if it's smaller than chunk_size\n",
        "    total_length = (total_length // chunk_size) * chunk_size\n",
        "    # Split by chunks of max_len\n",
        "    result = {\n",
        "        k: [t[i : i + chunk_size] for i in range(0, total_length, chunk_size)]\n",
        "        for k, t in concatenated_examples.items()\n",
        "    }\n",
        "    # 新增 labels 作為訓練時的標籤\n",
        "    result[\"labels\"] = result[\"input_ids\"].copy()\n",
        "    return result"
      ]
    },
    {
      "cell_type": "code",
      "execution_count": null,
      "metadata": {
        "colab": {
          "base_uri": "https://localhost:8080/",
          "height": 117,
          "referenced_widgets": [
            "d7df7dd4392243118cc136312edc7439",
            "7791e0ed78bc4232834c320a629b9ff2",
            "3d356255a3b340f4a9bba1ccd1c2c6a5",
            "d78185ee22174d22a90df7a0cb7786b2",
            "aba6aac0a6d7400bb4504bc416d19267",
            "e485cd12541645d1b083542efa03c5d2",
            "b1d2bca448764c9a8a304dcc615c20bb",
            "9cecc874b91d433dbc576fb820d72f8d",
            "f98261d3868142948cfc58c3416af9e3",
            "124cfa46100c4e5cb00787c6e6059f56",
            "4459b96074944ee49aadf009118994a1"
          ]
        },
        "id": "lnWctbWsH89u",
        "outputId": "8a336751-7216-46b6-a82d-324cdc2aaf69"
      },
      "outputs": [
        {
          "data": {
            "application/vnd.jupyter.widget-view+json": {
              "model_id": "d7df7dd4392243118cc136312edc7439",
              "version_major": 2,
              "version_minor": 0
            },
            "text/plain": [
              "Map:   0%|          | 0/651 [00:00<?, ? examples/s]"
            ]
          },
          "metadata": {},
          "output_type": "display_data"
        },
        {
          "data": {
            "text/plain": [
              "Dataset({\n",
              "    features: ['input_ids', 'attention_mask', 'word_ids', 'labels'],\n",
              "    num_rows: 1604\n",
              "})"
            ]
          },
          "execution_count": 101,
          "metadata": {},
          "output_type": "execute_result"
        }
      ],
      "source": [
        "# 將原本的tokenized_datasets 分chunk\n",
        "tt_datasets = tokenized_datasets.map(group_texts, batched=True)\n",
        "tt_datasets"
      ]
    },
    {
      "cell_type": "code",
      "execution_count": null,
      "metadata": {
        "colab": {
          "base_uri": "https://localhost:8080/",
          "height": 154
        },
        "id": "UWxWt_8nH_RI",
        "outputId": "46769cc3-2ccd-4aa7-a27b-0b670e78594d"
      },
      "outputs": [
        {
          "data": {
            "application/vnd.google.colaboratory.intrinsic+json": {
              "type": "string"
            },
            "text/plain": [
              "'their control within a victim network. adversaries commonly attempt to mimic normal, expected traffic to avoid detection. there are many ways an adversary can establish command and control with various levels of stealth depending on the victim ’ s network structure and defenses. [SEP] [CLS] the adversary is trying to steal account names and passwords. credential access consists of techniques for stealing credentials like account names and passwords. techniques used to get credentials include keylogging or credential dumping. using legitimate credentials can give adversaries access to systems, make them harder to detect, and provide the opportunity to create more accounts to help achieve their goals. [SEP]'"
            ]
          },
          "execution_count": 102,
          "metadata": {},
          "output_type": "execute_result"
        }
      ],
      "source": [
        "# 這邊抽了資料集的第二列來檢查分塊效果\n",
        "tokenizer.decode(tt_datasets[1][\"input_ids\"])"
      ]
    },
    {
      "cell_type": "markdown",
      "metadata": {
        "id": "gn2DH8YxHira"
      },
      "source": [
        "### **Random MASK**"
      ]
    },
    {
      "cell_type": "code",
      "execution_count": null,
      "metadata": {
        "colab": {
          "base_uri": "https://localhost:8080/"
        },
        "id": "cr1IpyemIJOt",
        "outputId": "9b7ef9aa-a5b7-475b-965c-d6f364459415"
      },
      "outputs": [
        {
          "name": "stdout",
          "output_type": "stream",
          "text": [
            "\n",
            "'>>> [CLS] the adversary is trying [MASK] gather data of interest to their goal. collection consists of techniques struckversaries may use to gather information and the sources information is collected from that are relevant to following through on the adversary's [MASK]. frequently, [MASK] next goal after [MASK] data [MASK] [MASK] steal [MASK] ex [MASK] [MASK] [MASK] ) the data theodore common target sources include various drive types, [MASK]s, audio, video, and email. common collection methods include capturing screenshots and keyboard input. [SEP] [CLS] [MASK] adversary dinner trying [MASK] communicate with compromised systems [MASK] control them. command and control consists [MASK] techniques that adversaries may use to communicate with systems 313'\n",
            "\n",
            "'>>> their control within a victim network [MASK] adversaries [MASK] attempt [MASK] mimic normal, expected traffic to avoid detection [MASK] there are [MASK] ways [MASK] [MASK] can establish command and assure [MASK] various levels [MASK] stealth [MASK] on the victim ’ s network structure and defenses. [SEP] [CLS] the adversary is trying to steal account names and [MASK]s [MASK] crede [unused305] access consists of techniques for stealing credentials like account names and passwords. techniques used to [MASK] credentials include keylogging or cr [MASK] craven dumping [MASK] using [MASK] [MASK] can give advers [MASK] access to systems, make them harder to detect, and provide the opportunity to create [MASK] [MASK] to help achieve their goals. [SEP]'\n"
          ]
        }
      ],
      "source": [
        "data_collator = DataCollatorForLanguageModeling(tokenizer=tokenizer, mlm_probability=0.15) # 0.15 的token 將被MASK\n",
        "\n",
        "samples = [tt_datasets[i] for i in range(2)]\n",
        "for sample in samples:\n",
        "    _ = sample.pop(\"word_ids\")\n",
        "\n",
        "for chunk in data_collator(samples)[\"input_ids\"]:\n",
        "    print(f\"\\n'>>> {tokenizer.decode(chunk)}'\")\n",
        "\n",
        "#[CLS]: Classification Token 放在輸入序列的開頭\n",
        "#[SEP]: Separator Token 用在兩個句子分格或結束標記\n",
        "#[MASK]:被隨機 mask 的 token"
      ]
    },
    {
      "cell_type": "code",
      "execution_count": null,
      "metadata": {
        "id": "bpUu-CJkIP98"
      },
      "outputs": [],
      "source": [
        "wwm_probability = 0.2\n",
        "\n",
        "# 總之下面的程式碼在做這件事：為每個輸入樣本中的token 創建單詞到token index 的 mapping\n",
        "# 隨機進行 mask\n",
        "# 將 mask 的單詞替換成 [MASK]\n",
        "# 傳出處理後的樣本可以做訓練了\n",
        "\n",
        "def whole_word_masking_data_collator(features):\n",
        "    for feature in features:\n",
        "        word_ids = feature.pop(\"word_ids\") # 用於確定每個token 屬於哪個單詞\n",
        "\n",
        "        # Create a map between words and corresponding token indices\n",
        "        mapping = collections.defaultdict(list)\n",
        "        current_word_index = -1\n",
        "        current_word = None\n",
        "        for idx, word_id in enumerate(word_ids):\n",
        "            if word_id is not None:\n",
        "                if word_id != current_word:\n",
        "                    current_word = word_id\n",
        "                    current_word_index += 1\n",
        "                mapping[current_word_index].append(idx)\n",
        "\n",
        "        # Randomly mask words\n",
        "        mask = np.random.binomial(1, wwm_probability, (len(mapping),)) #二項分布隨機決定哪些單詞會被mask\n",
        "        input_ids = feature[\"input_ids\"]\n",
        "        labels = feature[\"labels\"]\n",
        "        new_labels = [-100] * len(labels) # 創建新標前列表，初始化-100表示忽略\n",
        "        for word_id in np.where(mask)[0]:\n",
        "            word_id = word_id.item()\n",
        "            for idx in mapping[word_id]:\n",
        "                new_labels[idx] = labels[idx]\n",
        "                input_ids[idx] = tokenizer.mask_token_id # 將其對應的token 替換為 tokenizer.mask_token_id\n",
        "        feature[\"labels\"] = new_labels\n",
        "\n",
        "    return default_data_collator(features)"
      ]
    },
    {
      "cell_type": "code",
      "execution_count": null,
      "metadata": {
        "colab": {
          "base_uri": "https://localhost:8080/"
        },
        "id": "pzi6FBHIIV0_",
        "outputId": "4f5d1404-c453-404f-f27f-98d506c1dac6"
      },
      "outputs": [
        {
          "name": "stdout",
          "output_type": "stream",
          "text": [
            "\n",
            "'>>> [CLS] [MASK] [MASK] is trying to gather data of interest to their goal. collection consists of techniques adversaries [MASK] use to gather information and the [MASK] [MASK] is collected from that are relevant to [MASK] [MASK] on the adversary's objectives. frequently, the next goal after [MASK] [MASK] is [MASK] steal ( exfiltrate ) the data [MASK] common target sources include various drive [MASK], browsers, audio, video [MASK] and [MASK]. common collection methods include [MASK] [MASK] [MASK] [MASK] [MASK] keyboard input. [SEP] [CLS] [MASK] adversary is [MASK] to communicate with compromised systems to control them. command and [MASK] consists of [MASK] that [MASK] [MASK] [MASK] [MASK] use to communicate [MASK] [MASK] under'\n",
            "\n",
            "'>>> their control [MASK] a victim network. adversaries [MASK] [MASK] to mimic normal, expected traffic to avoid [MASK]. there are [MASK] ways an [MASK] [MASK] establish command [MASK] control with various [MASK] of stealth depending on the [MASK] [MASK] s [MASK] structure and defenses. [SEP] [CLS] the adversary is trying [MASK] steal account names and passwords. credential access consists of techniques [MASK] stealing credentials like [MASK] names [MASK] [MASK] [MASK]. [MASK] used [MASK] [MASK] credentials include keylogging or credential dumping. using legitimate credentials can give adversaries access [MASK] systems [MASK] make them [MASK] to [MASK] [MASK] and [MASK] the opportunity to create more accounts to [MASK] achieve their goals. [SEP]'\n"
          ]
        }
      ],
      "source": [
        "samples = [tt_datasets[i] for i in range(2)]\n",
        "batch = whole_word_masking_data_collator(samples)\n",
        "\n",
        "for chunk in batch[\"input_ids\"]:\n",
        "    print(f\"\\n'>>> {tokenizer.decode(chunk)}'\")"
      ]
    },
    {
      "cell_type": "markdown",
      "metadata": {
        "id": "cs4u1wSMIPam"
      },
      "source": [
        "## **Train**"
      ]
    },
    {
      "cell_type": "code",
      "execution_count": null,
      "metadata": {
        "colab": {
          "base_uri": "https://localhost:8080/"
        },
        "id": "6Aoyv8UQIaaw",
        "outputId": "b50ebc2a-529d-42b8-daa8-61ffa797c521"
      },
      "outputs": [
        {
          "data": {
            "text/plain": [
              "DatasetDict({\n",
              "    train: Dataset({\n",
              "        features: ['input_ids', 'attention_mask', 'word_ids', 'labels'],\n",
              "        num_rows: 600\n",
              "    })\n",
              "    test: Dataset({\n",
              "        features: ['input_ids', 'attention_mask', 'word_ids', 'labels'],\n",
              "        num_rows: 60\n",
              "    })\n",
              "})"
            ]
          },
          "execution_count": 106,
          "metadata": {},
          "output_type": "execute_result"
        }
      ],
      "source": [
        "train_size = 600\n",
        "test_size = int(0.1 * train_size)\n",
        "downsampled_dataset = tt_datasets.train_test_split(\n",
        "    train_size=train_size, test_size=test_size, seed=42\n",
        ")\n",
        "downsampled_dataset"
      ]
    },
    {
      "cell_type": "code",
      "execution_count": null,
      "metadata": {
        "id": "EuthfWiEIdrU"
      },
      "outputs": [],
      "source": [
        "batch_size = 64\n",
        "# Show the training loss with every epoch\n",
        "logging_steps = len(downsampled_dataset[\"train\"]) // batch_size\n",
        "model_name = model_checkpoint.split(\"/\")[-1]\n",
        "\n",
        "training_args = TrainingArguments(\n",
        "    output_dir=f\"{model_name}-finetuned-attact-dataset\",\n",
        "    overwrite_output_dir=True,\n",
        "    eval_strategy=\"epoch\",  # Updated parameter name\n",
        "    learning_rate=2e-5,\n",
        "    weight_decay=0.01,\n",
        "    per_device_train_batch_size=batch_size,\n",
        "    per_device_eval_batch_size=batch_size,\n",
        "    push_to_hub=False,\n",
        "    fp16=True,\n",
        "    logging_steps=logging_steps,\n",
        ")"
      ]
    },
    {
      "cell_type": "code",
      "execution_count": null,
      "metadata": {
        "id": "Lzui5Yl3IhP-"
      },
      "outputs": [],
      "source": [
        "trainer = Trainer(\n",
        "    model=model,\n",
        "    args=training_args,\n",
        "    train_dataset=downsampled_dataset[\"train\"],\n",
        "    eval_dataset=downsampled_dataset[\"test\"],\n",
        "    data_collator=data_collator,\n",
        "    tokenizer=tokenizer,\n",
        ")"
      ]
    },
    {
      "cell_type": "markdown",
      "metadata": {
        "id": "5mJvDgFSI9yz"
      },
      "source": [
        "## **Perplexity**"
      ]
    },
    {
      "cell_type": "code",
      "execution_count": null,
      "metadata": {
        "colab": {
          "base_uri": "https://localhost:8080/",
          "height": 242
        },
        "id": "_RIbfDWnInWm",
        "outputId": "94fe4a5f-39d2-4148-a9db-2862b6252589"
      },
      "outputs": [
        {
          "data": {
            "text/html": [
              "\n",
              "    <div>\n",
              "      \n",
              "      <progress value='2' max='1' style='width:300px; height:20px; vertical-align: middle;'></progress>\n",
              "      [1/1 00:03]\n",
              "    </div>\n",
              "    "
            ],
            "text/plain": [
              "<IPython.core.display.HTML object>"
            ]
          },
          "metadata": {},
          "output_type": "display_data"
        },
        {
          "name": "stdout",
          "output_type": "stream",
          "text": [
            ">>> Before Training >> Perplexity: 26.90\n"
          ]
        },
        {
          "data": {
            "text/html": [
              "\n",
              "    <div>\n",
              "      \n",
              "      <progress value='30' max='30' style='width:300px; height:20px; vertical-align: middle;'></progress>\n",
              "      [30/30 00:10, Epoch 3/3]\n",
              "    </div>\n",
              "    <table border=\"1\" class=\"dataframe\">\n",
              "  <thead>\n",
              " <tr style=\"text-align: left;\">\n",
              "      <th>Epoch</th>\n",
              "      <th>Training Loss</th>\n",
              "      <th>Validation Loss</th>\n",
              "    </tr>\n",
              "  </thead>\n",
              "  <tbody>\n",
              "    <tr>\n",
              "      <td>1</td>\n",
              "      <td>3.013100</td>\n",
              "      <td>2.672543</td>\n",
              "    </tr>\n",
              "    <tr>\n",
              "      <td>2</td>\n",
              "      <td>2.702900</td>\n",
              "      <td>2.447377</td>\n",
              "    </tr>\n",
              "    <tr>\n",
              "      <td>3</td>\n",
              "      <td>2.555800</td>\n",
              "      <td>2.508105</td>\n",
              "    </tr>\n",
              "  </tbody>\n",
              "</table><p>"
            ],
            "text/plain": [
              "<IPython.core.display.HTML object>"
            ]
          },
          "metadata": {},
          "output_type": "display_data"
        },
        {
          "data": {
            "text/html": [
              "\n",
              "    <div>\n",
              "      \n",
              "      <progress value='1' max='1' style='width:300px; height:20px; vertical-align: middle;'></progress>\n",
              "      [1/1 : < :]\n",
              "    </div>\n",
              "    "
            ],
            "text/plain": [
              "<IPython.core.display.HTML object>"
            ]
          },
          "metadata": {},
          "output_type": "display_data"
        },
        {
          "name": "stdout",
          "output_type": "stream",
          "text": [
            ">>> After Training >> Perplexity: 10.63\n"
          ]
        }
      ],
      "source": [
        "eval_results = trainer.evaluate()\n",
        "print(f\">>> Before Training >> Perplexity: {math.exp(eval_results['eval_loss']):.2f}\")\n",
        "trainer.train()\n",
        "trainer.save_model(\"./finetuned_with_ATT&CT_dataset_model\")\n",
        "tokenizer.save_pretrained(\"./finetuned_with_ATT&CT_dataset_model\")\n",
        "eval_results = trainer.evaluate()\n",
        "print(f\">>> After Training >> Perplexity: {math.exp(eval_results['eval_loss']):.2f}\")"
      ]
    },
    {
      "cell_type": "code",
      "execution_count": null,
      "metadata": {
        "id": "S4q2a2mQ8S0o"
      },
      "outputs": [],
      "source": [
        "model_before = AutoModelForMaskedLM.from_pretrained('distilbert-base-uncased')\n",
        "model_after = AutoModelForMaskedLM.from_pretrained('./finetuned_with_ATT&CT_dataset_model')\n",
        "tokenizer_before = AutoTokenizer.from_pretrained('distilbert-base-uncased')\n",
        "tokenizer_after = AutoTokenizer.from_pretrained('./finetuned_with_ATT&CT_dataset_model')\n",
        "fill_mask_before = pipeline(\"fill-mask\", model=model_before, tokenizer=tokenizer_before)\n",
        "fill_mask_after = pipeline(\"fill-mask\", model=model_after, tokenizer=tokenizer_after)\n"
      ]
    },
    {
      "cell_type": "code",
      "execution_count": null,
      "metadata": {
        "id": "YPneZC7j8m5k"
      },
      "outputs": [],
      "source": [
        "def calculate_perplexity(model, tokenizer, input_ids):\n",
        "    inputs = {'input_ids': input_ids.unsqueeze(0), 'attention_mask': torch.ones_like(input_ids.unsqueeze(0))}\n",
        "    with torch.no_grad():\n",
        "        outputs = model(**inputs, labels=inputs['input_ids'])\n",
        "        loss = outputs.loss\n",
        "        perplexity = torch.exp(loss).item()\n",
        "    return perplexity"
      ]
    },
    {
      "cell_type": "code",
      "execution_count": null,
      "metadata": {
        "colab": {
          "base_uri": "https://localhost:8080/",
          "height": 1000,
          "referenced_widgets": [
            "ccd4f2e1a6744cc68b99656455bd185b",
            "ee1fe83deecc4ec5be21fa828e5db88c",
            "9b243907eb634e25b1d56838138558cb",
            "f1aaa5a720b9452ea17c44e3f5c31e7c",
            "f7295e00e25942f7a59e4aafbac2dfed",
            "61b94ea197fc4cef912e0566bfee6c9d",
            "31f17d76eb18454595e7e64217815709",
            "c12ce2df50f74b34a8627a3590ec7185",
            "7a032c3602dd4705a233c814815376ca",
            "ccce6575e5d94d25b95f6715d8069039",
            "966b178368db48228c64c75f8e3a3532",
            "ee3773e506b24338b986fda02eb5de06",
            "ef2d323afd3e423292a85052617e0081",
            "a7a2103c002e4d7e961f58535a07192c",
            "593302b5753e4b2988bb436dd997c80b",
            "58c4e625a7d04a149894cdbcb112f2e2",
            "11fd5a5d993e4c949a5fa3374f366354",
            "834e85e3b00e44ca93d834222a4adfb4",
            "51e0eb5e0fb344a1a3926eaf7f22be53",
            "2de6cf4ebfd24163b883e800da142c9b",
            "79e2e6f24bbb4f73ba437e977ada75bf",
            "50aa3a192892403687753af398c8fd0d"
          ]
        },
        "id": "O1u0JqVY8rq4",
        "outputId": "6d60c1ce-c2bc-4c01-a9fc-466e79b711b0"
      },
      "outputs": [
        {
          "name": "stdout",
          "output_type": "stream",
          "text": [
            "['name', 'description']\n"
          ]
        },
        {
          "data": {
            "application/vnd.jupyter.widget-view+json": {
              "model_id": "ccd4f2e1a6744cc68b99656455bd185b",
              "version_major": 2,
              "version_minor": 0
            },
            "text/plain": [
              "Map:   0%|          | 0/120 [00:00<?, ? examples/s]"
            ]
          },
          "metadata": {},
          "output_type": "display_data"
        },
        {
          "name": "stdout",
          "output_type": "stream",
          "text": [
            "True\n",
            "['input_ids', 'attention_mask', 'word_ids']\n"
          ]
        },
        {
          "data": {
            "application/vnd.jupyter.widget-view+json": {
              "model_id": "ee3773e506b24338b986fda02eb5de06",
              "version_major": 2,
              "version_minor": 0
            },
            "text/plain": [
              "Map:   0%|          | 0/120 [00:00<?, ? examples/s]"
            ]
          },
          "metadata": {},
          "output_type": "display_data"
        },
        {
          "name": "stdout",
          "output_type": "stream",
          "text": [
            "Masked Sentence: [CLS] monitor [MASK] commands and arguments that may [MASK] [MASK] [MASK] [MASK] mechanisms designed to [MASK] elevate privileges to gain higher - level permissions. [SEP] [CLS] monitor the file system for files that have the setuid or setgid [MASK] [MASK]. on linux, auditd can alert every [MASK] a user's actual id [MASK] effective [MASK] [MASK] different [MASK] this is what happens when you sudo ). [SEP] [CLS] on linux, auditd [MASK] alert every time a user's actual id and [MASK] id are different ( this is what [MASK] when you sudo ). this technique is abusing normal functionality in macos and linux [MASK], but sud\n",
            "Before Training >>> [CLS] monitor contains commands and arguments that may contains contains contains contains mechanisms designed to contains elevate privileges to gain higher - level permissions. [SEP] [CLS] monitor the file system for files that have the setuid or setgid contains contains. on linux, auditd can alert every contains a user's actual id contains effective contains contains different contains this is what happens when you sudo ). [SEP] [CLS] on linux, auditd contains alert every time a user's actual id and contains id are different ( this is what contains when you sudo ). this technique is abusing normal functionality in macos and linux contains, but sud\n",
            "After Training >>> [CLS] monitor ##s commands and arguments that may ##s ##s ##s ##s mechanisms designed to ##s elevate privileges to gain higher - level permissions. [SEP] [CLS] monitor the file system for files that have the setuid or setgid ##s ##s. on linux, auditd can alert every ##s a user's actual id ##s effective ##s ##s different ##s this is what happens when you sudo ). [SEP] [CLS] on linux, auditd ##s alert every time a user's actual id and ##s id are different ( this is what ##s when you sudo ). this technique is abusing normal functionality in macos and linux ##s, but sud\n",
            "Before Training Perplexity: 16.02\n",
            "After Training Perplexity: 14.88\n",
            "Masked Sentence: ##o has the ability [MASK] log all [MASK] and output [MASK] on the [MASK] _ input and log _ [MASK] directives in the / etc / [MASK] [MASK] [MASK] file. consider monitoring [MASK] [MASK] usr / libexec / security _ authtrampoline executions which [MASK] indicate that authorizationexecutewithprivileges [MASK] being executed. macos system logs may also indicate when authorizationexecutewithprivileges is being called. [SEP] [CLS] also look for any process api calls for [MASK] that may be [MASK] [MASK] process injection. monitoring os api callbacks [MASK] [MASK] execution can also be [MASK] [MASK] to detect this behavior [MASK]\n",
            "Before Training >>> ##o has the ability to log all to and output to on the to _ input and log _ to directives in the / etc / to to to file. consider monitoring to to usr / libexec / security _ authtrampoline executions which to indicate that authorizationexecutewithprivileges to being executed. macos system logs may also indicate when authorizationexecutewithprivileges is being called. [SEP] [CLS] also look for any process api calls for to that may be to to process injection. monitoring os api callbacks to to execution can also be to to to detect this behavior to\n",
            "After Training >>> ##o has the ability to log all to and output to on the to _ input and log _ to directives in the / etc / to to to file. consider monitoring to to usr / libexec / security _ authtrampoline executions which to indicate that authorizationexecutewithprivileges to being executed. macos system logs may also indicate when authorizationexecutewithprivileges is being called. [SEP] [CLS] also look for any process api calls for to that may be to to process injection. monitoring os api callbacks to to execution can also be to to to detect this behavior to\n",
            "Before Training Perplexity: 17.30\n",
            "After Training Perplexity: 16.50\n",
            "Masked Sentence: requires specialized security tooling. [SEP] [CLS] monitor for newly executed processes that may circumvent mechanisms designed to control elevate privileges to gain higher [MASK] level [MASK] [MASK]. cyber actors frequently escalate to the system account after gaining [MASK] [MASK] [MASK] windows host [MASK] to [MASK] [MASK] [MASK] carry out [MASK] attacks more effectively [MASK] tools such as meterpreter [MASK] cobalt strike [MASK] and empire carry out automated steps to [MASK] [MASK] system \", which is the [MASK] as switching over to the system user account. most of these tools utilize multiple techniques to try and attain system : in the [MASK] technique, they create a named pipe [MASK] connects an instance of cm\n",
            "Before Training >>> requires specialized security tooling. [SEP] [CLS] monitor for newly executed processes that may circumvent mechanisms designed to control elevate privileges to gain higher security level security security. cyber actors frequently escalate to the system account after gaining security security security windows host security to security security security carry out security attacks more effectively security tools such as meterpreter security cobalt strike security and empire carry out automated steps to security security system \", which is the security as switching over to the system user account. most of these tools utilize multiple techniques to try and attain system : in the security technique, they create a named pipe security connects an instance of cm\n",
            "After Training >>> requires specialized security tooling. [SEP] [CLS] monitor for newly executed processes that may circumvent mechanisms designed to control elevate privileges to gain higher security level security security. cyber actors frequently escalate to the system account after gaining security security security windows host security to security security security carry out security attacks more effectively security tools such as meterpreter security cobalt strike security and empire carry out automated steps to security security system \", which is the security as switching over to the system user account. most of these tools utilize multiple techniques to try and attain system : in the security technique, they create a named pipe security connects an instance of cm\n",
            "Before Training Perplexity: 13.98\n",
            "After Training Perplexity: 14.86\n",
            "Masked Sentence: ##d. exe to it [MASK] which allows them to impersonate the security context of cmd. [MASK] [MASK], which is system. in the second technique, a malicious dll is [MASK] into a process that is running [MASK] system ; the injected dll [MASK] the [MASK] [MASK] and applies it where necessary to escalate privileges. this analytic looks for both of [MASK] techniques. [SEP] [CLS] monitor contextual data about [MASK] running process, which [MASK] [MASK] information such as environment [MASK], image name [MASK] user / [MASK] that may [MASK] [MASK] [MASK] [MASK] [MASK] designed to control elevate privileges to gain higher - level permissions. [SEP] [CLS] log cloud\n",
            "Before Training >>> ##d. exe to it clients which allows them to impersonate the security context of cmd. clients clients, which is system. in the second technique, a malicious dll is clients into a process that is running clients system ; the injected dll clients the clients clients and applies it where necessary to escalate privileges. this analytic looks for both of clients techniques. [SEP] [CLS] monitor contextual data about clients running process, which clients clients information such as environment clients, image name clients user / clients that may clients clients clients clients clients designed to control elevate privileges to gain higher - level permissions. [SEP] [CLS] log cloud\n",
            "After Training >>> ##d. exe to it , which allows them to impersonate the security context of cmd. , ,, which is system. in the second technique, a malicious dll is , into a process that is running , system ; the injected dll , the , , and applies it where necessary to escalate privileges. this analytic looks for both of , techniques. [SEP] [CLS] monitor contextual data about , running process, which , , information such as environment ,, image name , user / , that may , , , , , designed to control elevate privileges to gain higher - level permissions. [SEP] [CLS] log cloud\n",
            "Before Training Perplexity: 20.49\n",
            "After Training Perplexity: 20.20\n",
            "Masked Sentence: [MASK] calls to assume, create, or impersonate additional roles, policies, [MASK] permissions. review [MASK] [MASK] just - in - time access [MASK] ensure that any justifications provided are valid and only expected [MASK] were taken [MASK] [SEP] [CLS] there [MASK] many [MASK] to [MASK] uac [MASK] [MASK] when a [MASK] is in the local administrator group [MASK] a system [MASK] [MASK] it may be difficult to target detection on [MASK] [MASK]. efforts should likely be placed [MASK] mitigation [MASK] collecting enough information [MASK] [MASK] launches and actions that [MASK] be performed before [MASK] after a uac bypass is performed [MASK] some [MASK] [MASK] [MASK] methods rely [MASK] modifying specific, user [MASK] accessible registry\n",
            "Before Training >>> automated calls to assume, create, or impersonate additional roles, policies, automated permissions. review automated automated just - in - time access automated ensure that any justifications provided are valid and only expected automated were taken automated [SEP] [CLS] there automated many automated to automated uac automated automated when a automated is in the local administrator group automated a system automated automated it may be difficult to target detection on automated automated. efforts should likely be placed automated mitigation automated collecting enough information automated automated launches and actions that automated be performed before automated after a uac bypass is performed automated some automated automated automated methods rely automated modifying specific, user automated accessible registry\n",
            "After Training >>> and calls to assume, create, or impersonate additional roles, policies, and permissions. review and and just - in - time access and ensure that any justifications provided are valid and only expected and were taken and [SEP] [CLS] there and many and to and uac and and when a and is in the local administrator group and a system and and it may be difficult to target detection on and and. efforts should likely be placed and mitigation and collecting enough information and and launches and actions that and be performed before and after a uac bypass is performed and some and and and methods rely and modifying specific, user and accessible registry\n",
            "Before Training Perplexity: 61.67\n",
            "After Training Perplexity: 62.26\n",
            "Masked Sentence: settings. analysts should monitor registry settings for [MASK] changes. [SEP] [CLS] [MASK] for changes made to ad settings that may modify access tokens to operate [MASK] a different user or system [MASK] [MASK] to [MASK] actions and bypass [MASK] controls. [SEP] [CLS] monitor executed commands and arguments for token manipulation by auditing [MASK] - line activity. specifically, analysts should look for use of the runas command. detailed command - [MASK] [MASK] is not enabled by default in windows [SEP] [CLS] monitor for api calls, loaded by a [MASK], for token manipulation only through careful analysis of user network activity, [MASK] of running processes, and correlation with other endpoint and network behavior. there are\n",
            "Before Training >>> settings. analysts should monitor registry settings for configuration changes. [SEP] [CLS] configuration for changes made to ad settings that may modify access tokens to operate configuration a different user or system configuration configuration to configuration actions and bypass configuration controls. [SEP] [CLS] monitor executed commands and arguments for token manipulation by auditing configuration - line activity. specifically, analysts should look for use of the runas command. detailed command - configuration configuration is not enabled by default in windows [SEP] [CLS] monitor for api calls, loaded by a configuration, for token manipulation only through careful analysis of user network activity, configuration of running processes, and correlation with other endpoint and network behavior. there are\n",
            "After Training >>> settings. analysts should monitor registry settings for system changes. [SEP] [CLS] system for changes made to ad settings that may modify access tokens to operate system a different user or system system system to system actions and bypass system controls. [SEP] [CLS] monitor executed commands and arguments for token manipulation by auditing system - line activity. specifically, analysts should look for use of the runas command. detailed command - system system is not enabled by default in windows [SEP] [CLS] monitor for api calls, loaded by a system, for token manipulation only through careful analysis of user network activity, system of running processes, and correlation with other endpoint and network behavior. there are\n",
            "Before Training Perplexity: 11.00\n",
            "After Training Perplexity: 10.33\n",
            "Masked Sentence: [MASK] windows api calls a payload can take advantage of [MASK] manipulate access tokens [MASK] e. [MASK] [MASK], logonuser [ 30 [MASK], duplicatetokenex [ 31 ], and impersonateloggedonuser [ 32 ] ). please see the referenced windows api pages [MASK] more information. [SEP] [CLS] monitor for executed processes that may [MASK] access [MASK] [MASK] to operate [MASK] a different user or system security context to perform actions and bypass access controls [MASK] [SEP] [CLS] query systems for process and thread token information and [MASK] for inconsistencies [MASK] as user [MASK] processes impersonating the local system account [MASK] [ 33 ] look for inconsiste\n",
            "Before Training >>> a windows api calls a payload can take advantage of a manipulate access tokens a e. a a, logonuser [ 30 a, duplicatetokenex [ 31 ], and impersonateloggedonuser [ 32 ] ). please see the referenced windows api pages a more information. [SEP] [CLS] monitor for executed processes that may a access a a to operate a a different user or system security context to perform actions and bypass access controls a [SEP] [CLS] query systems for process and thread token information and a for inconsistencies a as user a processes impersonating the local system account a [ 33 ] look for inconsiste\n",
            "After Training >>> a windows api calls a payload can take advantage of a manipulate access tokens a e. a a, logonuser [ 30 a, duplicatetokenex [ 31 ], and impersonateloggedonuser [ 32 ] ). please see the referenced windows api pages a more information. [SEP] [CLS] monitor for executed processes that may a access a a to operate a a different user or system security context to perform actions and bypass access controls a [SEP] [CLS] query systems for process and thread token information and a for inconsistencies a as user a processes impersonating the local system account a [ 33 ] look for inconsiste\n",
            "Before Training Perplexity: 17.78\n",
            "After Training Perplexity: 17.73\n",
            "Masked Sentence: ##ncies between [MASK] various fields that store ppid information, such as the eventheader processid from data collected via event [MASK] for windows ( [MASK] [MASK] ), creator process id [MASK] [MASK] from windows [MASK] logs, and the processid and [MASK] [MASK] [MASK] [MASK] [MASK] [MASK] which are [MASK] produced from [MASK] [MASK] [MASK] other utilities such as task manager and process explorer ) [MASK] the etw provided eventheader processid identifies the actual parent process [MASK] [SEP] [CLS] monitor for contextual data about an [MASK], which may [MASK] a username, user id [MASK] environmental data, etc. that may modify access tokens to operate under a [MASK] [MASK] or system security\n",
            "Before Training >>> ##ncies between the various fields that store ppid information, such as the eventheader processid from data collected via event the for windows ( the the ), creator process id the the from windows the logs, and the processid and the the the the the the which are the produced from the the the other utilities such as task manager and process explorer ) the the etw provided eventheader processid identifies the actual parent process the [SEP] [CLS] monitor for contextual data about an the, which may the a username, user id the environmental data, etc. that may modify access tokens to operate under a the the or system security\n",
            "After Training >>> ##ncies between the various fields that store ppid information, such as the eventheader processid from data collected via event the for windows ( the the ), creator process id the the from windows the logs, and the processid and the the the the the the which are the produced from the the the other utilities such as task manager and process explorer ) the the etw provided eventheader processid identifies the actual parent process the [SEP] [CLS] monitor for contextual data about an the, which may the a username, user id the environmental data, etc. that may modify access tokens to operate under a the the or system security\n",
            "Before Training Perplexity: 28.55\n",
            "After Training Perplexity: 28.05\n",
            "Masked Sentence: context to perform actions and bypass access controls. [SEP] [CLS] monitor executed commands and arguments to detect token manipulation [MASK] auditing command - line activity [MASK] specifically, analysts should look for use [MASK] the runas command. detailed command - line logging is not [MASK] by default [MASK] windows [SEP] [CLS] [MASK] for api calls associated with other suspicious behavior to [MASK] false positives that may [MASK] due to normal benign use by users and administrators [MASK] [MASK] as duplicatetoken ( ex [MASK], impersonateloggedonuser, and setthreadtoken. [SEP] [CLS] monitor for the registration or joining of new device objects in [MASK] directory. raise alerts when new\n",
            "Before Training >>> context to perform actions and bypass access controls. [SEP] [CLS] monitor executed commands and arguments to detect token manipulation or auditing command - line activity or specifically, analysts should look for use or the runas command. detailed command - line logging is not or by default or windows [SEP] [CLS] or for api calls associated with other suspicious behavior to or false positives that may or due to normal benign use by users and administrators or or as duplicatetoken ( ex or, impersonateloggedonuser, and setthreadtoken. [SEP] [CLS] monitor for the registration or joining of new device objects in or directory. raise alerts when new\n",
            "After Training >>> context to perform actions and bypass access controls. [SEP] [CLS] monitor executed commands and arguments to detect token manipulation and auditing command - line activity and specifically, analysts should look for use and the runas command. detailed command - line logging is not and by default and windows [SEP] [CLS] and for api calls associated with other suspicious behavior to and false positives that may and due to normal benign use by users and administrators and and as duplicatetoken ( ex and, impersonateloggedonuser, and setthreadtoken. [SEP] [CLS] monitor for the registration or joining of new device objects in and directory. raise alerts when new\n",
            "Before Training Perplexity: 13.53\n",
            "After Training Perplexity: 14.21\n",
            "Masked Sentence: devices are registered or joined without using mfa [SEP] [CLS] monitor executed commands and arguments for suspicious commands to modify [MASK] or [MASK] settings [SEP] [CLS] monitor for [MASK] made to files related to account settings, [MASK] [MASK] / etc [MASK] ssh / [MASK] [MASK] _ config and [MASK] [MASK] [MASK] keys [MASK] for each user on a system. [SEP] [CLS] monitor events for changes to account objects and / or [MASK] [MASK] on systems and [MASK] domain [MASK] such [MASK] event [MASK] [MASK] 4738, 4728 and 4670 [MASK] [SEP] [CLS] [MASK] for newly constructed processes indicative of modifying account settings, such as [MASK] that modify authorized _ [MASK] or / etc [MASK] [MASK] [MASK] / sshd\n",
            "Before Training >>> devices are registered or joined without using mfa [SEP] [CLS] monitor executed commands and arguments for suspicious commands to modify settings or settings settings [SEP] [CLS] monitor for settings made to files related to account settings, settings settings / etc settings ssh / settings settings _ config and settings settings settings keys settings for each user on a system. [SEP] [CLS] monitor events for changes to account objects and / or settings settings on systems and settings domain settings such settings event settings settings 4738, 4728 and 4670 settings [SEP] [CLS] settings for newly constructed processes indicative of modifying account settings, such as settings that modify authorized _ settings or / etc settings settings settings / sshd\n",
            "After Training >>> devices are registered or joined without using mfa [SEP] [CLS] monitor executed commands and arguments for suspicious commands to modify settings or settings settings [SEP] [CLS] monitor for settings made to files related to account settings, settings settings / etc settings ssh / settings settings _ config and settings settings settings keys settings for each user on a system. [SEP] [CLS] monitor events for changes to account objects and / or settings settings on systems and settings domain settings such settings event settings settings 4738, 4728 and 4670 settings [SEP] [CLS] settings for newly constructed processes indicative of modifying account settings, such as settings that modify authorized _ settings or / etc settings settings settings / sshd\n",
            "Before Training Perplexity: 89.64\n",
            "After Training Perplexity: 83.50\n",
            "Masked Sentence: _ [MASK] [MASK] [MASK] files [MASK] [SEP] [CLS] monitor events for changes to account objects and / or [MASK] [MASK] [MASK] [MASK] [MASK] the domain, such as event ids 4738, 4728 and 4670 [MASK] monitor for [MASK] [MASK] [MASK] in correlation with other suspicious activity. changes may occur at unusual times [MASK] from unusual systems. especially flag events where [MASK] subject and [MASK] [MASK] differ or that include additional flags such [MASK] [MASK] a password without knowledge of the old password. [SEP] [CLS] monitor executed commands [MASK] arguments that may configure system settings to automatically [MASK] a program [MASK] system [MASK] or logon to maintain persistence or gain higher - [MASK] [MASK] [MASK] compromised systems\n",
            "Before Training >>> _ id id id files id [SEP] [CLS] monitor events for changes to account objects and / or id id id id id the domain, such as event ids 4738, 4728 and 4670 id monitor for id id id in correlation with other suspicious activity. changes may occur at unusual times id from unusual systems. especially flag events where id subject and id id differ or that include additional flags such id id a password without knowledge of the old password. [SEP] [CLS] monitor executed commands id arguments that may configure system settings to automatically id a program id system id or logon to maintain persistence or gain higher - id id id compromised systems\n",
            "After Training >>> _ id id id files id [SEP] [CLS] monitor events for changes to account objects and / or id id id id id the domain, such as event ids 4738, 4728 and 4670 id monitor for id id id in correlation with other suspicious activity. changes may occur at unusual times id from unusual systems. especially flag events where id subject and id id differ or that include additional flags such id id a password without knowledge of the old password. [SEP] [CLS] monitor executed commands id arguments that may configure system settings to automatically id a program id system id or logon to maintain persistence or gain higher - id id id compromised systems\n",
            "Before Training Perplexity: 41.16\n",
            "After Training Perplexity: 38.87\n",
            "Masked Sentence: . [SEP] [CLS] monitor for unusual kernel driver installation activity that [MASK] configure system settings to automatically execute a program during system [MASK] or logon [MASK] maintain persistence or gain [MASK] - [MASK] privileges on compromised systems. [SEP] [CLS] [MASK] for [MASK] constructed [MASK] that may configure system settings to automatically [MASK] a program during system boot or logon to maintain persistence or gain higher - level privileges on compromised systems. [SEP] [CLS] monitor for [MASK] made to files that may [MASK] [MASK] [MASK] [MASK] system settings to automatically execute a program during system boot or logon to maintain persistence or gain higher - level privileges on compromised [MASK]. [SEP] [CLS] monitor for [MASK] kernel driver\n",
            "Before Training >>> . [SEP] [CLS] monitor for unusual kernel driver installation activity that can configure system settings to automatically execute a program during system can or logon can maintain persistence or gain can - can privileges on compromised systems. [SEP] [CLS] can for can constructed can that may configure system settings to automatically can a program during system boot or logon to maintain persistence or gain higher - level privileges on compromised systems. [SEP] [CLS] monitor for can made to files that may can can can can system settings to automatically execute a program during system boot or logon to maintain persistence or gain higher - level privileges on compromised can. [SEP] [CLS] monitor for can kernel driver\n",
            "After Training >>> . [SEP] [CLS] monitor for unusual kernel driver installation activity that may configure system settings to automatically execute a program during system may or logon may maintain persistence or gain may - may privileges on compromised systems. [SEP] [CLS] may for may constructed may that may configure system settings to automatically may a program during system boot or logon to maintain persistence or gain higher - level privileges on compromised systems. [SEP] [CLS] monitor for may made to files that may may may may may system settings to automatically execute a program during system boot or logon to maintain persistence or gain higher - level privileges on compromised may. [SEP] [CLS] monitor for may kernel driver\n",
            "Before Training Perplexity: 29.15\n",
            "After Training Perplexity: 26.93\n",
            "Masked Sentence: installation activity that [MASK] configure system settings to automatically execute a program during system [MASK] or [MASK] [MASK] to maintain persistence or gain higher - level [MASK] [MASK] compromised systems. [SEP] [CLS] monitor dll loads by [MASK], specifically looking for dlls [MASK] are [MASK] recognized or not normally [MASK] [MASK] a process. [MASK] for abnormal process behavior that may [MASK] due to [MASK] process [MASK] a malicious [MASK] [MASK]. [SEP] [CLS] monitor for api calls that [MASK] configure system settings to automatically [MASK] a program during system boot or logon to maintain persistence or gain higher - level privileges on compromised systems. [SEP] [CLS] [MASK] program execution as autostart programs [MASK] show\n",
            "Before Training >>> installation activity that can configure system settings to automatically execute a program during system can or can can to maintain persistence or gain higher - level can can compromised systems. [SEP] [CLS] monitor dll loads by can, specifically looking for dlls can are can recognized or not normally can can a process. can for abnormal process behavior that may can due to can process can a malicious can can. [SEP] [CLS] monitor for api calls that can configure system settings to automatically can a program during system boot or logon to maintain persistence or gain higher - level privileges on compromised systems. [SEP] [CLS] can program execution as autostart programs can show\n",
            "After Training >>> installation activity that can configure system settings to automatically execute a program during system can or can can to maintain persistence or gain higher - level can can compromised systems. [SEP] [CLS] monitor dll loads by can, specifically looking for dlls can are can recognized or not normally can can a process. can for abnormal process behavior that may can due to can process can a malicious can can. [SEP] [CLS] monitor for api calls that can configure system settings to automatically can a program during system boot or logon to maintain persistence or gain higher - level privileges on compromised systems. [SEP] [CLS] can program execution as autostart programs can show\n",
            "Before Training Perplexity: 38.59\n",
            "After Training Perplexity: 35.43\n",
            "Masked Sentence: up as [MASK] [MASK] processes that have not [MASK] [MASK] before [MASK] compared [MASK] historical data to increase confidence of malicious activity, data [MASK] events should not [MASK] viewed in isolation [MASK] but as part [MASK] a chain [MASK] behavior that could lead to other activities, [MASK] as [MASK] connections [MASK] for command and [MASK], learning details about the environment through discovery, and lateral movement [SEP] [CLS] monitor for additions of mechanisms that could be used to trigger autostart execution, [MASK] as relevant additions to the registry. [SEP] [CLS] monitor for modifications of mechanisms [MASK] could be used to [MASK] autostart [MASK], [MASK] as relevant additions to the registry. [SEP] [CLS] monitor for changes made in\n",
            "Before Training >>> up as static static processes that have not static static before static compared static historical data to increase confidence of malicious activity, data static events should not static viewed in isolation static but as part static a chain static behavior that could lead to other activities, static as static connections static for command and static, learning details about the environment through discovery, and lateral movement [SEP] [CLS] monitor for additions of mechanisms that could be used to trigger autostart execution, static as relevant additions to the registry. [SEP] [CLS] monitor for modifications of mechanisms static could be used to static autostart static, static as relevant additions to the registry. [SEP] [CLS] monitor for changes made in\n",
            "After Training >>> up as a a processes that have not a a before a compared a historical data to increase confidence of malicious activity, data a events should not a viewed in isolation a but as part a a chain a behavior that could lead to other activities, a as a connections a for command and a, learning details about the environment through discovery, and lateral movement [SEP] [CLS] monitor for additions of mechanisms that could be used to trigger autostart execution, a as relevant additions to the registry. [SEP] [CLS] monitor for modifications of mechanisms a could be used to a autostart a, a as relevant additions to the registry. [SEP] [CLS] monitor for changes made in\n",
            "Before Training Perplexity: 29.46\n",
            "After Training Perplexity: 31.36\n",
            "Masked Sentence: the active directory that may use scripts automatically executed at [MASK] or logon initialization to establish [MASK]. [SEP] [CLS] monitor [MASK] commands and arguments that may [MASK] of logon scripts for unusual access by abnormal users or at abnormal times [MASK] [SEP] [CLS] monitor for newly constructed files that may use scripts automatically [MASK] at boot or logon initialization to [MASK] persistence. [SEP] [CLS] monitor for changes made to [MASK] that are modified by unusual accounts outside of normal administration [MASK]. [SEP] [CLS] monitor for newly executed [MASK] that may use scripts automatically executed [MASK] boot or logon initialization to establish persistence. adversaries may [MASK] software to run [MASK] [MASK] user logs into the system\n",
            "Before Training >>> the active directory that may use scripts automatically executed at boot or logon initialization to establish boot. [SEP] [CLS] monitor boot commands and arguments that may boot of logon scripts for unusual access by abnormal users or at abnormal times boot [SEP] [CLS] monitor for newly constructed files that may use scripts automatically boot at boot or logon initialization to boot persistence. [SEP] [CLS] monitor for changes made to boot that are modified by unusual accounts outside of normal administration boot. [SEP] [CLS] monitor for newly executed boot that may use scripts automatically executed boot boot or logon initialization to establish persistence. adversaries may boot software to run boot boot user logs into the system\n",
            "After Training >>> the active directory that may use scripts automatically executed at boot or logon initialization to establish boot. [SEP] [CLS] monitor boot commands and arguments that may boot of logon scripts for unusual access by abnormal users or at abnormal times boot [SEP] [CLS] monitor for newly constructed files that may use scripts automatically boot at boot or logon initialization to boot persistence. [SEP] [CLS] monitor for changes made to boot that are modified by unusual accounts outside of normal administration boot. [SEP] [CLS] monitor for newly executed boot that may use scripts automatically executed boot boot or logon initialization to establish persistence. adversaries may boot software to run boot boot user logs into the system\n",
            "Before Training Perplexity: 22.27\n",
            "After Training Perplexity: 19.99\n",
            "Masked Sentence: ; this is done to establish persistence and sometimes for [MASK] movement. this trigger is established [MASK] the [MASK] [MASK] [SEP] [CLS] monitor [MASK] newly constructed windows [MASK] [MASK] that may use scripts automatically executed at boot [MASK] logon initialization to [MASK] [MASK]. [SEP] [CLS] command - line invocation of tools capable of modifying services [MASK] be [MASK], depending on how systems are typically used in a particular environment. look [MASK] abnormal process [MASK] trees from known services and for execution of [MASK] commands that could relate to discovery or [MASK] adversary techniques. [SEP] [CLS] monitor for newly constructed containers that repeatedly execute malicious payloads as part of persistence or [MASK] escalation [MASK] [SEP] [CLS] monitor for\n",
            "Before Training >>> ; this is done to establish persistence and sometimes for malicious movement. this trigger is established malicious the malicious malicious [SEP] [CLS] monitor malicious newly constructed windows malicious malicious that may use scripts automatically executed at boot malicious logon initialization to malicious malicious. [SEP] [CLS] command - line invocation of tools capable of modifying services malicious be malicious, depending on how systems are typically used in a particular environment. look malicious abnormal process malicious trees from known services and for execution of malicious commands that could relate to discovery or malicious adversary techniques. [SEP] [CLS] monitor for newly constructed containers that repeatedly execute malicious payloads as part of persistence or malicious escalation malicious [SEP] [CLS] monitor for\n",
            "After Training >>> ; this is done to establish persistence and sometimes for malicious movement. this trigger is established malicious the malicious malicious [SEP] [CLS] monitor malicious newly constructed windows malicious malicious that may use scripts automatically executed at boot malicious logon initialization to malicious malicious. [SEP] [CLS] command - line invocation of tools capable of modifying services malicious be malicious, depending on how systems are typically used in a particular environment. look malicious abnormal process malicious trees from known services and for execution of malicious commands that could relate to discovery or malicious adversary techniques. [SEP] [CLS] monitor for newly constructed containers that repeatedly execute malicious payloads as part of persistence or malicious escalation malicious [SEP] [CLS] monitor for\n",
            "Before Training Perplexity: 30.81\n",
            "After Training Perplexity: 29.28\n",
            "Masked Sentence: new service driver installations and loads ( ex : sysmon event id 6 [MASK] [MASK] are not part of known software update [MASK] patch cycles. [SEP] [CLS] [MASK] for newly constructed files that may create or modify system - level processes to [MASK] execute malicious payloads as part of persistence. [SEP] [CLS] monitor for changes to files associated [MASK] system - level processes. [SEP] [CLS] monitor for api calls that may [MASK] or modify [MASK] - level processes to repeatedly execute malicious [MASK] [MASK] as part of persistence. [SEP] [CLS] [MASK], benign system [MASK] may be created [MASK] installation [MASK] new software. [SEP] [CLS] monitor for newly constructed services / [MASK] [MASK] [MASK] may create or modify system -\n",
            "Before Training >>> new service driver installations and loads ( ex : sysmon event id 6 ) ) are not part of known software update ) patch cycles. [SEP] [CLS] ) for newly constructed files that may create or modify system - level processes to ) execute malicious payloads as part of persistence. [SEP] [CLS] monitor for changes to files associated ) system - level processes. [SEP] [CLS] monitor for api calls that may ) or modify ) - level processes to repeatedly execute malicious ) ) as part of persistence. [SEP] [CLS] ), benign system ) may be created ) installation ) new software. [SEP] [CLS] monitor for newly constructed services / ) ) ) may create or modify system -\n",
            "After Training >>> new service driver installations and loads ( ex : sysmon event id 6 ) ) are not part of known software update ) patch cycles. [SEP] [CLS] ) for newly constructed files that may create or modify system - level processes to ) execute malicious payloads as part of persistence. [SEP] [CLS] monitor for changes to files associated ) system - level processes. [SEP] [CLS] monitor for api calls that may ) or modify ) - level processes to repeatedly execute malicious ) ) as part of persistence. [SEP] [CLS] ), benign system ) may be created ) installation ) new software. [SEP] [CLS] monitor for newly constructed services / ) ) ) may create or modify system -\n",
            "Before Training Perplexity: 38.91\n",
            "After Training Perplexity: 37.11\n",
            "Masked Sentence: level processes to repeatedly execute malicious payloads as part [MASK] persistence. [SEP] [CLS] monitor for changes to system [MASK] that do not correlate with known software, patch cycles, etc., including by [MASK] results against a trusted [MASK] [MASK]. [SEP] [CLS] monitor for [MASK] constructed windows registry keys that may create or modify system - level processes to repeatedly execute malicious payloads as part of persistence [SEP] [CLS] monitor for changes to windows registry keys and / or values that may create or [MASK] [MASK] - level processes to repeatedly execute malicious payloads as part of persistence. [SEP] [CLS] depending on the specific method of [MASK] [MASK], the [MASK] [MASK] can vary. monitor for suspicious\n",
            "Before Training >>> level processes to repeatedly execute malicious payloads as part of persistence. [SEP] [CLS] monitor for changes to system of that do not correlate with known software, patch cycles, etc., including by of results against a trusted of of. [SEP] [CLS] monitor for of constructed windows registry keys that may create or modify system - level processes to repeatedly execute malicious payloads as part of persistence [SEP] [CLS] monitor for changes to windows registry keys and / or values that may create or of of - level processes to repeatedly execute malicious payloads as part of persistence. [SEP] [CLS] depending on the specific method of of of, the of of can vary. monitor for suspicious\n",
            "After Training >>> level processes to repeatedly execute malicious payloads as part of persistence. [SEP] [CLS] monitor for changes to system of that do not correlate with known software, patch cycles, etc., including by of results against a trusted of of. [SEP] [CLS] monitor for of constructed windows registry keys that may create or modify system - level processes to repeatedly execute malicious payloads as part of persistence [SEP] [CLS] monitor for changes to windows registry keys and / or values that may create or of of - level processes to repeatedly execute malicious payloads as part of persistence. [SEP] [CLS] depending on the specific method of of of, the of of can vary. monitor for suspicious\n",
            "Before Training Perplexity: 15.14\n",
            "After Training Perplexity: 14.65\n",
            "Masked Sentence: email activity, such as numerous accounts receiving messages from a [MASK] unusual / unknown sender. [MASK] based on dkim + spf or header analysis can [MASK] detect when the email [MASK] [MASK] is spoofed [MASK] [SEP] [CLS] when [MASK] comes to following links [MASK] monitor for references to uncategorized [MASK] known - bad sites. url [MASK] within email ( [MASK] expanding shortened links ) can also help detect [MASK] leading to known malicious sites. monitor social media traffic for suspicious activity, including messages requesting information as [MASK] [MASK] [MASK] file or [MASK] transfers ( especially those [MASK] unknown, or otherwise suspicious accounts ) [MASK] [SEP] [CLS] monitor call logs from corporate devices to\n",
            "Before Training >>> email activity, such as numerous accounts receiving messages from a potentially unusual / unknown sender. potentially based on dkim + spf or header analysis can potentially detect when the email potentially potentially is spoofed potentially [SEP] [CLS] when potentially comes to following links potentially monitor for references to uncategorized potentially known - bad sites. url potentially within email ( potentially expanding shortened links ) can also help detect potentially leading to known malicious sites. monitor social media traffic for suspicious activity, including messages requesting information as potentially potentially potentially file or potentially transfers ( especially those potentially unknown, or otherwise suspicious accounts ) potentially [SEP] [CLS] monitor call logs from corporate devices to\n",
            "After Training >>> email activity, such as numerous accounts receiving messages from a highly unusual / unknown sender. highly based on dkim + spf or header analysis can highly detect when the email highly highly is spoofed highly [SEP] [CLS] when highly comes to following links highly monitor for references to uncategorized highly known - bad sites. url highly within email ( highly expanding shortened links ) can also help detect highly leading to known malicious sites. monitor social media traffic for suspicious activity, including messages requesting information as highly highly highly file or highly transfers ( especially those highly unknown, or otherwise suspicious accounts ) highly [SEP] [CLS] monitor call logs from corporate devices to\n",
            "Before Training Perplexity: 20.76\n",
            "After Training Perplexity: 20.75\n",
            "Masked Sentence: identify [MASK] of potential voice phishing, [MASK] [MASK] calls [MASK] / from known [MASK] phone numbers. [SEP] [CLS] monitor and [MASK] traffic patterns [MASK] packet [MASK] associated to protocol [MASK] s ) that do not follow [MASK] expected protocol standards [MASK] traffic flows ( e. g extraneous packets that do not belong to established flows, gratuitous or anomalous traffic patterns, anomalous syntax, [MASK] structure ). [SEP] [CLS] consider correlation with process [MASK] and command line to detect anomalous processes execution and command line [MASK] [MASK] to traffic patterns ( [MASK]. g. monitor anomalies [MASK] use of [MASK] that do not normally [MASK] connections [MASK] respective\n",
            "Before Training >>> identify instances of potential voice phishing, instances instances calls instances / from known instances phone numbers. [SEP] [CLS] monitor and instances traffic patterns instances packet instances associated to protocol instances s ) that do not follow instances expected protocol standards instances traffic flows ( e. g extraneous packets that do not belong to established flows, gratuitous or anomalous traffic patterns, anomalous syntax, instances structure ). [SEP] [CLS] consider correlation with process instances and command line to detect anomalous processes execution and command line instances instances to traffic patterns ( instances. g. monitor anomalies instances use of instances that do not normally instances connections instances respective\n",
            "After Training >>> identify instances of potential voice phishing, instances instances calls instances / from known instances phone numbers. [SEP] [CLS] monitor and instances traffic patterns instances packet instances associated to protocol instances s ) that do not follow instances expected protocol standards instances traffic flows ( e. g extraneous packets that do not belong to established flows, gratuitous or anomalous traffic patterns, anomalous syntax, instances structure ). [SEP] [CLS] consider correlation with process instances and command line to detect anomalous processes execution and command line instances instances to traffic patterns ( instances. g. monitor anomalies instances use of instances that do not normally instances connections instances respective\n",
            "Before Training Perplexity: 27.66\n",
            "After Training Perplexity: 25.03\n",
            "Masked Sentence: [MASK] ( s ) [MASK]. [SEP] [CLS] monitor network data [MASK] uncommon data flows. processes utilizing the network that do not normally have [MASK] [MASK] or have [MASK] been seen before are suspicious. [SEP] [CLS] [MASK] [MASK] queried domain name system ( dns [MASK] registry data [MASK] may buy, lease, or rent [MASK] that can be used during targeting. detection efforts may be [MASK] on related stages of the adversary lifecycle, such as during [MASK] and control. [SEP] [CLS] consider use of services that may aid in tracking of newly acquired infrastructure, [MASK] as whois databases for domain registration [MASK]. detection [MASK] may be focused on related [MASK] of the adversary lifecycle [MASK]\n",
            "Before Training >>> registry ( s ) registry. [SEP] [CLS] monitor network data registry uncommon data flows. processes utilizing the network that do not normally have registry registry or have registry been seen before are suspicious. [SEP] [CLS] registry registry queried domain name system ( dns registry registry data registry may buy, lease, or rent registry that can be used during targeting. detection efforts may be registry on related stages of the adversary lifecycle, such as during registry and control. [SEP] [CLS] consider use of services that may aid in tracking of newly acquired infrastructure, registry as whois databases for domain registration registry. detection registry may be focused on related registry of the adversary lifecycle registry\n",
            "After Training >>> registry ( s ) registry. [SEP] [CLS] monitor network data registry uncommon data flows. processes utilizing the network that do not normally have registry registry or have registry been seen before are suspicious. [SEP] [CLS] registry registry queried domain name system ( dns registry registry data registry may buy, lease, or rent registry that can be used during targeting. detection efforts may be registry on related stages of the adversary lifecycle, such as during registry and control. [SEP] [CLS] consider use of services that may aid in tracking of newly acquired infrastructure, registry as whois databases for domain registration registry. detection registry may be focused on related registry of the adversary lifecycle registry\n",
            "Before Training Perplexity: 23.33\n",
            "After Training Perplexity: 22.37\n",
            "Masked Sentence: such as during command and control. [SEP] [CLS] monitor for logged domain name system ( dns ) data that [MASK] buy, lease, or rent [MASK] that [MASK] be used [MASK] targeting. detection efforts may be focused on related stages of the adversary lifecycle, such as during command and control. [SEP] [CLS] once adversaries [MASK] [MASK] [MASK] infrastructure ( ex : a server for use in command and [MASK] ), internet scans may help proactively discover adversary acquired infrastructure. consider [MASK] for identifiable patterns such as services [MASK], certificates in use, ssl / tls negotiation [MASK], [MASK] other [MASK] artifacts associated [MASK] adversary [MASK] software. [ 7 ] [\n",
            "Before Training >>> such as during command and control. [SEP] [CLS] monitor for logged domain name system ( dns ) data that can buy, lease, or rent can that can be used can targeting. detection efforts may be focused on related stages of the adversary lifecycle, such as during command and control. [SEP] [CLS] once adversaries can can can infrastructure ( ex : a server for use in command and can ), internet scans may help proactively discover adversary acquired infrastructure. consider can for identifiable patterns such as services can, certificates in use, ssl / tls negotiation can, can other can artifacts associated can adversary can software. [ 7 ] [\n",
            "After Training >>> such as during command and control. [SEP] [CLS] monitor for logged domain name system ( dns ) data that can buy, lease, or rent can that can be used can targeting. detection efforts may be focused on related stages of the adversary lifecycle, such as during command and control. [SEP] [CLS] once adversaries can can can infrastructure ( ex : a server for use in command and can ), internet scans may help proactively discover adversary acquired infrastructure. consider can for identifiable patterns such as services can, certificates in use, ssl / tls negotiation can, can other can artifacts associated can adversary can software. [ 7 ] [\n",
            "Before Training Perplexity: 12.38\n",
            "After Training Perplexity: 12.86\n",
            "Masked Sentence: 8 ] [ 9 ] detection efforts may be focused [MASK] related stages of the adversary lifecycle, such [MASK] [MASK] command and control. [SEP] [CLS] monitor for contextual data about [MASK] [MASK] - facing [MASK] gathered from a scan, [MASK] [MASK] running services [MASK] ports [MASK] may buy, lease, or rent infrastructure that [MASK] [MASK] used during targeting. [MASK] efforts may [MASK] focused on [MASK] stages [MASK] the adversary lifecycle [MASK] such as during command and control. [SEP] [CLS] monitor for queried domain [MASK] system [MASK] dns ) registry data that may compromise third - party infrastructure that can be used during targeting. detection efforts may be focused [MASK] related [MASK] of the adversary life\n",
            "Before Training >>> 8 ] [ 9 ] detection efforts may be focused on related stages of the adversary lifecycle, such on on command and control. [SEP] [CLS] monitor for contextual data about on on - facing on gathered from a scan, on on running services on ports on may buy, lease, or rent infrastructure that on on used during targeting. on efforts may on focused on on stages on the adversary lifecycle on such as during command and control. [SEP] [CLS] monitor for queried domain on system on dns ) registry data that may compromise third - party infrastructure that can be used during targeting. detection efforts may be focused on related on of the adversary life\n",
            "After Training >>> 8 ] [ 9 ] detection efforts may be focused on related stages of the adversary lifecycle, such on on command and control. [SEP] [CLS] monitor for contextual data about on on - facing on gathered from a scan, on on running services on ports on may buy, lease, or rent infrastructure that on on used during targeting. on efforts may on focused on on stages on the adversary lifecycle on such as during command and control. [SEP] [CLS] monitor for queried domain on system on dns ) registry data that may compromise third - party infrastructure that can be used during targeting. detection efforts may be focused on related on of the adversary life\n",
            "Before Training Perplexity: 30.58\n",
            "After Training Perplexity: 31.04\n",
            "Masked Sentence: ##cycle, such as during command and control. [SEP] [CLS] [MASK] monitoring [MASK] anomalous changes to domain [MASK] [MASK] [MASK] information and / or [MASK] resolution information that may indicate the compromise of a domain. efforts may need to be tailored to specific domains of interest as benign registration and resolution changes are a common occurrence on the internet. [SEP] [CLS] monitor for logged [MASK] name [MASK] ( [MASK] [MASK] ) data that may compromise third - party infrastructure that [MASK] be [MASK] during targeting. detection efforts may be [MASK] on related stages of the adversary lifecycle, such as [MASK] command and control [SEP] [CLS] [MASK] adversaries have provisioned compromised infrastructure ( ex : a server for\n",
            "Before Training >>> ##cycle, such as during command and control. [SEP] [CLS] vulnerability monitoring vulnerability anomalous changes to domain vulnerability vulnerability vulnerability information and / or vulnerability resolution information that may indicate the compromise of a domain. efforts may need to be tailored to specific domains of interest as benign registration and resolution changes are a common occurrence on the internet. [SEP] [CLS] monitor for logged vulnerability name vulnerability ( vulnerability vulnerability ) data that may compromise third - party infrastructure that vulnerability be vulnerability during targeting. detection efforts may be vulnerability on related stages of the adversary lifecycle, such as vulnerability command and control [SEP] [CLS] vulnerability adversaries have provisioned compromised infrastructure ( ex : a server for\n",
            "After Training >>> ##cycle, such as during command and control. [SEP] [CLS] domain monitoring domain anomalous changes to domain domain domain domain information and / or domain resolution information that may indicate the compromise of a domain. efforts may need to be tailored to specific domains of interest as benign registration and resolution changes are a common occurrence on the internet. [SEP] [CLS] monitor for logged domain name domain ( domain domain ) data that may compromise third - party infrastructure that domain be domain during targeting. detection efforts may be domain on related stages of the adversary lifecycle, such as domain command and control [SEP] [CLS] domain adversaries have provisioned compromised infrastructure ( ex : a server for\n",
            "Before Training Perplexity: 16.93\n",
            "After Training Perplexity: 15.89\n",
            "Masked Sentence: use [MASK] command and control ), internet scans may help proactively discover compromised infrastructure. consider looking for identifiable patterns [MASK] as services listening, certificates in [MASK], ssl / tls negotiation features, or other response artifacts associated with adversary c2 [MASK]. [SEP] [CLS] monitor [MASK] contextual data about an internet - facing resource gathered from a scan [MASK] [MASK] as [MASK] services [MASK] ports that may compromise third - party infrastructure that can be used during targeting. [MASK] efforts may [MASK] focused on related stages of the adversary [MASK] [MASK], such as during command and control. [SEP] [CLS] consider use of services that may aid in [MASK] tracking [MASK] capabilities [MASK] such [MASK] [MASK],\n",
            "Before Training >>> use ( command and control ), internet scans may help proactively discover compromised infrastructure. consider looking for identifiable patterns ( as services listening, certificates in (, ssl / tls negotiation features, or other response artifacts associated with adversary c2 (. [SEP] [CLS] monitor ( contextual data about an internet - facing resource gathered from a scan ( ( as ( services ( ports that may compromise third - party infrastructure that can be used during targeting. ( efforts may ( focused on related stages of the adversary ( (, such as during command and control. [SEP] [CLS] consider use of services that may aid in ( tracking ( capabilities ( such ( (,\n",
            "After Training >>> use ( command and control ), internet scans may help proactively discover compromised infrastructure. consider looking for identifiable patterns ( as services listening, certificates in (, ssl / tls negotiation features, or other response artifacts associated with adversary c2 (. [SEP] [CLS] monitor ( contextual data about an internet - facing resource gathered from a scan ( ( as ( services ( ports that may compromise third - party infrastructure that can be used during targeting. ( efforts may ( focused on related stages of the adversary ( (, such as during command and control. [SEP] [CLS] consider use of services that may aid in ( tracking ( capabilities ( such ( (,\n",
            "Before Training Perplexity: 16.76\n",
            "After Training Perplexity: 16.89\n",
            "Masked Sentence: [MASK] use on sites across the internet [MASK] in some [MASK] [MASK] [MASK] be [MASK] to pivot on known pieces of information to uncover other adversary infrastructure. [SEP] [CLS] much [MASK] this activity will take place outside the visibility of the target organization, making [MASK] [MASK] this behavior difficult. detection [MASK] [MASK] be focused on related stages of the adversary lifecycle [MASK] such as during defense evasion or [MASK] and [MASK]. [SEP] [CLS] consider analyzing malware for features that [MASK] [MASK] [MASK] with the adversary and / or their developers [MASK] such as compiler [MASK], debugging artifacts, or code similarities. malware [MASK] [MASK] [MASK] [MASK] can also be used to identify additional samples associated\n",
            "Before Training >>> malicious use on sites across the internet malicious in some malicious malicious malicious be malicious to pivot on known pieces of information to uncover other adversary infrastructure. [SEP] [CLS] much malicious this activity will take place outside the visibility of the target organization, making malicious malicious this behavior difficult. detection malicious malicious be focused on related stages of the adversary lifecycle malicious such as during defense evasion or malicious and malicious. [SEP] [CLS] consider analyzing malware for features that malicious malicious malicious with the adversary and / or their developers malicious such as compiler malicious, debugging artifacts, or code similarities. malware malicious malicious malicious malicious can also be used to identify additional samples associated\n",
            "After Training >>> malicious use on sites across the internet malicious in some malicious malicious malicious be malicious to pivot on known pieces of information to uncover other adversary infrastructure. [SEP] [CLS] much malicious this activity will take place outside the visibility of the target organization, making malicious malicious this behavior difficult. detection malicious malicious be focused on related stages of the adversary lifecycle malicious such as during defense evasion or malicious and malicious. [SEP] [CLS] consider analyzing malware for features that malicious malicious malicious with the adversary and / or their developers malicious such as compiler malicious, debugging artifacts, or code similarities. malware malicious malicious malicious malicious can also be used to identify additional samples associated\n",
            "Before Training Perplexity: 27.16\n",
            "After Training Perplexity: 27.08\n",
            "Masked Sentence: with [MASK] adversary and identify development patterns over [MASK]. much of this activity will take place outside the visibility [MASK] the [MASK] organization, making detection of this behavior difficult. detection [MASK] may be focused on related stages of the adversary lifecycle [MASK] such as during defense [MASK] [MASK] or command [MASK] control. [SEP] [CLS] monitor for contextual [MASK] [MASK] a malicious payload [MASK] such as compilation times, file hashes, as well [MASK] watermarks or other identifiable configuration [MASK]. [SEP] [CLS] much of [MASK] activity will take place outside [MASK] visibility of the [MASK] organization, making detection of this [MASK] difficult. detection efforts may be focused on related stages of the adversary lifecycle, such\n",
            "Before Training >>> with detecting adversary and identify development patterns over detecting. much of this activity will take place outside the visibility detecting the detecting organization, making detection of this behavior difficult. detection detecting may be focused on related stages of the adversary lifecycle detecting such as during defense detecting detecting or command detecting control. [SEP] [CLS] monitor for contextual detecting detecting a malicious payload detecting such as compilation times, file hashes, as well detecting watermarks or other identifiable configuration detecting. [SEP] [CLS] much of detecting activity will take place outside detecting visibility of the detecting organization, making detection of this detecting difficult. detection efforts may be focused on related stages of the adversary lifecycle, such\n",
            "After Training >>> with the adversary and identify development patterns over the. much of this activity will take place outside the visibility the the the organization, making detection of this behavior difficult. detection the may be focused on related stages of the adversary lifecycle the such as during defense the the or command the control. [SEP] [CLS] monitor for contextual the the a malicious payload the such as compilation times, file hashes, as well the watermarks or other identifiable configuration the. [SEP] [CLS] much of the activity will take place outside the visibility of the the organization, making detection of this the difficult. detection efforts may be focused on related stages of the adversary lifecycle, such\n",
            "Before Training Perplexity: 16.83\n",
            "After Training Perplexity: 17.46\n",
            "Masked Sentence: as during defense [MASK] [MASK] or command and control. [SEP] [CLS] consider use of services that [MASK] aid in the [MASK] of newly issued certificates and / or certificates in use on sites across [MASK] internet. in [MASK] cases it may be possible to pivot [MASK] known pieces of certificate information to uncover [MASK] [MASK] infrastructure. [SEP] [CLS] [MASK] server [MASK] side components of adversary tools may have default values [MASK] for ssl / tls [MASK]. [SEP] [CLS] much of this activity [MASK] take place outside the visibility of the target organization, making detection [MASK] this behavior difficult. detection efforts may be focused on related stages [MASK] the adversary lifecycle [MASK] such as during defense evasion or\n",
            "Before Training >>> as during defense eva eva or command and control. [SEP] [CLS] consider use of services that eva aid in the eva of newly issued certificates and / or certificates in use on sites across eva internet. in eva cases it may be possible to pivot eva known pieces of certificate information to uncover eva eva infrastructure. [SEP] [CLS] eva server eva side components of adversary tools may have default values eva for ssl / tls eva. [SEP] [CLS] much of this activity eva take place outside the visibility of the target organization, making detection eva this behavior difficult. detection efforts may be focused on related stages eva the adversary lifecycle eva such as during defense evasion or\n",
            "After Training >>> as during defense eva eva or command and control. [SEP] [CLS] consider use of services that eva aid in the eva of newly issued certificates and / or certificates in use on sites across eva internet. in eva cases it may be possible to pivot eva known pieces of certificate information to uncover eva eva infrastructure. [SEP] [CLS] eva server eva side components of adversary tools may have default values eva for ssl / tls eva. [SEP] [CLS] much of this activity eva take place outside the visibility of the target organization, making detection eva this behavior difficult. detection efforts may be focused on related stages eva the adversary lifecycle eva such as during defense evasion or\n",
            "Before Training Perplexity: 18.66\n",
            "After Training Perplexity: 19.49\n",
            "Masked Sentence: command and [MASK]. [SEP] [CLS] monitor for logged [MASK] traffic in response to a scan showing both protocol [MASK] and body values that may buy and / or [MASK] capabilities that can be used during targeting. [SEP] [CLS] much of [MASK] activity will take place outside the visibility of the target organization, making [MASK] [MASK] this behavior difficult [MASK] [MASK] efforts may be focused on [MASK] stages of [MASK] adversary lifecycle, such as during defense evasion or command and control. [SEP] [CLS] consider analyzing malware for features [MASK] may be associated with malware providers, such as compiler used [MASK] debugging artifacts, code similarities, or even group identifiers [MASK] with specific malware\n",
            "Before Training >>> command and control. [SEP] [CLS] monitor for logged control traffic in response to a scan showing both protocol control and body values that may buy and / or control capabilities that can be used during targeting. [SEP] [CLS] much of control activity will take place outside the visibility of the target organization, making control control this behavior difficult control control efforts may be focused on control stages of control adversary lifecycle, such as during defense evasion or command and control. [SEP] [CLS] consider analyzing malware for features control may be associated with malware providers, such as compiler used control debugging artifacts, code similarities, or even group identifiers control with specific malware\n",
            "After Training >>> command and control. [SEP] [CLS] monitor for logged control traffic in response to a scan showing both protocol control and body values that may buy and / or control capabilities that can be used during targeting. [SEP] [CLS] much of control activity will take place outside the visibility of the target organization, making control control this behavior difficult control control efforts may be focused on control stages of control adversary lifecycle, such as during defense evasion or command and control. [SEP] [CLS] consider analyzing malware for features control may be associated with malware providers, such as compiler used control debugging artifacts, code similarities, or even group identifiers control with specific malware\n",
            "Before Training Perplexity: 13.94\n",
            "After Training Perplexity: 14.36\n",
            "Masked Sentence: - as - a - service ( [MASK] [MASK] ) offerings. [SEP] [CLS] malware repositories can also be used to identify additional samples associated with the developers and the adversary utilizing their [MASK] [MASK] identifying overlaps in malware [MASK] by different [MASK] [MASK] [MASK] may indicate [MASK] [MASK] was obtained by the adversary rather [MASK] developed by them. [SEP] [CLS] in some cases, identifying overlapping characteristics in malware used by different adversaries may point to a shared quartermaster. [ 6 ] malware repositories can also be [MASK] to [MASK] features of tool [MASK] associated with an adversary, such as watermarks in cobalt strike [MASK] [MASK]. [SEP] [CLS] monitor\n",
            "Before Training >>> - as - a - service ( ip ip ) offerings. [SEP] [CLS] malware repositories can also be used to identify additional samples associated with the developers and the adversary utilizing their ip ip identifying overlaps in malware ip by different ip ip ip may indicate ip ip was obtained by the adversary rather ip developed by them. [SEP] [CLS] in some cases, identifying overlapping characteristics in malware used by different adversaries may point to a shared quartermaster. [ 6 ] malware repositories can also be ip to ip features of tool ip associated with an adversary, such as watermarks in cobalt strike ip ip. [SEP] [CLS] monitor\n",
            "After Training >>> - as - a - service ( mal mal ) offerings. [SEP] [CLS] malware repositories can also be used to identify additional samples associated with the developers and the adversary utilizing their mal mal identifying overlaps in malware mal by different mal mal mal may indicate mal mal was obtained by the adversary rather mal developed by them. [SEP] [CLS] in some cases, identifying overlapping characteristics in malware used by different adversaries may point to a shared quartermaster. [ 6 ] malware repositories can also be mal to mal features of tool mal associated with an adversary, such as watermarks in cobalt strike mal mal. [SEP] [CLS] monitor\n",
            "Before Training Perplexity: 19.81\n",
            "After Training Perplexity: 19.20\n",
            "Masked Sentence: for contextual data about a malicious payload, such [MASK] compilation times, file hashes, as well as watermarks or other identifiable configuration information. [SEP] [CLS] much of this activity [MASK] take place outside the visibility [MASK] [MASK] target [MASK] [MASK] making detection of this behavior difficult [MASK] detection efforts may [MASK] [MASK] on related stages of the adversary lifecycle, such as during defense evasion or command and control. [SEP] [CLS] monitor for [MASK] and abnormal [MASK] creations that may indicate malicious content [MASK] [MASK] online network communications [MASK] [SEP] [CLS] [MASK] for other unusual network traffic that may indicate additional [MASK] content transferred to the system. use network intrusion detection systems, sometimes with ssl /\n",
            "Before Training >>> for contextual data about a malicious payload, such as compilation times, file hashes, as well as watermarks or other identifiable configuration information. [SEP] [CLS] much of this activity as take place outside the visibility as as target as as making detection of this behavior difficult as detection efforts may as as on related stages of the adversary lifecycle, such as during defense evasion or command and control. [SEP] [CLS] monitor for as and abnormal as creations that may indicate malicious content as as online network communications as [SEP] [CLS] as for other unusual network traffic that may indicate additional as content transferred to the system. use network intrusion detection systems, sometimes with ssl /\n",
            "After Training >>> for contextual data about a malicious payload, such as compilation times, file hashes, as well as watermarks or other identifiable configuration information. [SEP] [CLS] much of this activity as take place outside the visibility as as target as as making detection of this behavior difficult as detection efforts may as as on related stages of the adversary lifecycle, such as during defense evasion or command and control. [SEP] [CLS] monitor for as and abnormal as creations that may indicate malicious content as as online network communications as [SEP] [CLS] as for other unusual network traffic that may indicate additional as content transferred to the system. use network intrusion detection systems, sometimes with ssl /\n",
            "Before Training Perplexity: 19.00\n",
            "After Training Perplexity: 19.97\n",
            "Masked Sentence: tls inspection, to look [MASK] known malicious payloads, content obfuscation [MASK] and exploit code. [SEP] [CLS] look for behaviors on [MASK] [MASK] [MASK] system that [MASK] [MASK] successful compromise, such [MASK] abnormal [MASK] of [MASK] processes. this could include [MASK] files [MASK] [MASK] disk, evidence of process injection for attempts to hide [MASK], [MASK] evidence of discovery. [SEP] [CLS] firewalls and proxies can inspect urls for potentially known - bad [MASK] or parameters. they can also do reputation - based analytics on websites and their requested resources such as how old a domain is [MASK] who it'[MASK] [MASK] to, if it's on a [MASK] bad\n",
            "Before Training >>> tls inspection, to look for known malicious payloads, content obfuscation for and exploit code. [SEP] [CLS] look for behaviors on for for for system that for for successful compromise, such for abnormal for of for processes. this could include for files for for disk, evidence of process injection for attempts to hide for, for evidence of discovery. [SEP] [CLS] firewalls and proxies can inspect urls for potentially known - bad for or parameters. they can also do reputation - based analytics on websites and their requested resources such as how old a domain is for who it'for for to, if it's on a for bad\n",
            "After Training >>> tls inspection, to look for known malicious payloads, content obfuscation for and exploit code. [SEP] [CLS] look for behaviors on for for for system that for for successful compromise, such for abnormal for of for processes. this could include for files for for disk, evidence of process injection for attempts to hide for, for evidence of discovery. [SEP] [CLS] firewalls and proxies can inspect urls for potentially known - bad for or parameters. they can also do reputation - based analytics on websites and their requested resources such as how old a domain is for who it'for for to, if it's on a for bad\n",
            "Before Training Perplexity: 23.82\n",
            "After Training Perplexity: 25.19\n",
            "Masked Sentence: list, or how many [MASK] users have connected to it before. [SEP] [CLS] monitor for newly constructed files written to disk to gain [MASK] [MASK] a system through a user visiting a website over the normal course of [MASK] [MASK]. [SEP] [CLS] monitor for [MASK] constructed network connections to untrusted hosts that are [MASK] to send or receive [MASK]. [SEP] [CLS] monitor for other unusual network traffic [MASK] may indicate additional tools transferred to the system. [MASK] network intrusion detection systems, sometimes with ssl / tls inspection, to look for known malicious scripts ( recon, heap spray, and browser [MASK] scripts have been frequently reused ), common script [MASK] [MASK] [MASK], [MASK]\n",
            "Before Training >>> list, or how many malicious users have connected to it before. [SEP] [CLS] monitor for newly constructed files written to disk to gain malicious malicious a system through a user visiting a website over the normal course of malicious malicious. [SEP] [CLS] monitor for malicious constructed network connections to untrusted hosts that are malicious to send or receive malicious. [SEP] [CLS] monitor for other unusual network traffic malicious may indicate additional tools transferred to the system. malicious network intrusion detection systems, sometimes with ssl / tls inspection, to look for known malicious scripts ( recon, heap spray, and browser malicious scripts have been frequently reused ), common script malicious malicious malicious, malicious\n",
            "After Training >>> list, or how many malicious users have connected to it before. [SEP] [CLS] monitor for newly constructed files written to disk to gain malicious malicious a system through a user visiting a website over the normal course of malicious malicious. [SEP] [CLS] monitor for malicious constructed network connections to untrusted hosts that are malicious to send or receive malicious. [SEP] [CLS] monitor for other unusual network traffic malicious may indicate additional tools transferred to the system. malicious network intrusion detection systems, sometimes with ssl / tls inspection, to look for known malicious scripts ( recon, heap spray, and browser malicious scripts have been frequently reused ), common script malicious malicious malicious, malicious\n",
            "Before Training Perplexity: 15.77\n",
            "After Training Perplexity: 14.71\n",
            "Masked Sentence: exploit code. [SEP] [CLS] look for [MASK] [MASK] the endpoint system [MASK] might indicate successful compromise [MASK] such as abnormal behaviors of browser processes [MASK] this could [MASK] suspicious files written to disk [MASK] evidence of process injection for attempts to hide [MASK], or evidence of discovery. [SEP] [CLS] when authentication [MASK] [MASK] [MASK] to access an exposed remote service, monitor for follow - on activities such as anomalous external use of [MASK] exposed api or [MASK]. [SEP] [CLS] follow best [MASK] for detecting adversary use of valid accounts for authenticating [MASK] remote services. collect authentication logs and analyze for unusual access [MASK], [MASK] of [MASK], and access outside of normal business hours. [SEP] [CLS]\n",
            "Before Training >>> exploit code. [SEP] [CLS] look for weaknesses weaknesses the endpoint system weaknesses might indicate successful compromise weaknesses such as abnormal behaviors of browser processes weaknesses this could weaknesses suspicious files written to disk weaknesses evidence of process injection for attempts to hide weaknesses, or evidence of discovery. [SEP] [CLS] when authentication weaknesses weaknesses weaknesses to access an exposed remote service, monitor for follow - on activities such as anomalous external use of weaknesses exposed api or weaknesses. [SEP] [CLS] follow best weaknesses for detecting adversary use of valid accounts for authenticating weaknesses remote services. collect authentication logs and analyze for unusual access weaknesses, weaknesses of weaknesses, and access outside of normal business hours. [SEP] [CLS]\n",
            "After Training >>> exploit code. [SEP] [CLS] look for information information the endpoint system information might indicate successful compromise information such as abnormal behaviors of browser processes information this could information suspicious files written to disk information evidence of process injection for attempts to hide information, or evidence of discovery. [SEP] [CLS] when authentication information information information to access an exposed remote service, monitor for follow - on activities such as anomalous external use of information exposed api or information. [SEP] [CLS] follow best information for detecting adversary use of valid accounts for authenticating information remote services. collect authentication logs and analyze for unusual access information, information of information, and access outside of normal business hours. [SEP] [CLS]\n",
            "Before Training Perplexity: 31.11\n",
            "After Training Perplexity: 29.22\n",
            "Masked Sentence: monitor for newly constructed network connections that may use valid accounts to access and / or persist within a network using [MASK] remote [MASK]. use of external remote services may [MASK] legitimate depending on the environment and [MASK] it ’ s used. other factors, such as access patterns and activity that occurs after a remote login, may indicate [MASK] or malicious behavior using [MASK] remote [MASK] [MASK] [SEP] [CLS] [MASK] and analyze traffic patterns and packet inspection associated to protocol ( s ) that do [MASK] follow the expected protocol standards and traffic flows ( e [MASK] [MASK] extraneous packets that do not [MASK] to established flows [MASK] gratuitous or anomalous traffic patterns [MASK] anoma\n",
            "Before Training >>> monitor for newly constructed network connections that may use valid accounts to access and / or persist within a network using external remote external. use of external remote services may external legitimate depending on the environment and external it ’ s used. other factors, such as access patterns and activity that occurs after a remote login, may indicate external or malicious behavior using external remote external external [SEP] [CLS] external and analyze traffic patterns and packet inspection associated to protocol ( s ) that do external follow the expected protocol standards and traffic flows ( e external external extraneous packets that do not external to established flows external gratuitous or anomalous traffic patterns external anoma\n",
            "After Training >>> monitor for newly constructed network connections that may use valid accounts to access and / or persist within a network using a remote a. use of external remote services may a legitimate depending on the environment and a it ’ s used. other factors, such as access patterns and activity that occurs after a remote login, may indicate a or malicious behavior using a remote a a [SEP] [CLS] a and analyze traffic patterns and packet inspection associated to protocol ( s ) that do a follow the expected protocol standards and traffic flows ( e a a extraneous packets that do not a to established flows a gratuitous or anomalous traffic patterns a anoma\n",
            "Before Training Perplexity: 11.26\n",
            "After Training Perplexity: 11.19\n",
            "Masked Sentence: ##lous syntax, or structure ). consider correlation [MASK] process monitoring and command line to detect anomalous processes execution [MASK] command line [MASK] [MASK] to traffic patterns ( e. g. monitor anomalies in use of [MASK] that do not normally [MASK] connections for respective protocol ( s ) ). [SEP] [CLS] [MASK] for network traffic [MASK] from unknown / unexpected hardware devices. local network traffic metadata ( such as source mac addressing ) as well as usage of network management protocols [MASK] [MASK] dhcp may be helpful in identifying hardware. [SEP] [CLS] monitor for third - party application logging [MASK] messaging [MASK] [MASK] / or other [MASK] that may send phishing messages to gain [MASK] to\n",
            "Before Training >>> ##lous syntax, or structure ). consider correlation between process monitoring and command line to detect anomalous processes execution between command line between between to traffic patterns ( e. g. monitor anomalies in use of between that do not normally between connections for respective protocol ( s ) ). [SEP] [CLS] between for network traffic between from unknown / unexpected hardware devices. local network traffic metadata ( such as source mac addressing ) as well as usage of network management protocols between between dhcp may be helpful in identifying hardware. [SEP] [CLS] monitor for third - party application logging between messaging between between / or other between that may send phishing messages to gain between to\n",
            "After Training >>> ##lous syntax, or structure ). consider correlation between process monitoring and command line to detect anomalous processes execution between command line between between to traffic patterns ( e. g. monitor anomalies in use of between that do not normally between connections for respective protocol ( s ) ). [SEP] [CLS] between for network traffic between from unknown / unexpected hardware devices. local network traffic metadata ( such as source mac addressing ) as well as usage of network management protocols between between dhcp may be helpful in identifying hardware. [SEP] [CLS] monitor for third - party application logging between messaging between between / or other between that may send phishing messages to gain between to\n",
            "Before Training Perplexity: 12.76\n",
            "After Training Perplexity: 12.60\n",
            "Masked Sentence: [MASK] systems. filtering based on dkim + [MASK] [MASK] [MASK] header analysis can help [MASK] when the [MASK] sender is spoofed. [ 14 ] [ 15 ] url inspection within email ( including expanding shortened links ) can help detect links leading [MASK] known malicious sites. [SEP] [CLS] detonation chambers can be used to detect these [MASK] and [MASK] automatically go to these sites to determine [MASK] they're potentially malicious, [MASK] wait and capture [MASK] content if a user visits the link. [SEP] [CLS] monitor call logs from corporate devices to identify [MASK] of potential voice phishing, such as calls to / from known [MASK] [MASK] numbers. correlate these\n",
            "Before Training >>> filtering systems. filtering based on dkim + filtering filtering filtering header analysis can help filtering when the filtering sender is spoofed. [ 14 ] [ 15 ] url inspection within email ( including expanding shortened links ) can help detect links leading filtering known malicious sites. [SEP] [CLS] detonation chambers can be used to detect these filtering and filtering automatically go to these sites to determine filtering they're potentially malicious, filtering wait and capture filtering content if a user visits the link. [SEP] [CLS] monitor call logs from corporate devices to identify filtering of potential voice phishing, such as calls to / from known filtering filtering numbers. correlate these\n",
            "After Training >>> email systems. filtering based on dkim + email email email header analysis can help email when the email sender is spoofed. [ 14 ] [ 15 ] url inspection within email ( including expanding shortened links ) can help detect links leading email known malicious sites. [SEP] [CLS] detonation chambers can be used to detect these email and email automatically go to these sites to determine email they're potentially malicious, email wait and capture email content if a user visits the link. [SEP] [CLS] monitor call logs from corporate devices to identify email of potential voice phishing, such as calls to / from known email email numbers. correlate these\n",
            "Before Training Perplexity: 12.74\n",
            "After Training Perplexity: 12.46\n",
            "Masked Sentence: records with system events. [SEP] [CLS] monitor for newly [MASK] files from [MASK] [MASK] [MASK] messages to gain access to victim systems. [SEP] [CLS] monitor and analyze ssl / tls traffic [MASK] and packet inspection associated to protocol ( s ) that do [MASK] follow the expected protocol standards and traffic flows ( e. g extraneous packets that do not belong [MASK] established flows, gratuitous or anomalous traffic patterns, anomalous [MASK], or structure ). [SEP] [CLS] consider correlation with process monitoring and [MASK] line to detect [MASK] [MASK] [MASK] processes execution and command line arguments [MASK] to traffic patterns ( [MASK]. g. monitor anomalies in use\n",
            "Before Training >>> records with system events. [SEP] [CLS] monitor for newly configured files from configured configured configured messages to gain access to victim systems. [SEP] [CLS] monitor and analyze ssl / tls traffic configured and packet inspection associated to protocol ( s ) that do configured follow the expected protocol standards and traffic flows ( e. g extraneous packets that do not belong configured established flows, gratuitous or anomalous traffic patterns, anomalous configured, or structure ). [SEP] [CLS] consider correlation with process monitoring and configured line to detect configured configured configured processes execution and command line arguments configured to traffic patterns ( configured. g. monitor anomalies in use\n",
            "After Training >>> records with system events. [SEP] [CLS] monitor for newly configured files from configured configured configured messages to gain access to victim systems. [SEP] [CLS] monitor and analyze ssl / tls traffic configured and packet inspection associated to protocol ( s ) that do configured follow the expected protocol standards and traffic flows ( e. g extraneous packets that do not belong configured established flows, gratuitous or anomalous traffic patterns, anomalous configured, or structure ). [SEP] [CLS] consider correlation with process monitoring and configured line to detect configured configured configured processes execution and command line arguments configured to traffic patterns ( configured. g. monitor anomalies in use\n",
            "Before Training Perplexity: 18.03\n",
            "After Training Perplexity: 16.86\n",
            "Masked Sentence: [MASK] files [MASK] do not normally initiate connections for respective protocol ( s ) ). [SEP] [CLS] filtering [MASK] on dkim + spf or header [MASK] can help detect when the email sender [MASK] spoofed. [SEP] [CLS] monitor network data for uncommon data flows [MASK] processes [MASK] [MASK] network that do not normally have [MASK] communication or have [MASK] been [MASK] before are suspicious. [SEP] [CLS] configuration management databases ( cmdb [MASK] and other asset management systems may help with the detection of computer systems or network [MASK] that should not exist on a network. monitor logs for unexpected actions taken by any delegated administrator accounts. [SEP] [CLS] monitor for newly constructed logon behavior that\n",
            "Before Training >>> configuration files configuration do not normally initiate connections for respective protocol ( s ) ). [SEP] [CLS] filtering configuration on dkim + spf or header configuration can help detect when the email sender configuration spoofed. [SEP] [CLS] monitor network data for uncommon data flows configuration processes configuration configuration network that do not normally have configuration communication or have configuration been configuration before are suspicious. [SEP] [CLS] configuration management databases ( cmdb configuration and other asset management systems may help with the detection of computer systems or network configuration that should not exist on a network. monitor logs for unexpected actions taken by any delegated administrator accounts. [SEP] [CLS] monitor for newly constructed logon behavior that\n",
            "After Training >>> these files these do not normally initiate connections for respective protocol ( s ) ). [SEP] [CLS] filtering these on dkim + spf or header these can help detect when the email sender these spoofed. [SEP] [CLS] monitor network data for uncommon data flows these processes these these network that do not normally have these communication or have these been these before are suspicious. [SEP] [CLS] configuration management databases ( cmdb these and other asset management systems may help with the detection of computer systems or network these that should not exist on a network. monitor logs for unexpected actions taken by any delegated administrator accounts. [SEP] [CLS] monitor for newly constructed logon behavior that\n",
            "Before Training Perplexity: 18.78\n",
            "After Training Perplexity: 18.43\n",
            "Masked Sentence: may breach or [MASK] leverage [MASK] who have access to intended victims. [SEP] [CLS] [MASK] [MASK] [MASK] other security systems with login information ( e. [MASK]. [MASK] a user has an active login session but has not entered the building or [MASK] not have vpn access ). [SEP] [CLS] monitor and analyze traffic patterns [MASK] packet inspection associated to [MASK] ( [MASK] ) that do not [MASK] the expected protocol standards and traffic flows ( [MASK]. g extraneous packets that do not [MASK] to established flows, gratuitous [MASK] [MASK] [MASK] [MASK] [MASK] [MASK], anomalous syntax, or structure ) from a trusted entity. consider correlation with process monitoring and command\n",
            "Before Training >>> may breach or exploit leverage exploit who have access to intended victims. [SEP] [CLS] exploit exploit exploit other security systems with login information ( e. exploit. exploit a user has an active login session but has not entered the building or exploit not have vpn access ). [SEP] [CLS] monitor and analyze traffic patterns exploit packet inspection associated to exploit ( exploit ) that do not exploit the expected protocol standards and traffic flows ( exploit. g extraneous packets that do not exploit to established flows, gratuitous exploit exploit exploit exploit exploit exploit, anomalous syntax, or structure ) from a trusted entity. consider correlation with process monitoring and command\n",
            "After Training >>> may breach or exploit leverage exploit who have access to intended victims. [SEP] [CLS] exploit exploit exploit other security systems with login information ( e. exploit. exploit a user has an active login session but has not entered the building or exploit not have vpn access ). [SEP] [CLS] monitor and analyze traffic patterns exploit packet inspection associated to exploit ( exploit ) that do not exploit the expected protocol standards and traffic flows ( exploit. g extraneous packets that do not exploit to established flows, gratuitous exploit exploit exploit exploit exploit exploit, anomalous syntax, or structure ) from a trusted entity. consider correlation with process monitoring and command\n",
            "Before Training Perplexity: 28.84\n",
            "After Training Perplexity: 26.67\n",
            "Masked Sentence: line to detect anomalous processes execution and command line arguments associated to traffic patterns ( e. g [MASK] monitor anomalies in use of files that [MASK] not normally [MASK] connections [MASK] respective protocol ( s [MASK] ). [SEP] [CLS] monitor for changes made to ad settings for unexpected modifications to user accounts, such as deletions or potentially malicious [MASK] to user [MASK] ( credentials, status [MASK] [MASK]. ) [MASK] [SEP] [CLS] monitor for [MASK] deletions of user [MASK]. windows event logs may designate activity associated [MASK] an [MASK]'s attempt to [MASK] an account ( ex : event id 4726 - a user account was deleted ). [SEP] [CLS] [MASK] [MASK]\n",
            "Before Training >>> line to detect anomalous processes execution and command line arguments associated to traffic patterns ( e. g ) monitor anomalies in use of files that ) not normally ) connections ) respective protocol ( s ) ). [SEP] [CLS] monitor for changes made to ad settings for unexpected modifications to user accounts, such as deletions or potentially malicious ) to user ) ( credentials, status ) ). ) ) [SEP] [CLS] monitor for ) deletions of user ). windows event logs may designate activity associated ) an )'s attempt to ) an account ( ex : event id 4726 - a user account was deleted ). [SEP] [CLS] ) )\n",
            "After Training >>> line to detect anomalous processes execution and command line arguments associated to traffic patterns ( e. g . monitor anomalies in use of files that . not normally . connections . respective protocol ( s . ). [SEP] [CLS] monitor for changes made to ad settings for unexpected modifications to user accounts, such as deletions or potentially malicious . to user . ( credentials, status . .. ) . [SEP] [CLS] monitor for . deletions of user .. windows event logs may designate activity associated . an .'s attempt to . an account ( ex : event id 4726 - a user account was deleted ). [SEP] [CLS] . .\n",
            "Before Training Perplexity: 26.99\n",
            "After Training Perplexity: 25.76\n",
            "Masked Sentence: on these [MASK] ids may [MASK] a high degree of false positives, so [MASK] against [MASK] [MASK] for how systems [MASK] typically used and correlate modification events with other [MASK] of [MASK] activity where possible. [SEP] [CLS] [MASK] for [MASK] made to user accounts for [MASK] modification of properties, such as passwords or status ( enabled / disabled ). [SEP] [CLS] windows event logs may designate activity associated [MASK] an adversary'[MASK] attempt [MASK] remove access to an [MASK] : event id 4723 - an [MASK] was made to change an [MASK]'s passwordevent [MASK] 4724 - an attempt was made to reset an account's passwordevent id 4725\n",
            "Before Training >>> on these instances ids may instances a high degree of false positives, so instances against instances instances for how systems instances typically used and correlate modification events with other instances of instances activity where possible. [SEP] [CLS] instances for instances made to user accounts for instances modification of properties, such as passwords or status ( enabled / disabled ). [SEP] [CLS] windows event logs may designate activity associated instances an adversary'instances attempt instances remove access to an instances : event id 4723 - an instances was made to change an instances's passwordevent instances 4724 - an attempt was made to reset an account's passwordevent id 4725\n",
            "After Training >>> on these systems ids may systems a high degree of false positives, so systems against systems systems for how systems systems typically used and correlate modification events with other systems of systems activity where possible. [SEP] [CLS] systems for systems made to user accounts for systems modification of properties, such as passwords or status ( enabled / disabled ). [SEP] [CLS] windows event logs may designate activity associated systems an adversary'systems attempt systems remove access to an systems : event id 4723 - an systems was made to change an systems's passwordevent systems 4724 - an attempt was made to reset an account's passwordevent id 4725\n",
            "Before Training Perplexity: 22.07\n",
            "After Training Perplexity: 21.03\n",
            "Masked Sentence: - a [MASK] account [MASK] disabled [SEP] [CLS] alerting on these event ids [MASK] generate a high degree of false [MASK] [MASK], so compare against baseline knowledge for how systems [MASK] typically used and correlate modification events with other indications of [MASK] [MASK] where possible. [SEP] [CLS] [MASK] for [MASK] deletion of a [MASK] [MASK] infrastructure, such as the deletedbcluster and deleteglobalcluster events in aws, or a high quantity of data deletion [MASK] [MASK] such as deletebucket [MASK] many of these events within a short period of time [MASK] indicate malicious activity. [SEP] [CLS] [MASK] executed [MASK] and [MASK] for bin\n",
            "Before Training >>> - a malicious account malicious disabled [SEP] [CLS] alerting on these event ids malicious generate a high degree of false malicious malicious, so compare against baseline knowledge for how systems malicious typically used and correlate modification events with other indications of malicious malicious where possible. [SEP] [CLS] malicious for malicious deletion of a malicious malicious infrastructure, such as the deletedbcluster and deleteglobalcluster events in aws, or a high quantity of data deletion malicious malicious such as deletebucket malicious many of these events within a short period of time malicious indicate malicious activity. [SEP] [CLS] malicious executed malicious and malicious for bin\n",
            "After Training >>> - a malicious account malicious disabled [SEP] [CLS] alerting on these event ids malicious generate a high degree of false malicious malicious, so compare against baseline knowledge for how systems malicious typically used and correlate modification events with other indications of malicious malicious where possible. [SEP] [CLS] malicious for malicious deletion of a malicious malicious infrastructure, such as the deletedbcluster and deleteglobalcluster events in aws, or a high quantity of data deletion malicious malicious such as deletebucket malicious many of these events within a short period of time malicious indicate malicious activity. [SEP] [CLS] malicious executed malicious and malicious for bin\n",
            "Before Training Perplexity: 26.44\n",
            "After Training Perplexity: 25.35\n",
            "Masked Sentence: ##aries [MASK] [MASK] be [MASK] in data destruction activity, such as sdelete. [SEP] [CLS] monitor for unexpected deletion to a file ( ex : sysmon eid [MASK] [MASK] [SEP] [CLS] monitor for changes made [MASK] a large quantity [MASK] files for unexpected modifications in user [MASK] [MASK] [MASK] [MASK] c : \\ windows \\ system32. [SEP] [CLS] monitor for unexpected deletion of a virtual machine image ( ex : azure compute service images delete ) [SEP] [CLS] [MASK] for unexpected deletion of an instance ( ex : instance. delete within [MASK] [MASK] audit logs ) [SEP] [CLS] monitor [MASK] newly [MASK] processes of binaries [MASK] could be involved in\n",
            "Before Training >>> ##aries can can be can in data destruction activity, such as sdelete. [SEP] [CLS] monitor for unexpected deletion to a file ( ex : sysmon eid can can [SEP] [CLS] monitor for changes made can a large quantity can files for unexpected modifications in user can can can can c : \\ windows \\ system32. [SEP] [CLS] monitor for unexpected deletion of a virtual machine image ( ex : azure compute service images delete ) [SEP] [CLS] can for unexpected deletion of an instance ( ex : instance. delete within can can audit logs ) [SEP] [CLS] monitor can newly can processes of binaries can could be involved in\n",
            "After Training >>> ##aries can can be can in data destruction activity, such as sdelete. [SEP] [CLS] monitor for unexpected deletion to a file ( ex : sysmon eid can can [SEP] [CLS] monitor for changes made can a large quantity can files for unexpected modifications in user can can can can c : \\ windows \\ system32. [SEP] [CLS] monitor for unexpected deletion of a virtual machine image ( ex : azure compute service images delete ) [SEP] [CLS] can for unexpected deletion of an instance ( ex : instance. delete within can can audit logs ) [SEP] [CLS] monitor can newly can processes of binaries can could be involved in\n",
            "Before Training Perplexity: 40.14\n",
            "After Training Perplexity: 39.01\n"
          ]
        }
      ],
      "source": [
        "# 設定 chunk_size 和 wwm_probability\n",
        "chunk_size = 128\n",
        "wwm_probability = 0.15\n",
        "\n",
        "# 加載數據\n",
        "test_df = pd.read_excel(\"/content/mitre_test.xlsx\")\n",
        "test_dataset = Dataset.from_pandas(test_df)\n",
        "print(test_dataset.column_names)\n",
        "\n",
        "tokenized_test_datasets = test_dataset.map(\n",
        "    tokenize_function, batched=True, remove_columns=[\"name\", \"description\"]\n",
        ")\n",
        "print(tokenized_test_datasets.column_names)\n",
        "\n",
        "chunked_test_datasets = tokenized_test_datasets.map(group_texts, batched=True)\n",
        "\n",
        "\n",
        "\n",
        "# 此處轉換為列表以便於調試\n",
        "chunked_test_datasets_list = [chunked_test_datasets[i] for i in range(len(chunked_test_datasets))]\n",
        "masked_data = whole_word_masking_data_collator(chunked_test_datasets_list)\n",
        "\n",
        "\n",
        "# 評估兩個模型的 perplexity 和填充結果\n",
        "for chunk in masked_data[\"input_ids\"]:\n",
        "    masked_sentence = tokenizer.decode(chunk)\n",
        "    print(f\"Masked Sentence: {masked_sentence}\")\n",
        "\n",
        "    # 只在句子包含[MASK]時顯示填充結果\n",
        "    if tokenizer.mask_token in masked_sentence:\n",
        "        inputs = tokenizer(masked_sentence, return_tensors=\"pt\")\n",
        "\n",
        "        # Forward operation 獲得所有 token 的 logits (Before Training)\n",
        "        token_logits_before = model_before(**inputs).logits\n",
        "        mask_token_index_before = torch.where(inputs[\"input_ids\"] == tokenizer.mask_token_id)[1]\n",
        "        mask_token_logits_before = token_logits_before[0, mask_token_index_before, :]\n",
        "        top_token_before = torch.topk(mask_token_logits_before, 1, dim=1).indices[0].item()\n",
        "        filled_sentence_before = masked_sentence.replace(tokenizer.mask_token, tokenizer.decode([top_token_before]))\n",
        "        print(f\"Before Training >>> {filled_sentence_before}\")\n",
        "\n",
        "        # Forward operation 獲得所有 token 的 logits (After Training)\n",
        "        token_logits_after = model_after(**inputs).logits\n",
        "        mask_token_index_after = torch.where(inputs[\"input_ids\"] == tokenizer.mask_token_id)[1]\n",
        "        mask_token_logits_after = token_logits_after[0, mask_token_index_after, :]\n",
        "        top_token_after = torch.topk(mask_token_logits_after, 1, dim=1).indices[0].item()\n",
        "        filled_sentence_after = masked_sentence.replace(tokenizer.mask_token, tokenizer.decode([top_token_after]))\n",
        "        print(f\"After Training >>> {filled_sentence_after}\")\n",
        "    else:\n",
        "        print(\"No [MASK] token found in the sentence, skipping fill-mask results.\")\n",
        "\n",
        "    perplexity_before = calculate_perplexity(model_before, tokenizer, chunk)\n",
        "    perplexity_after = calculate_perplexity(model_after, tokenizer, chunk)\n",
        "    print(f\"Before Training Perplexity: {perplexity_before:.2f}\")\n",
        "    print(f\"After Training Perplexity: {perplexity_after:.2f}\")\n"
      ]
    },
    {
      "cell_type": "markdown",
      "metadata": {
        "id": "TcZM17F0JSnL"
      },
      "source": [
        "## **Fine-tuning DistilBERT with Accelerate**"
      ]
    },
    {
      "cell_type": "code",
      "execution_count": null,
      "metadata": {
        "id": "7YXUwQ10JXdQ"
      },
      "outputs": [],
      "source": [
        "# 插入隨機 mask\n",
        "def insert_random_mask(batch):\n",
        "    features = [dict(zip(batch, t)) for t in zip(*batch.values())]\n",
        "    masked_inputs = data_collator(features)\n",
        "    # Create a new \"masked\" column for each column in the dataset\n",
        "    return {\"masked_\" + k: v.numpy() for k, v in masked_inputs.items()}"
      ]
    },
    {
      "cell_type": "code",
      "execution_count": null,
      "metadata": {
        "colab": {
          "base_uri": "https://localhost:8080/",
          "height": 49,
          "referenced_widgets": [
            "80027bda15fc45299e6c53157da89725",
            "58b2e83d046d48a4a3f9e09b81e869b5",
            "b690c1ca6cc64933a6fdfadf038ebcc0",
            "fcc20c345faf4df886f8c3a1cbca6f35",
            "8dc9713927e04cc497bf6e7f1ea15d83",
            "1406765a7106439381709990ad641733",
            "ea0f972e645848159a982f12d41d37f6",
            "6454b055164849f5911e89dc1ab17871",
            "ef16ff87e3a3404eb88ac3d6115e3ad2",
            "9a4409a122c64d1280c5c927ae0ee87e",
            "775b66d8e80546258184d43c76b7669a"
          ]
        },
        "id": "6uYKfLKHJeCG",
        "outputId": "9d62e5d8-7840-4e79-fcc7-38a95707ddac"
      },
      "outputs": [
        {
          "data": {
            "application/vnd.jupyter.widget-view+json": {
              "model_id": "80027bda15fc45299e6c53157da89725",
              "version_major": 2,
              "version_minor": 0
            },
            "text/plain": [
              "Map:   0%|          | 0/60 [00:00<?, ? examples/s]"
            ]
          },
          "metadata": {},
          "output_type": "display_data"
        }
      ],
      "source": [
        "downsampled_dataset = downsampled_dataset.remove_columns([\"word_ids\"])\n",
        "eval_dataset = downsampled_dataset[\"test\"].map(\n",
        "    insert_random_mask,\n",
        "    batched=True,\n",
        "    remove_columns=downsampled_dataset[\"test\"].column_names,\n",
        ")\n",
        "eval_dataset = eval_dataset.rename_columns(\n",
        "    {\n",
        "        \"masked_input_ids\": \"input_ids\",\n",
        "        \"masked_attention_mask\": \"attention_mask\",\n",
        "        \"masked_labels\": \"labels\",\n",
        "    }\n",
        ")"
      ]
    },
    {
      "cell_type": "code",
      "execution_count": null,
      "metadata": {
        "id": "TzVT-ar9JgUL"
      },
      "outputs": [],
      "source": [
        "batch_size = 64\n",
        "train_dataloader = DataLoader(\n",
        "    downsampled_dataset[\"train\"],\n",
        "    shuffle=True,\n",
        "    batch_size=batch_size,\n",
        "    collate_fn=data_collator,\n",
        ")\n",
        "eval_dataloader = DataLoader(\n",
        "    eval_dataset, batch_size=batch_size, collate_fn=default_data_collator\n",
        ")"
      ]
    },
    {
      "cell_type": "code",
      "execution_count": null,
      "metadata": {
        "colab": {
          "base_uri": "https://localhost:8080/",
          "height": 49,
          "referenced_widgets": [
            "1bd7da1a833041ca9067a498edad2d38",
            "d35250180fc243218f048230ec5d2065",
            "17873d4dd6ca4a5fbda7b3d6737b9c1d",
            "b1e2e08c09344d1b85f6db105e865ebd",
            "fb944a33256a4288bd3fea5d68619982",
            "d6135f722705459cbf7b059441914dad",
            "dfe7f4c7b904499687e9b1a6ecd28f7d",
            "f8dadddcf21f4c208f69d2646cd9856a",
            "ee6ec743ad47415bb3ede31e2e32dfec",
            "b52a6b3f15c448e5831f192de58dabd4",
            "c60719f84adb47e9a714918f701e1452"
          ]
        },
        "id": "dZsm0HUqJiEN",
        "outputId": "9a7c5e7c-cc04-4aea-9a70-8e41fef300b3"
      },
      "outputs": [
        {
          "data": {
            "application/vnd.jupyter.widget-view+json": {
              "model_id": "1bd7da1a833041ca9067a498edad2d38",
              "version_major": 2,
              "version_minor": 0
            },
            "text/plain": [
              "  0%|          | 0/30 [00:00<?, ?it/s]"
            ]
          },
          "metadata": {},
          "output_type": "display_data"
        }
      ],
      "source": [
        "optimizer = AdamW(model.parameters(), lr=5e-5)\n",
        "accelerator = Accelerator()\n",
        "model, optimizer, train_dataloader, eval_dataloader = accelerator.prepare(\n",
        "    model, optimizer, train_dataloader, eval_dataloader\n",
        ")\n",
        "num_train_epochs = 3\n",
        "num_update_steps_per_epoch = len(train_dataloader)\n",
        "num_training_steps = num_train_epochs * num_update_steps_per_epoch\n",
        "\n",
        "lr_scheduler = get_scheduler(\n",
        "    \"linear\",\n",
        "    optimizer=optimizer,\n",
        "    num_warmup_steps=0,\n",
        "    num_training_steps=num_training_steps,\n",
        ")\n",
        "progress_bar = tqdm(range(num_training_steps))\n"
      ]
    },
    {
      "cell_type": "code",
      "execution_count": null,
      "metadata": {
        "colab": {
          "base_uri": "https://localhost:8080/",
          "height": 68
        },
        "id": "QIyZkc-jJsYK",
        "outputId": "3b672398-9eda-4d44-d70f-1f9646432e3e"
      },
      "outputs": [
        {
          "name": "stdout",
          "output_type": "stream",
          "text": [
            ">>> Epoch 0: Perplexity: 9.170910368352175\n",
            ">>> Epoch 1: Perplexity: 8.681135714726171\n",
            ">>> Epoch 2: Perplexity: 8.39571776934687\n"
          ]
        }
      ],
      "source": [
        "for epoch in range(num_train_epochs):\n",
        "    # Training\n",
        "    model.train()\n",
        "    for batch in train_dataloader:\n",
        "        outputs = model(**batch)\n",
        "        loss = outputs.loss\n",
        "        accelerator.backward(loss)\n",
        "\n",
        "        optimizer.step()\n",
        "        lr_scheduler.step()\n",
        "        optimizer.zero_grad()\n",
        "        progress_bar.update(1)\n",
        "\n",
        "    # Evaluation\n",
        "    model.eval()\n",
        "    losses = []\n",
        "    for step, batch in enumerate(eval_dataloader):\n",
        "        with torch.no_grad():\n",
        "            outputs = model(**batch)\n",
        "\n",
        "        loss = outputs.loss\n",
        "        losses.append(accelerator.gather(loss.repeat(batch_size)))\n",
        "\n",
        "    losses = torch.cat(losses)\n",
        "    losses = losses[: len(eval_dataset)]\n",
        "    try:\n",
        "        perplexity = math.exp(torch.mean(losses))\n",
        "    except OverflowError:\n",
        "        perplexity = float(\"inf\")\n",
        "\n",
        "    print(f\">>> Epoch {epoch}: Perplexity: {perplexity}\")\n",
        "\n",
        "    # Save and upload\n",
        "    accelerator.wait_for_everyone()\n",
        "    unwrapped_model = accelerator.unwrap_model(model)\n",
        "    output_dir = \"./finetuned_with_accelerator_model\"\n",
        "\n",
        "    # 保存模型和标记器\n",
        "    unwrapped_model.save_pretrained(output_dir, save_function=accelerator.save)\n",
        "    tokenizer.save_pretrained(output_dir)\n"
      ]
    },
    {
      "cell_type": "code",
      "execution_count": null,
      "metadata": {
        "colab": {
          "base_uri": "https://localhost:8080/"
        },
        "id": "zkV5HIhcJvND",
        "outputId": "91fd3029-b6c7-4b85-b94d-f4430a0af70d"
      },
      "outputs": [
        {
          "name": "stdout",
          "output_type": "stream",
          "text": [
            "[{'score': 0.14254061877727509, 'token': 2691, 'token_str': 'common', 'sequence': 'this is a common example.'}, {'score': 0.11698265373706818, 'token': 5171, 'token_str': 'typical', 'sequence': 'this is a typical example.'}, {'score': 0.102818064391613, 'token': 3722, 'token_str': 'simple', 'sequence': 'this is a simple example.'}, {'score': 0.0933183953166008, 'token': 2204, 'token_str': 'good', 'sequence': 'this is a good example.'}, {'score': 0.06118622049689293, 'token': 4438, 'token_str': 'classic', 'sequence': 'this is a classic example.'}]\n"
          ]
        }
      ],
      "source": [
        "mask_filler = pipeline(\"fill-mask\", model=output_dir, tokenizer=output_dir)\n",
        "\n",
        "# 使用 pipeline\n",
        "result = mask_filler(\"This is a [MASK] example.\")\n",
        "print(result)"
      ]
    },
    {
      "cell_type": "code",
      "execution_count": null,
      "metadata": {
        "colab": {
          "base_uri": "https://localhost:8080/"
        },
        "id": "4kvWwME_JxKU",
        "outputId": "b743f3dd-29a2-4360-df04-48f453eeb3f0"
      },
      "outputs": [
        {
          "name": "stdout",
          "output_type": "stream",
          "text": [
            ">>> this is a great deal.\n",
            ">>> this is a great adventure.\n",
            ">>> this is a great idea.\n",
            ">>> this is a great success.\n",
            ">>> this is a great mistake.\n"
          ]
        }
      ],
      "source": [
        "preds = mask_filler(text)\n",
        "\n",
        "for pred in preds:\n",
        "    print(f\">>> {pred['sequence']}\")"
      ]
    },
    {
      "cell_type": "markdown",
      "metadata": {
        "id": "gzPHwIEKJ410"
      },
      "source": [
        "## **Downstream Task Test**\n",
        "\n",
        "* Now you should have two models, one is the original one downloaded from the HuggingFace, the other one is a fine-tuned one.\n",
        "\n",
        "* Let's try a downstream task to see if the classification rate changes after your fine-tuned model learns some additional cybersecurity knowledge.\n",
        "\n",
        "* In the example of 'Fine-tuning a masked language model', its 'Using our fine-tuned model' tests the now model with a \"fill-mask\" pipeline.\n",
        "\n",
        "* In \"Transformers, what can they do?\" (https://huggingface.co/learn/nlp-course/en/chapter1/3), there are severl piplelines. Lets try 'Zero-shot classification'.\n",
        "\n",
        "* Please prepare severl sentences (> 100) from the website (not from the downloaded xlsx files) as your testing examples.\n",
        "\n",
        "* Feed these sentences into the original model and your fine-tuned model, and ask them which 'tactics' and 'techniques' this sentence belongs to?\n",
        "\n",
        "* Show us the classification rate of 'tactics' and 'techniques' increase (or not) if fine-tuned model is used.\n",
        "\n",
        "* Show us some examples that they really changes label of 'tactics' or 'techniques' when new model is used."
      ]
    },
    {
      "cell_type": "code",
      "execution_count": null,
      "metadata": {
        "id": "zP53gRbAemIf"
      },
      "outputs": [],
      "source": [
        "from sklearn.model_selection import train_test_split\n",
        "from sklearn.preprocessing import LabelEncoder\n",
        "from transformers import AutoTokenizer, AutoModelForSequenceClassification, Trainer, TrainingArguments\n",
        "\n",
        "label_encoder = LabelEncoder()\n",
        "tactics_techniques_df[\"label\"] = label_encoder.fit_transform(tactics_techniques_df[\"name\"])\n",
        "\n",
        "train_df, eval_df = train_test_split(tactics_techniques_df, test_size=0.2, random_state=42)\n",
        "train_dataset = Dataset.from_pandas(train_df)\n",
        "eval_dataset = Dataset.from_pandas(eval_df)"
      ]
    },
    {
      "cell_type": "code",
      "execution_count": null,
      "metadata": {
        "id": "wk5v0G0ge7d8"
      },
      "outputs": [],
      "source": [
        "def tokenize_function(examples):\n",
        "    return tokenizer(examples[\"description\"], padding=\"max_length\", truncation=True)\n"
      ]
    },
    {
      "cell_type": "code",
      "execution_count": null,
      "metadata": {
        "colab": {
          "base_uri": "https://localhost:8080/"
        },
        "id": "wuJXqHtmgwVX",
        "outputId": "86ab94a4-6065-4879-9074-9c800ccc095a"
      },
      "outputs": [
        {
          "name": "stdout",
          "output_type": "stream",
          "text": [
            "['name', 'description', 'label', '__index_level_0__']\n",
            "['name', 'description', 'label', '__index_level_0__']\n"
          ]
        }
      ],
      "source": [
        "print(train_dataset.column_names)\n",
        "print(eval_dataset.column_names)"
      ]
    },
    {
      "cell_type": "code",
      "execution_count": null,
      "metadata": {
        "colab": {
          "base_uri": "https://localhost:8080/",
          "height": 115,
          "referenced_widgets": [
            "9b08a29060c045a687639f7410461cae",
            "1ab3802c1d624caeb94b43637473fd80",
            "5e46af8f83da483a930a8dfef0498052",
            "1754fc9867b0453c9bd8a9813bb1f863",
            "a25771bafdb44334be92236eb1ac30e7",
            "ba7aef35680d43698a472e722affccfe",
            "f6936ed1cc794dc5ad2aedbfaa41d02f",
            "88be1c0368184cfeb2491a8030be5885",
            "5d8eb10ba3564b79832055e91012d39d",
            "105de5cc7cf84a05b9a6f9fc2471238b",
            "9d17f753c92349ecae039d30f0198729",
            "dfd1f9228c934a1b86e486e0b2fc8d35",
            "7cb7a26cd39747c1bd2270b4fa1ebda6",
            "10d957b653e1414abbb93af1d40e4402",
            "03f5c6e8cb7945939be25e6e036c76a4",
            "d602108eb38e48469adf3a98a8d9e942",
            "4c51f84cc2ed480aa7418c04a37fdda4",
            "be5343a266124ed0ad6e4bb5dec387d3",
            "697785c22d1144a196c1e7ad7d9932eb",
            "1c3c293db7204600aeab334279e2b0d8",
            "7c1037b0cdce413eb4a2f63c05188b3d",
            "d84732461f984e5986f0698a10781086"
          ]
        },
        "id": "ZEZc4pc0h4h4",
        "outputId": "1e24ee9e-3a71-4e91-90ba-ac887a031587"
      },
      "outputs": [
        {
          "data": {
            "application/vnd.jupyter.widget-view+json": {
              "model_id": "9b08a29060c045a687639f7410461cae",
              "version_major": 2,
              "version_minor": 0
            },
            "text/plain": [
              "Map:   0%|          | 0/520 [00:00<?, ? examples/s]"
            ]
          },
          "metadata": {},
          "output_type": "display_data"
        },
        {
          "data": {
            "application/vnd.jupyter.widget-view+json": {
              "model_id": "dfd1f9228c934a1b86e486e0b2fc8d35",
              "version_major": 2,
              "version_minor": 0
            },
            "text/plain": [
              "Map:   0%|          | 0/131 [00:00<?, ? examples/s]"
            ]
          },
          "metadata": {},
          "output_type": "display_data"
        },
        {
          "name": "stdout",
          "output_type": "stream",
          "text": [
            "['name', 'description', 'label', '__index_level_0__', 'input_ids', 'attention_mask']\n",
            "['name', 'description', 'label', '__index_level_0__', 'input_ids', 'attention_mask']\n"
          ]
        }
      ],
      "source": [
        "\n",
        "train_dataset = train_dataset.map(tokenize_function, batched=True)\n",
        "eval_dataset = eval_dataset.map(tokenize_function, batched=True)\n",
        "\n",
        "print(train_dataset.column_names)\n",
        "print(eval_dataset.column_names)"
      ]
    },
    {
      "cell_type": "code",
      "execution_count": null,
      "metadata": {
        "colab": {
          "base_uri": "https://localhost:8080/",
          "height": 341
        },
        "id": "dB_mFsc7fF1p",
        "outputId": "c2ed2988-c71b-4b69-e23c-91c938c5ce44"
      },
      "outputs": [
        {
          "name": "stderr",
          "output_type": "stream",
          "text": [
            "Some weights of DistilBertForSequenceClassification were not initialized from the model checkpoint at distilbert-base-uncased and are newly initialized: ['classifier.bias', 'classifier.weight', 'pre_classifier.bias', 'pre_classifier.weight']\n",
            "You should probably TRAIN this model on a down-stream task to be able to use it for predictions and inference.\n",
            "/usr/local/lib/python3.10/dist-packages/transformers/training_args.py:1474: FutureWarning: `evaluation_strategy` is deprecated and will be removed in version 4.46 of 🤗 Transformers. Use `eval_strategy` instead\n",
            "  warnings.warn(\n"
          ]
        },
        {
          "data": {
            "text/html": [
              "\n",
              "    <div>\n",
              "      \n",
              "      <progress value='99' max='99' style='width:300px; height:20px; vertical-align: middle;'></progress>\n",
              "      [99/99 00:29, Epoch 3/3]\n",
              "    </div>\n",
              "    <table border=\"1\" class=\"dataframe\">\n",
              "  <thead>\n",
              " <tr style=\"text-align: left;\">\n",
              "      <th>Epoch</th>\n",
              "      <th>Training Loss</th>\n",
              "      <th>Validation Loss</th>\n",
              "    </tr>\n",
              "  </thead>\n",
              "  <tbody>\n",
              "    <tr>\n",
              "      <td>1</td>\n",
              "      <td>No log</td>\n",
              "      <td>6.496511</td>\n",
              "    </tr>\n",
              "    <tr>\n",
              "      <td>2</td>\n",
              "      <td>No log</td>\n",
              "      <td>6.518279</td>\n",
              "    </tr>\n",
              "    <tr>\n",
              "      <td>3</td>\n",
              "      <td>No log</td>\n",
              "      <td>6.527493</td>\n",
              "    </tr>\n",
              "  </tbody>\n",
              "</table><p>"
            ],
            "text/plain": [
              "<IPython.core.display.HTML object>"
            ]
          },
          "metadata": {},
          "output_type": "display_data"
        },
        {
          "data": {
            "text/plain": [
              "('./finetuned_zero_shot_model/tokenizer_config.json',\n",
              " './finetuned_zero_shot_model/special_tokens_map.json',\n",
              " './finetuned_zero_shot_model/vocab.txt',\n",
              " './finetuned_zero_shot_model/added_tokens.json',\n",
              " './finetuned_zero_shot_model/tokenizer.json')"
            ]
          },
          "execution_count": 124,
          "metadata": {},
          "output_type": "execute_result"
        }
      ],
      "source": [
        "\n",
        "\n",
        "train_dataset = train_dataset.remove_columns([col for col in train_dataset.column_names if col not in [\"input_ids\", \"attention_mask\", \"label\"]])\n",
        "eval_dataset = eval_dataset.remove_columns([col for col in eval_dataset.column_names if col not in [\"input_ids\", \"attention_mask\", \"label\"]])\n",
        "\n",
        "\n",
        "train_dataset.set_format(\"torch\")\n",
        "eval_dataset.set_format(\"torch\")\n",
        "\n",
        "\n",
        "model = AutoModelForSequenceClassification.from_pretrained(model_checkpoint, num_labels=len(tactics_techniques_df[\"name\"].unique()))\n",
        "\n",
        "training_args = TrainingArguments(\n",
        "    output_dir=\"./results\",\n",
        "    evaluation_strategy=\"epoch\",\n",
        "    learning_rate=2e-5,\n",
        "    per_device_train_batch_size=16,\n",
        "    per_device_eval_batch_size=16,\n",
        "    num_train_epochs=3,\n",
        "    weight_decay=0.01,\n",
        ")\n",
        "\n",
        "trainer = Trainer(\n",
        "    model=model,\n",
        "    args=training_args,\n",
        "    train_dataset=train_dataset,\n",
        "    eval_dataset=eval_dataset,\n",
        ")\n",
        "\n",
        "trainer.train()\n",
        "\n",
        "# 保存模型\n",
        "zero_shot_dir = \"./finetuned_zero_shot_model\"\n",
        "trainer.save_model(zero_shot_dir)\n",
        "tokenizer.save_pretrained(zero_shot_dir)"
      ]
    },
    {
      "cell_type": "markdown",
      "metadata": {
        "id": "Vu70LmxwelS0"
      },
      "source": [
        "\n",
        "\n",
        "---\n",
        "\n"
      ]
    },
    {
      "cell_type": "code",
      "execution_count": null,
      "metadata": {
        "id": "S-65fXomd8dD"
      },
      "outputs": [],
      "source": [
        "from transformers import AutoTokenizer, AutoModelForSequenceClassification, Trainer, TrainingArguments\n"
      ]
    },
    {
      "cell_type": "code",
      "execution_count": null,
      "metadata": {
        "colab": {
          "base_uri": "https://localhost:8080/"
        },
        "id": "jktedap6KFHP",
        "outputId": "6e039df9-a83e-4d6d-9d94-5730d1182614"
      },
      "outputs": [
        {
          "name": "stderr",
          "output_type": "stream",
          "text": [
            "Some weights of DistilBertForSequenceClassification were not initialized from the model checkpoint at distilbert-base-uncased and are newly initialized: ['classifier.bias', 'classifier.weight', 'pre_classifier.bias', 'pre_classifier.weight']\n",
            "You should probably TRAIN this model on a down-stream task to be able to use it for predictions and inference.\n",
            "Some weights of DistilBertForSequenceClassification were not initialized from the model checkpoint at ./finetuned_with_accelerator_model and are newly initialized: ['classifier.bias', 'classifier.weight', 'pre_classifier.bias', 'pre_classifier.weight']\n",
            "You should probably TRAIN this model on a down-stream task to be able to use it for predictions and inference.\n"
          ]
        }
      ],
      "source": [
        "# 原模型與 finetuned 過後的模型檢查點\n",
        "original_model_checkpoint = \"distilbert-base-uncased\"\n",
        "fine_tuned_model_checkpoint = zero_shot_dir\n",
        "fine_tuned_fill_mask_model_checkpoint = output_dir\n",
        "\n",
        "# 加載原始模型與 tokenizer\n",
        "original_tokenizer = AutoTokenizer.from_pretrained(original_model_checkpoint)\n",
        "original_model = AutoModelForSequenceClassification.from_pretrained(original_model_checkpoint)\n",
        "\n",
        "# 加載 finetuned 過的模型與 tokenizer\n",
        "fine_tuned_tokenizer = AutoTokenizer.from_pretrained(fine_tuned_model_checkpoint)\n",
        "fine_tuned_model = AutoModelForSequenceClassification.from_pretrained(fine_tuned_model_checkpoint)\n",
        "\n",
        "# 加載 finetuned 過的模型(fill_mask的方式)與 tokenizer\n",
        "fine_tuned_fill_mask_tokenizer = AutoTokenizer.from_pretrained(fine_tuned_fill_mask_model_checkpoint)\n",
        "fine_tuned_fill_mask_model = AutoModelForSequenceClassification.from_pretrained(fine_tuned_fill_mask_model_checkpoint)"
      ]
    },
    {
      "cell_type": "code",
      "execution_count": null,
      "metadata": {
        "colab": {
          "base_uri": "https://localhost:8080/"
        },
        "id": "bw5iE8nCKHYe",
        "outputId": "402d5fe6-eea1-4dfd-9eba-56fdd71f3fe0"
      },
      "outputs": [
        {
          "name": "stderr",
          "output_type": "stream",
          "text": [
            "Failed to determine 'entailment' label id from the label2id mapping in the model config. Setting to -1. Define a descriptive label2id mapping in the model config to ensure correct outputs.\n",
            "Failed to determine 'entailment' label id from the label2id mapping in the model config. Setting to -1. Define a descriptive label2id mapping in the model config to ensure correct outputs.\n",
            "Failed to determine 'entailment' label id from the label2id mapping in the model config. Setting to -1. Define a descriptive label2id mapping in the model config to ensure correct outputs.\n"
          ]
        }
      ],
      "source": [
        "# 創建 zero-shot-classification pipeline\n",
        "original_classifier = pipeline(\"zero-shot-classification\", model=original_model, tokenizer=original_tokenizer)\n",
        "\n",
        "fine_tuned_classifier = pipeline(\"zero-shot-classification\", model=fine_tuned_model, tokenizer=fine_tuned_tokenizer)\n",
        "\n",
        "fine_tuned_fill_mask_classifier = pipeline(\"zero-shot-classification\", model=fine_tuned_fill_mask_model, tokenizer=fine_tuned_fill_mask_tokenizer)"
      ]
    },
    {
      "cell_type": "code",
      "execution_count": null,
      "metadata": {
        "colab": {
          "base_uri": "https://localhost:8080/"
        },
        "id": "7jjSzUIJKP7E",
        "outputId": "70304117-6882-44ff-f4d5-c41e950500af"
      },
      "outputs": [
        {
          "name": "stdout",
          "output_type": "stream",
          "text": [
            "Sentence: Monitor executed commands and arguments that may circumvent mechanisms designed to control elevate privileges to gain higher-level permissions.\n",
            "True Label: Abuse Elevation Control Mechanism\n",
            "Original Classification: Account Access Removal\n",
            "Fine-tuned Classification: Abuse Elevation Control Mechanism\n",
            "Fine-tuned fill_mask Classification: Phishing\n",
            "--------------------------------------------------\n",
            "Sentence: Monitor the file system for files that have the setuid or setgid bits set. On Linux, auditd can alert every time a user's actual ID and effective ID are different (this is what happens when you sudo).\n",
            "True Label: Abuse Elevation Control Mechanism\n",
            "Original Classification: Phishing for Information\n",
            "Fine-tuned Classification: Obtain Capabilities\n",
            "Fine-tuned fill_mask Classification: Data Destruction\n",
            "--------------------------------------------------\n"
          ]
        }
      ],
      "source": [
        "\n",
        "# 將測試集中所有tactic, technique的name 加入list, 成為 zero_shot的label\n",
        "labels = test_df[\"name\"].unique().tolist()\n",
        "\n",
        "# 分類函數與比較結果\n",
        "def classify_and_compare(test_df, labels, original_classifier, fine_tuned_classifier, limit=100):\n",
        "    results = []\n",
        "    for i, row in test_df.iterrows():\n",
        "        if i >= limit:\n",
        "              break\n",
        "        sentence = row[\"description\"]\n",
        "        true_label = row[\"name\"]\n",
        "\n",
        "        original_result = original_classifier(sentence, candidate_labels=labels)\n",
        "        fine_tuned_result = fine_tuned_classifier(sentence, candidate_labels=labels)\n",
        "        fine_tuned_fill_mask_result = fine_tuned_fill_mask_classifier(sentence, candidate_labels=labels)\n",
        "\n",
        "        results.append({\n",
        "            \"sentence\": sentence,\n",
        "            \"true_label\": true_label,\n",
        "            \"original_result\": original_result,\n",
        "            \"fine_tuned_result\": fine_tuned_result,\n",
        "            \"fine_tuned_fill_mask_result\": fine_tuned_fill_mask_result\n",
        "        })\n",
        "\n",
        "        print(f\"Sentence: {sentence}\")\n",
        "        print(f\"True Label: {true_label}\")\n",
        "        print(f\"Original Classification: {original_result['labels'][0]}\")\n",
        "        print(f\"Fine-tuned Classification: {fine_tuned_result['labels'][0]}\")\n",
        "        print(f\"Fine-tuned fill_mask Classification: {fine_tuned_fill_mask_result['labels'][0]}\")\n",
        "        print(\"-\" * 50)\n",
        "\n",
        "    return results\n",
        "\n",
        "# 進行分類\n",
        "results = classify_and_compare(test_df, labels, original_classifier, fine_tuned_classifier, limit=100)\n"
      ]
    },
    {
      "cell_type": "code",
      "execution_count": null,
      "metadata": {
        "id": "6UZMPOrbKUW8"
      },
      "outputs": [],
      "source": [
        "def calculate_accuracy(results):\n",
        "    correct_original = 0\n",
        "    correct_fine_tuned = 0\n",
        "    correct_fine_tuned_fill_mask = 0\n",
        "\n",
        "    for result in results:\n",
        "        true_label = result[\"true_label\"]\n",
        "        original_label = result[\"original_result\"][\"labels\"][0]\n",
        "        fine_tuned_label = result[\"fine_tuned_result\"][\"labels\"][0]\n",
        "        fine_tuned_fill_mask_label = result[\"fine_tuned_fill_mask_result\"][\"labels\"][0]\n",
        "\n",
        "        if original_label == true_label:\n",
        "            correct_original += 1\n",
        "        if fine_tuned_label == true_label:\n",
        "            correct_fine_tuned += 1\n",
        "        if fine_tuned_fill_mask_label == true_label:\n",
        "            correct_fine_tuned_fill_mask += 1\n",
        "\n",
        "    total = len(results)\n",
        "    original_accuracy = correct_original / total\n",
        "    fine_tuned_accuracy = correct_fine_tuned / total\n",
        "    fine_tuned_fill_mask_accuracy = correct_fine_tuned_fill_mask / total\n",
        "\n",
        "    return original_accuracy, fine_tuned_accuracy, fine_tuned_fill_mask_accuracy\n",
        "\n",
        "original_accuracy, fine_tuned_accuracy, fine_tuned_fill_mask_accuracy = calculate_accuracy(results)\n",
        "print(f\"Original Model Accuracy: {original_accuracy}\")\n",
        "print(f\"Fine-tuned Model Accuracy: {fine_tuned_accuracy}\")\n",
        "print(f\"Fine-tuned fill_mask Model Accuracy: {fine_tuned_fill_mask_accuracy}\")"
      ]
    }
  ],
  "metadata": {
    "accelerator": "GPU",
    "colab": {
      "gpuType": "T4",
      "provenance": []
    },
    "kernelspec": {
      "display_name": "Python 3",
      "name": "python3"
    },
    "language_info": {
      "codemirror_mode": {
        "name": "ipython",
        "version": 3
      },
      "file_extension": ".py",
      "mimetype": "text/x-python",
      "name": "python",
      "nbconvert_exporter": "python",
      "pygments_lexer": "ipython3",
      "version": "3.12.1"
    },
    "widgets": {
      "application/vnd.jupyter.widget-state+json": {
        "03f5c6e8cb7945939be25e6e036c76a4": {
          "model_module": "@jupyter-widgets/controls",
          "model_module_version": "1.5.0",
          "model_name": "HTMLModel",
          "state": {
            "_dom_classes": [],
            "_model_module": "@jupyter-widgets/controls",
            "_model_module_version": "1.5.0",
            "_model_name": "HTMLModel",
            "_view_count": null,
            "_view_module": "@jupyter-widgets/controls",
            "_view_module_version": "1.5.0",
            "_view_name": "HTMLView",
            "description": "",
            "description_tooltip": null,
            "layout": "IPY_MODEL_7c1037b0cdce413eb4a2f63c05188b3d",
            "placeholder": "​",
            "style": "IPY_MODEL_d84732461f984e5986f0698a10781086",
            "value": " 131/131 [00:00&lt;00:00, 491.87 examples/s]"
          }
        },
        "06e03a1669cc4f3997f5298ddd7ae007": {
          "model_module": "@jupyter-widgets/base",
          "model_module_version": "1.2.0",
          "model_name": "LayoutModel",
          "state": {
            "_model_module": "@jupyter-widgets/base",
            "_model_module_version": "1.2.0",
            "_model_name": "LayoutModel",
            "_view_count": null,
            "_view_module": "@jupyter-widgets/base",
            "_view_module_version": "1.2.0",
            "_view_name": "LayoutView",
            "align_content": null,
            "align_items": null,
            "align_self": null,
            "border": null,
            "bottom": null,
            "display": null,
            "flex": null,
            "flex_flow": null,
            "grid_area": null,
            "grid_auto_columns": null,
            "grid_auto_flow": null,
            "grid_auto_rows": null,
            "grid_column": null,
            "grid_gap": null,
            "grid_row": null,
            "grid_template_areas": null,
            "grid_template_columns": null,
            "grid_template_rows": null,
            "height": null,
            "justify_content": null,
            "justify_items": null,
            "left": null,
            "margin": null,
            "max_height": null,
            "max_width": null,
            "min_height": null,
            "min_width": null,
            "object_fit": null,
            "object_position": null,
            "order": null,
            "overflow": null,
            "overflow_x": null,
            "overflow_y": null,
            "padding": null,
            "right": null,
            "top": null,
            "visibility": null,
            "width": null
          }
        },
        "0a6d972b64904ea693433719de1db226": {
          "model_module": "@jupyter-widgets/controls",
          "model_module_version": "1.5.0",
          "model_name": "HBoxModel",
          "state": {
            "_dom_classes": [],
            "_model_module": "@jupyter-widgets/controls",
            "_model_module_version": "1.5.0",
            "_model_name": "HBoxModel",
            "_view_count": null,
            "_view_module": "@jupyter-widgets/controls",
            "_view_module_version": "1.5.0",
            "_view_name": "HBoxView",
            "box_style": "",
            "children": [
              "IPY_MODEL_dee37d4873574327a6dc109e320c679c",
              "IPY_MODEL_78da924608bf4818a60e0ec216943d23",
              "IPY_MODEL_49cc98fcc5d54636859ac5efb6a10dbc"
            ],
            "layout": "IPY_MODEL_1b2ef14a63be4bd4a72246659184420c"
          }
        },
        "105de5cc7cf84a05b9a6f9fc2471238b": {
          "model_module": "@jupyter-widgets/base",
          "model_module_version": "1.2.0",
          "model_name": "LayoutModel",
          "state": {
            "_model_module": "@jupyter-widgets/base",
            "_model_module_version": "1.2.0",
            "_model_name": "LayoutModel",
            "_view_count": null,
            "_view_module": "@jupyter-widgets/base",
            "_view_module_version": "1.2.0",
            "_view_name": "LayoutView",
            "align_content": null,
            "align_items": null,
            "align_self": null,
            "border": null,
            "bottom": null,
            "display": null,
            "flex": null,
            "flex_flow": null,
            "grid_area": null,
            "grid_auto_columns": null,
            "grid_auto_flow": null,
            "grid_auto_rows": null,
            "grid_column": null,
            "grid_gap": null,
            "grid_row": null,
            "grid_template_areas": null,
            "grid_template_columns": null,
            "grid_template_rows": null,
            "height": null,
            "justify_content": null,
            "justify_items": null,
            "left": null,
            "margin": null,
            "max_height": null,
            "max_width": null,
            "min_height": null,
            "min_width": null,
            "object_fit": null,
            "object_position": null,
            "order": null,
            "overflow": null,
            "overflow_x": null,
            "overflow_y": null,
            "padding": null,
            "right": null,
            "top": null,
            "visibility": null,
            "width": null
          }
        },
        "10d957b653e1414abbb93af1d40e4402": {
          "model_module": "@jupyter-widgets/controls",
          "model_module_version": "1.5.0",
          "model_name": "FloatProgressModel",
          "state": {
            "_dom_classes": [],
            "_model_module": "@jupyter-widgets/controls",
            "_model_module_version": "1.5.0",
            "_model_name": "FloatProgressModel",
            "_view_count": null,
            "_view_module": "@jupyter-widgets/controls",
            "_view_module_version": "1.5.0",
            "_view_name": "ProgressView",
            "bar_style": "success",
            "description": "",
            "description_tooltip": null,
            "layout": "IPY_MODEL_697785c22d1144a196c1e7ad7d9932eb",
            "max": 131,
            "min": 0,
            "orientation": "horizontal",
            "style": "IPY_MODEL_1c3c293db7204600aeab334279e2b0d8",
            "value": 131
          }
        },
        "11fd5a5d993e4c949a5fa3374f366354": {
          "model_module": "@jupyter-widgets/base",
          "model_module_version": "1.2.0",
          "model_name": "LayoutModel",
          "state": {
            "_model_module": "@jupyter-widgets/base",
            "_model_module_version": "1.2.0",
            "_model_name": "LayoutModel",
            "_view_count": null,
            "_view_module": "@jupyter-widgets/base",
            "_view_module_version": "1.2.0",
            "_view_name": "LayoutView",
            "align_content": null,
            "align_items": null,
            "align_self": null,
            "border": null,
            "bottom": null,
            "display": null,
            "flex": null,
            "flex_flow": null,
            "grid_area": null,
            "grid_auto_columns": null,
            "grid_auto_flow": null,
            "grid_auto_rows": null,
            "grid_column": null,
            "grid_gap": null,
            "grid_row": null,
            "grid_template_areas": null,
            "grid_template_columns": null,
            "grid_template_rows": null,
            "height": null,
            "justify_content": null,
            "justify_items": null,
            "left": null,
            "margin": null,
            "max_height": null,
            "max_width": null,
            "min_height": null,
            "min_width": null,
            "object_fit": null,
            "object_position": null,
            "order": null,
            "overflow": null,
            "overflow_x": null,
            "overflow_y": null,
            "padding": null,
            "right": null,
            "top": null,
            "visibility": null,
            "width": null
          }
        },
        "124cfa46100c4e5cb00787c6e6059f56": {
          "model_module": "@jupyter-widgets/base",
          "model_module_version": "1.2.0",
          "model_name": "LayoutModel",
          "state": {
            "_model_module": "@jupyter-widgets/base",
            "_model_module_version": "1.2.0",
            "_model_name": "LayoutModel",
            "_view_count": null,
            "_view_module": "@jupyter-widgets/base",
            "_view_module_version": "1.2.0",
            "_view_name": "LayoutView",
            "align_content": null,
            "align_items": null,
            "align_self": null,
            "border": null,
            "bottom": null,
            "display": null,
            "flex": null,
            "flex_flow": null,
            "grid_area": null,
            "grid_auto_columns": null,
            "grid_auto_flow": null,
            "grid_auto_rows": null,
            "grid_column": null,
            "grid_gap": null,
            "grid_row": null,
            "grid_template_areas": null,
            "grid_template_columns": null,
            "grid_template_rows": null,
            "height": null,
            "justify_content": null,
            "justify_items": null,
            "left": null,
            "margin": null,
            "max_height": null,
            "max_width": null,
            "min_height": null,
            "min_width": null,
            "object_fit": null,
            "object_position": null,
            "order": null,
            "overflow": null,
            "overflow_x": null,
            "overflow_y": null,
            "padding": null,
            "right": null,
            "top": null,
            "visibility": null,
            "width": null
          }
        },
        "1406765a7106439381709990ad641733": {
          "model_module": "@jupyter-widgets/base",
          "model_module_version": "1.2.0",
          "model_name": "LayoutModel",
          "state": {
            "_model_module": "@jupyter-widgets/base",
            "_model_module_version": "1.2.0",
            "_model_name": "LayoutModel",
            "_view_count": null,
            "_view_module": "@jupyter-widgets/base",
            "_view_module_version": "1.2.0",
            "_view_name": "LayoutView",
            "align_content": null,
            "align_items": null,
            "align_self": null,
            "border": null,
            "bottom": null,
            "display": null,
            "flex": null,
            "flex_flow": null,
            "grid_area": null,
            "grid_auto_columns": null,
            "grid_auto_flow": null,
            "grid_auto_rows": null,
            "grid_column": null,
            "grid_gap": null,
            "grid_row": null,
            "grid_template_areas": null,
            "grid_template_columns": null,
            "grid_template_rows": null,
            "height": null,
            "justify_content": null,
            "justify_items": null,
            "left": null,
            "margin": null,
            "max_height": null,
            "max_width": null,
            "min_height": null,
            "min_width": null,
            "object_fit": null,
            "object_position": null,
            "order": null,
            "overflow": null,
            "overflow_x": null,
            "overflow_y": null,
            "padding": null,
            "right": null,
            "top": null,
            "visibility": null,
            "width": null
          }
        },
        "1754fc9867b0453c9bd8a9813bb1f863": {
          "model_module": "@jupyter-widgets/controls",
          "model_module_version": "1.5.0",
          "model_name": "HTMLModel",
          "state": {
            "_dom_classes": [],
            "_model_module": "@jupyter-widgets/controls",
            "_model_module_version": "1.5.0",
            "_model_name": "HTMLModel",
            "_view_count": null,
            "_view_module": "@jupyter-widgets/controls",
            "_view_module_version": "1.5.0",
            "_view_name": "HTMLView",
            "description": "",
            "description_tooltip": null,
            "layout": "IPY_MODEL_105de5cc7cf84a05b9a6f9fc2471238b",
            "placeholder": "​",
            "style": "IPY_MODEL_9d17f753c92349ecae039d30f0198729",
            "value": " 520/520 [00:00&lt;00:00, 585.91 examples/s]"
          }
        },
        "17873d4dd6ca4a5fbda7b3d6737b9c1d": {
          "model_module": "@jupyter-widgets/controls",
          "model_module_version": "1.5.0",
          "model_name": "FloatProgressModel",
          "state": {
            "_dom_classes": [],
            "_model_module": "@jupyter-widgets/controls",
            "_model_module_version": "1.5.0",
            "_model_name": "FloatProgressModel",
            "_view_count": null,
            "_view_module": "@jupyter-widgets/controls",
            "_view_module_version": "1.5.0",
            "_view_name": "ProgressView",
            "bar_style": "",
            "description": "",
            "description_tooltip": null,
            "layout": "IPY_MODEL_f8dadddcf21f4c208f69d2646cd9856a",
            "max": 30,
            "min": 0,
            "orientation": "horizontal",
            "style": "IPY_MODEL_ee6ec743ad47415bb3ede31e2e32dfec",
            "value": 30
          }
        },
        "1ab3802c1d624caeb94b43637473fd80": {
          "model_module": "@jupyter-widgets/controls",
          "model_module_version": "1.5.0",
          "model_name": "HTMLModel",
          "state": {
            "_dom_classes": [],
            "_model_module": "@jupyter-widgets/controls",
            "_model_module_version": "1.5.0",
            "_model_name": "HTMLModel",
            "_view_count": null,
            "_view_module": "@jupyter-widgets/controls",
            "_view_module_version": "1.5.0",
            "_view_name": "HTMLView",
            "description": "",
            "description_tooltip": null,
            "layout": "IPY_MODEL_ba7aef35680d43698a472e722affccfe",
            "placeholder": "​",
            "style": "IPY_MODEL_f6936ed1cc794dc5ad2aedbfaa41d02f",
            "value": "Map: 100%"
          }
        },
        "1b2ef14a63be4bd4a72246659184420c": {
          "model_module": "@jupyter-widgets/base",
          "model_module_version": "1.2.0",
          "model_name": "LayoutModel",
          "state": {
            "_model_module": "@jupyter-widgets/base",
            "_model_module_version": "1.2.0",
            "_model_name": "LayoutModel",
            "_view_count": null,
            "_view_module": "@jupyter-widgets/base",
            "_view_module_version": "1.2.0",
            "_view_name": "LayoutView",
            "align_content": null,
            "align_items": null,
            "align_self": null,
            "border": null,
            "bottom": null,
            "display": null,
            "flex": null,
            "flex_flow": null,
            "grid_area": null,
            "grid_auto_columns": null,
            "grid_auto_flow": null,
            "grid_auto_rows": null,
            "grid_column": null,
            "grid_gap": null,
            "grid_row": null,
            "grid_template_areas": null,
            "grid_template_columns": null,
            "grid_template_rows": null,
            "height": null,
            "justify_content": null,
            "justify_items": null,
            "left": null,
            "margin": null,
            "max_height": null,
            "max_width": null,
            "min_height": null,
            "min_width": null,
            "object_fit": null,
            "object_position": null,
            "order": null,
            "overflow": null,
            "overflow_x": null,
            "overflow_y": null,
            "padding": null,
            "right": null,
            "top": null,
            "visibility": null,
            "width": null
          }
        },
        "1bd7da1a833041ca9067a498edad2d38": {
          "model_module": "@jupyter-widgets/controls",
          "model_module_version": "1.5.0",
          "model_name": "HBoxModel",
          "state": {
            "_dom_classes": [],
            "_model_module": "@jupyter-widgets/controls",
            "_model_module_version": "1.5.0",
            "_model_name": "HBoxModel",
            "_view_count": null,
            "_view_module": "@jupyter-widgets/controls",
            "_view_module_version": "1.5.0",
            "_view_name": "HBoxView",
            "box_style": "",
            "children": [
              "IPY_MODEL_d35250180fc243218f048230ec5d2065",
              "IPY_MODEL_17873d4dd6ca4a5fbda7b3d6737b9c1d",
              "IPY_MODEL_b1e2e08c09344d1b85f6db105e865ebd"
            ],
            "layout": "IPY_MODEL_fb944a33256a4288bd3fea5d68619982"
          }
        },
        "1c3c293db7204600aeab334279e2b0d8": {
          "model_module": "@jupyter-widgets/controls",
          "model_module_version": "1.5.0",
          "model_name": "ProgressStyleModel",
          "state": {
            "_model_module": "@jupyter-widgets/controls",
            "_model_module_version": "1.5.0",
            "_model_name": "ProgressStyleModel",
            "_view_count": null,
            "_view_module": "@jupyter-widgets/base",
            "_view_module_version": "1.2.0",
            "_view_name": "StyleView",
            "bar_color": null,
            "description_width": ""
          }
        },
        "2de6cf4ebfd24163b883e800da142c9b": {
          "model_module": "@jupyter-widgets/controls",
          "model_module_version": "1.5.0",
          "model_name": "ProgressStyleModel",
          "state": {
            "_model_module": "@jupyter-widgets/controls",
            "_model_module_version": "1.5.0",
            "_model_name": "ProgressStyleModel",
            "_view_count": null,
            "_view_module": "@jupyter-widgets/base",
            "_view_module_version": "1.2.0",
            "_view_name": "StyleView",
            "bar_color": null,
            "description_width": ""
          }
        },
        "31f17d76eb18454595e7e64217815709": {
          "model_module": "@jupyter-widgets/controls",
          "model_module_version": "1.5.0",
          "model_name": "DescriptionStyleModel",
          "state": {
            "_model_module": "@jupyter-widgets/controls",
            "_model_module_version": "1.5.0",
            "_model_name": "DescriptionStyleModel",
            "_view_count": null,
            "_view_module": "@jupyter-widgets/base",
            "_view_module_version": "1.2.0",
            "_view_name": "StyleView",
            "description_width": ""
          }
        },
        "3d356255a3b340f4a9bba1ccd1c2c6a5": {
          "model_module": "@jupyter-widgets/controls",
          "model_module_version": "1.5.0",
          "model_name": "FloatProgressModel",
          "state": {
            "_dom_classes": [],
            "_model_module": "@jupyter-widgets/controls",
            "_model_module_version": "1.5.0",
            "_model_name": "FloatProgressModel",
            "_view_count": null,
            "_view_module": "@jupyter-widgets/controls",
            "_view_module_version": "1.5.0",
            "_view_name": "ProgressView",
            "bar_style": "success",
            "description": "",
            "description_tooltip": null,
            "layout": "IPY_MODEL_9cecc874b91d433dbc576fb820d72f8d",
            "max": 651,
            "min": 0,
            "orientation": "horizontal",
            "style": "IPY_MODEL_f98261d3868142948cfc58c3416af9e3",
            "value": 651
          }
        },
        "4459b96074944ee49aadf009118994a1": {
          "model_module": "@jupyter-widgets/controls",
          "model_module_version": "1.5.0",
          "model_name": "DescriptionStyleModel",
          "state": {
            "_model_module": "@jupyter-widgets/controls",
            "_model_module_version": "1.5.0",
            "_model_name": "DescriptionStyleModel",
            "_view_count": null,
            "_view_module": "@jupyter-widgets/base",
            "_view_module_version": "1.2.0",
            "_view_name": "StyleView",
            "description_width": ""
          }
        },
        "49cc98fcc5d54636859ac5efb6a10dbc": {
          "model_module": "@jupyter-widgets/controls",
          "model_module_version": "1.5.0",
          "model_name": "HTMLModel",
          "state": {
            "_dom_classes": [],
            "_model_module": "@jupyter-widgets/controls",
            "_model_module_version": "1.5.0",
            "_model_name": "HTMLModel",
            "_view_count": null,
            "_view_module": "@jupyter-widgets/controls",
            "_view_module_version": "1.5.0",
            "_view_name": "HTMLView",
            "description": "",
            "description_tooltip": null,
            "layout": "IPY_MODEL_c8e658bd8e6f4c748e70f8ed70a629d8",
            "placeholder": "​",
            "style": "IPY_MODEL_72714de3d6e140f99ad5adb3c3c3c487",
            "value": " 651/651 [00:00&lt;00:00, 842.87 examples/s]"
          }
        },
        "4c51f84cc2ed480aa7418c04a37fdda4": {
          "model_module": "@jupyter-widgets/base",
          "model_module_version": "1.2.0",
          "model_name": "LayoutModel",
          "state": {
            "_model_module": "@jupyter-widgets/base",
            "_model_module_version": "1.2.0",
            "_model_name": "LayoutModel",
            "_view_count": null,
            "_view_module": "@jupyter-widgets/base",
            "_view_module_version": "1.2.0",
            "_view_name": "LayoutView",
            "align_content": null,
            "align_items": null,
            "align_self": null,
            "border": null,
            "bottom": null,
            "display": null,
            "flex": null,
            "flex_flow": null,
            "grid_area": null,
            "grid_auto_columns": null,
            "grid_auto_flow": null,
            "grid_auto_rows": null,
            "grid_column": null,
            "grid_gap": null,
            "grid_row": null,
            "grid_template_areas": null,
            "grid_template_columns": null,
            "grid_template_rows": null,
            "height": null,
            "justify_content": null,
            "justify_items": null,
            "left": null,
            "margin": null,
            "max_height": null,
            "max_width": null,
            "min_height": null,
            "min_width": null,
            "object_fit": null,
            "object_position": null,
            "order": null,
            "overflow": null,
            "overflow_x": null,
            "overflow_y": null,
            "padding": null,
            "right": null,
            "top": null,
            "visibility": null,
            "width": null
          }
        },
        "50aa3a192892403687753af398c8fd0d": {
          "model_module": "@jupyter-widgets/controls",
          "model_module_version": "1.5.0",
          "model_name": "DescriptionStyleModel",
          "state": {
            "_model_module": "@jupyter-widgets/controls",
            "_model_module_version": "1.5.0",
            "_model_name": "DescriptionStyleModel",
            "_view_count": null,
            "_view_module": "@jupyter-widgets/base",
            "_view_module_version": "1.2.0",
            "_view_name": "StyleView",
            "description_width": ""
          }
        },
        "51e0eb5e0fb344a1a3926eaf7f22be53": {
          "model_module": "@jupyter-widgets/base",
          "model_module_version": "1.2.0",
          "model_name": "LayoutModel",
          "state": {
            "_model_module": "@jupyter-widgets/base",
            "_model_module_version": "1.2.0",
            "_model_name": "LayoutModel",
            "_view_count": null,
            "_view_module": "@jupyter-widgets/base",
            "_view_module_version": "1.2.0",
            "_view_name": "LayoutView",
            "align_content": null,
            "align_items": null,
            "align_self": null,
            "border": null,
            "bottom": null,
            "display": null,
            "flex": null,
            "flex_flow": null,
            "grid_area": null,
            "grid_auto_columns": null,
            "grid_auto_flow": null,
            "grid_auto_rows": null,
            "grid_column": null,
            "grid_gap": null,
            "grid_row": null,
            "grid_template_areas": null,
            "grid_template_columns": null,
            "grid_template_rows": null,
            "height": null,
            "justify_content": null,
            "justify_items": null,
            "left": null,
            "margin": null,
            "max_height": null,
            "max_width": null,
            "min_height": null,
            "min_width": null,
            "object_fit": null,
            "object_position": null,
            "order": null,
            "overflow": null,
            "overflow_x": null,
            "overflow_y": null,
            "padding": null,
            "right": null,
            "top": null,
            "visibility": null,
            "width": null
          }
        },
        "58b2e83d046d48a4a3f9e09b81e869b5": {
          "model_module": "@jupyter-widgets/controls",
          "model_module_version": "1.5.0",
          "model_name": "HTMLModel",
          "state": {
            "_dom_classes": [],
            "_model_module": "@jupyter-widgets/controls",
            "_model_module_version": "1.5.0",
            "_model_name": "HTMLModel",
            "_view_count": null,
            "_view_module": "@jupyter-widgets/controls",
            "_view_module_version": "1.5.0",
            "_view_name": "HTMLView",
            "description": "",
            "description_tooltip": null,
            "layout": "IPY_MODEL_1406765a7106439381709990ad641733",
            "placeholder": "​",
            "style": "IPY_MODEL_ea0f972e645848159a982f12d41d37f6",
            "value": "Map: 100%"
          }
        },
        "58c4e625a7d04a149894cdbcb112f2e2": {
          "model_module": "@jupyter-widgets/base",
          "model_module_version": "1.2.0",
          "model_name": "LayoutModel",
          "state": {
            "_model_module": "@jupyter-widgets/base",
            "_model_module_version": "1.2.0",
            "_model_name": "LayoutModel",
            "_view_count": null,
            "_view_module": "@jupyter-widgets/base",
            "_view_module_version": "1.2.0",
            "_view_name": "LayoutView",
            "align_content": null,
            "align_items": null,
            "align_self": null,
            "border": null,
            "bottom": null,
            "display": null,
            "flex": null,
            "flex_flow": null,
            "grid_area": null,
            "grid_auto_columns": null,
            "grid_auto_flow": null,
            "grid_auto_rows": null,
            "grid_column": null,
            "grid_gap": null,
            "grid_row": null,
            "grid_template_areas": null,
            "grid_template_columns": null,
            "grid_template_rows": null,
            "height": null,
            "justify_content": null,
            "justify_items": null,
            "left": null,
            "margin": null,
            "max_height": null,
            "max_width": null,
            "min_height": null,
            "min_width": null,
            "object_fit": null,
            "object_position": null,
            "order": null,
            "overflow": null,
            "overflow_x": null,
            "overflow_y": null,
            "padding": null,
            "right": null,
            "top": null,
            "visibility": null,
            "width": null
          }
        },
        "593302b5753e4b2988bb436dd997c80b": {
          "model_module": "@jupyter-widgets/controls",
          "model_module_version": "1.5.0",
          "model_name": "HTMLModel",
          "state": {
            "_dom_classes": [],
            "_model_module": "@jupyter-widgets/controls",
            "_model_module_version": "1.5.0",
            "_model_name": "HTMLModel",
            "_view_count": null,
            "_view_module": "@jupyter-widgets/controls",
            "_view_module_version": "1.5.0",
            "_view_name": "HTMLView",
            "description": "",
            "description_tooltip": null,
            "layout": "IPY_MODEL_79e2e6f24bbb4f73ba437e977ada75bf",
            "placeholder": "​",
            "style": "IPY_MODEL_50aa3a192892403687753af398c8fd0d",
            "value": " 120/120 [00:00&lt;00:00, 1372.15 examples/s]"
          }
        },
        "5d8eb10ba3564b79832055e91012d39d": {
          "model_module": "@jupyter-widgets/controls",
          "model_module_version": "1.5.0",
          "model_name": "ProgressStyleModel",
          "state": {
            "_model_module": "@jupyter-widgets/controls",
            "_model_module_version": "1.5.0",
            "_model_name": "ProgressStyleModel",
            "_view_count": null,
            "_view_module": "@jupyter-widgets/base",
            "_view_module_version": "1.2.0",
            "_view_name": "StyleView",
            "bar_color": null,
            "description_width": ""
          }
        },
        "5e46af8f83da483a930a8dfef0498052": {
          "model_module": "@jupyter-widgets/controls",
          "model_module_version": "1.5.0",
          "model_name": "FloatProgressModel",
          "state": {
            "_dom_classes": [],
            "_model_module": "@jupyter-widgets/controls",
            "_model_module_version": "1.5.0",
            "_model_name": "FloatProgressModel",
            "_view_count": null,
            "_view_module": "@jupyter-widgets/controls",
            "_view_module_version": "1.5.0",
            "_view_name": "ProgressView",
            "bar_style": "success",
            "description": "",
            "description_tooltip": null,
            "layout": "IPY_MODEL_88be1c0368184cfeb2491a8030be5885",
            "max": 520,
            "min": 0,
            "orientation": "horizontal",
            "style": "IPY_MODEL_5d8eb10ba3564b79832055e91012d39d",
            "value": 520
          }
        },
        "5fe2d8e426f34562943790377674ccc5": {
          "model_module": "@jupyter-widgets/controls",
          "model_module_version": "1.5.0",
          "model_name": "ProgressStyleModel",
          "state": {
            "_model_module": "@jupyter-widgets/controls",
            "_model_module_version": "1.5.0",
            "_model_name": "ProgressStyleModel",
            "_view_count": null,
            "_view_module": "@jupyter-widgets/base",
            "_view_module_version": "1.2.0",
            "_view_name": "StyleView",
            "bar_color": null,
            "description_width": ""
          }
        },
        "61b94ea197fc4cef912e0566bfee6c9d": {
          "model_module": "@jupyter-widgets/base",
          "model_module_version": "1.2.0",
          "model_name": "LayoutModel",
          "state": {
            "_model_module": "@jupyter-widgets/base",
            "_model_module_version": "1.2.0",
            "_model_name": "LayoutModel",
            "_view_count": null,
            "_view_module": "@jupyter-widgets/base",
            "_view_module_version": "1.2.0",
            "_view_name": "LayoutView",
            "align_content": null,
            "align_items": null,
            "align_self": null,
            "border": null,
            "bottom": null,
            "display": null,
            "flex": null,
            "flex_flow": null,
            "grid_area": null,
            "grid_auto_columns": null,
            "grid_auto_flow": null,
            "grid_auto_rows": null,
            "grid_column": null,
            "grid_gap": null,
            "grid_row": null,
            "grid_template_areas": null,
            "grid_template_columns": null,
            "grid_template_rows": null,
            "height": null,
            "justify_content": null,
            "justify_items": null,
            "left": null,
            "margin": null,
            "max_height": null,
            "max_width": null,
            "min_height": null,
            "min_width": null,
            "object_fit": null,
            "object_position": null,
            "order": null,
            "overflow": null,
            "overflow_x": null,
            "overflow_y": null,
            "padding": null,
            "right": null,
            "top": null,
            "visibility": null,
            "width": null
          }
        },
        "6454b055164849f5911e89dc1ab17871": {
          "model_module": "@jupyter-widgets/base",
          "model_module_version": "1.2.0",
          "model_name": "LayoutModel",
          "state": {
            "_model_module": "@jupyter-widgets/base",
            "_model_module_version": "1.2.0",
            "_model_name": "LayoutModel",
            "_view_count": null,
            "_view_module": "@jupyter-widgets/base",
            "_view_module_version": "1.2.0",
            "_view_name": "LayoutView",
            "align_content": null,
            "align_items": null,
            "align_self": null,
            "border": null,
            "bottom": null,
            "display": null,
            "flex": null,
            "flex_flow": null,
            "grid_area": null,
            "grid_auto_columns": null,
            "grid_auto_flow": null,
            "grid_auto_rows": null,
            "grid_column": null,
            "grid_gap": null,
            "grid_row": null,
            "grid_template_areas": null,
            "grid_template_columns": null,
            "grid_template_rows": null,
            "height": null,
            "justify_content": null,
            "justify_items": null,
            "left": null,
            "margin": null,
            "max_height": null,
            "max_width": null,
            "min_height": null,
            "min_width": null,
            "object_fit": null,
            "object_position": null,
            "order": null,
            "overflow": null,
            "overflow_x": null,
            "overflow_y": null,
            "padding": null,
            "right": null,
            "top": null,
            "visibility": null,
            "width": null
          }
        },
        "697785c22d1144a196c1e7ad7d9932eb": {
          "model_module": "@jupyter-widgets/base",
          "model_module_version": "1.2.0",
          "model_name": "LayoutModel",
          "state": {
            "_model_module": "@jupyter-widgets/base",
            "_model_module_version": "1.2.0",
            "_model_name": "LayoutModel",
            "_view_count": null,
            "_view_module": "@jupyter-widgets/base",
            "_view_module_version": "1.2.0",
            "_view_name": "LayoutView",
            "align_content": null,
            "align_items": null,
            "align_self": null,
            "border": null,
            "bottom": null,
            "display": null,
            "flex": null,
            "flex_flow": null,
            "grid_area": null,
            "grid_auto_columns": null,
            "grid_auto_flow": null,
            "grid_auto_rows": null,
            "grid_column": null,
            "grid_gap": null,
            "grid_row": null,
            "grid_template_areas": null,
            "grid_template_columns": null,
            "grid_template_rows": null,
            "height": null,
            "justify_content": null,
            "justify_items": null,
            "left": null,
            "margin": null,
            "max_height": null,
            "max_width": null,
            "min_height": null,
            "min_width": null,
            "object_fit": null,
            "object_position": null,
            "order": null,
            "overflow": null,
            "overflow_x": null,
            "overflow_y": null,
            "padding": null,
            "right": null,
            "top": null,
            "visibility": null,
            "width": null
          }
        },
        "72714de3d6e140f99ad5adb3c3c3c487": {
          "model_module": "@jupyter-widgets/controls",
          "model_module_version": "1.5.0",
          "model_name": "DescriptionStyleModel",
          "state": {
            "_model_module": "@jupyter-widgets/controls",
            "_model_module_version": "1.5.0",
            "_model_name": "DescriptionStyleModel",
            "_view_count": null,
            "_view_module": "@jupyter-widgets/base",
            "_view_module_version": "1.2.0",
            "_view_name": "StyleView",
            "description_width": ""
          }
        },
        "775b66d8e80546258184d43c76b7669a": {
          "model_module": "@jupyter-widgets/controls",
          "model_module_version": "1.5.0",
          "model_name": "DescriptionStyleModel",
          "state": {
            "_model_module": "@jupyter-widgets/controls",
            "_model_module_version": "1.5.0",
            "_model_name": "DescriptionStyleModel",
            "_view_count": null,
            "_view_module": "@jupyter-widgets/base",
            "_view_module_version": "1.2.0",
            "_view_name": "StyleView",
            "description_width": ""
          }
        },
        "7791e0ed78bc4232834c320a629b9ff2": {
          "model_module": "@jupyter-widgets/controls",
          "model_module_version": "1.5.0",
          "model_name": "HTMLModel",
          "state": {
            "_dom_classes": [],
            "_model_module": "@jupyter-widgets/controls",
            "_model_module_version": "1.5.0",
            "_model_name": "HTMLModel",
            "_view_count": null,
            "_view_module": "@jupyter-widgets/controls",
            "_view_module_version": "1.5.0",
            "_view_name": "HTMLView",
            "description": "",
            "description_tooltip": null,
            "layout": "IPY_MODEL_e485cd12541645d1b083542efa03c5d2",
            "placeholder": "​",
            "style": "IPY_MODEL_b1d2bca448764c9a8a304dcc615c20bb",
            "value": "Map: 100%"
          }
        },
        "78da924608bf4818a60e0ec216943d23": {
          "model_module": "@jupyter-widgets/controls",
          "model_module_version": "1.5.0",
          "model_name": "FloatProgressModel",
          "state": {
            "_dom_classes": [],
            "_model_module": "@jupyter-widgets/controls",
            "_model_module_version": "1.5.0",
            "_model_name": "FloatProgressModel",
            "_view_count": null,
            "_view_module": "@jupyter-widgets/controls",
            "_view_module_version": "1.5.0",
            "_view_name": "ProgressView",
            "bar_style": "success",
            "description": "",
            "description_tooltip": null,
            "layout": "IPY_MODEL_becc4abf971c4c67b1a5e4d6bf91875b",
            "max": 651,
            "min": 0,
            "orientation": "horizontal",
            "style": "IPY_MODEL_5fe2d8e426f34562943790377674ccc5",
            "value": 651
          }
        },
        "79e2e6f24bbb4f73ba437e977ada75bf": {
          "model_module": "@jupyter-widgets/base",
          "model_module_version": "1.2.0",
          "model_name": "LayoutModel",
          "state": {
            "_model_module": "@jupyter-widgets/base",
            "_model_module_version": "1.2.0",
            "_model_name": "LayoutModel",
            "_view_count": null,
            "_view_module": "@jupyter-widgets/base",
            "_view_module_version": "1.2.0",
            "_view_name": "LayoutView",
            "align_content": null,
            "align_items": null,
            "align_self": null,
            "border": null,
            "bottom": null,
            "display": null,
            "flex": null,
            "flex_flow": null,
            "grid_area": null,
            "grid_auto_columns": null,
            "grid_auto_flow": null,
            "grid_auto_rows": null,
            "grid_column": null,
            "grid_gap": null,
            "grid_row": null,
            "grid_template_areas": null,
            "grid_template_columns": null,
            "grid_template_rows": null,
            "height": null,
            "justify_content": null,
            "justify_items": null,
            "left": null,
            "margin": null,
            "max_height": null,
            "max_width": null,
            "min_height": null,
            "min_width": null,
            "object_fit": null,
            "object_position": null,
            "order": null,
            "overflow": null,
            "overflow_x": null,
            "overflow_y": null,
            "padding": null,
            "right": null,
            "top": null,
            "visibility": null,
            "width": null
          }
        },
        "7a032c3602dd4705a233c814815376ca": {
          "model_module": "@jupyter-widgets/controls",
          "model_module_version": "1.5.0",
          "model_name": "ProgressStyleModel",
          "state": {
            "_model_module": "@jupyter-widgets/controls",
            "_model_module_version": "1.5.0",
            "_model_name": "ProgressStyleModel",
            "_view_count": null,
            "_view_module": "@jupyter-widgets/base",
            "_view_module_version": "1.2.0",
            "_view_name": "StyleView",
            "bar_color": null,
            "description_width": ""
          }
        },
        "7c1037b0cdce413eb4a2f63c05188b3d": {
          "model_module": "@jupyter-widgets/base",
          "model_module_version": "1.2.0",
          "model_name": "LayoutModel",
          "state": {
            "_model_module": "@jupyter-widgets/base",
            "_model_module_version": "1.2.0",
            "_model_name": "LayoutModel",
            "_view_count": null,
            "_view_module": "@jupyter-widgets/base",
            "_view_module_version": "1.2.0",
            "_view_name": "LayoutView",
            "align_content": null,
            "align_items": null,
            "align_self": null,
            "border": null,
            "bottom": null,
            "display": null,
            "flex": null,
            "flex_flow": null,
            "grid_area": null,
            "grid_auto_columns": null,
            "grid_auto_flow": null,
            "grid_auto_rows": null,
            "grid_column": null,
            "grid_gap": null,
            "grid_row": null,
            "grid_template_areas": null,
            "grid_template_columns": null,
            "grid_template_rows": null,
            "height": null,
            "justify_content": null,
            "justify_items": null,
            "left": null,
            "margin": null,
            "max_height": null,
            "max_width": null,
            "min_height": null,
            "min_width": null,
            "object_fit": null,
            "object_position": null,
            "order": null,
            "overflow": null,
            "overflow_x": null,
            "overflow_y": null,
            "padding": null,
            "right": null,
            "top": null,
            "visibility": null,
            "width": null
          }
        },
        "7cb7a26cd39747c1bd2270b4fa1ebda6": {
          "model_module": "@jupyter-widgets/controls",
          "model_module_version": "1.5.0",
          "model_name": "HTMLModel",
          "state": {
            "_dom_classes": [],
            "_model_module": "@jupyter-widgets/controls",
            "_model_module_version": "1.5.0",
            "_model_name": "HTMLModel",
            "_view_count": null,
            "_view_module": "@jupyter-widgets/controls",
            "_view_module_version": "1.5.0",
            "_view_name": "HTMLView",
            "description": "",
            "description_tooltip": null,
            "layout": "IPY_MODEL_4c51f84cc2ed480aa7418c04a37fdda4",
            "placeholder": "​",
            "style": "IPY_MODEL_be5343a266124ed0ad6e4bb5dec387d3",
            "value": "Map: 100%"
          }
        },
        "80027bda15fc45299e6c53157da89725": {
          "model_module": "@jupyter-widgets/controls",
          "model_module_version": "1.5.0",
          "model_name": "HBoxModel",
          "state": {
            "_dom_classes": [],
            "_model_module": "@jupyter-widgets/controls",
            "_model_module_version": "1.5.0",
            "_model_name": "HBoxModel",
            "_view_count": null,
            "_view_module": "@jupyter-widgets/controls",
            "_view_module_version": "1.5.0",
            "_view_name": "HBoxView",
            "box_style": "",
            "children": [
              "IPY_MODEL_58b2e83d046d48a4a3f9e09b81e869b5",
              "IPY_MODEL_b690c1ca6cc64933a6fdfadf038ebcc0",
              "IPY_MODEL_fcc20c345faf4df886f8c3a1cbca6f35"
            ],
            "layout": "IPY_MODEL_8dc9713927e04cc497bf6e7f1ea15d83"
          }
        },
        "834e85e3b00e44ca93d834222a4adfb4": {
          "model_module": "@jupyter-widgets/controls",
          "model_module_version": "1.5.0",
          "model_name": "DescriptionStyleModel",
          "state": {
            "_model_module": "@jupyter-widgets/controls",
            "_model_module_version": "1.5.0",
            "_model_name": "DescriptionStyleModel",
            "_view_count": null,
            "_view_module": "@jupyter-widgets/base",
            "_view_module_version": "1.2.0",
            "_view_name": "StyleView",
            "description_width": ""
          }
        },
        "88be1c0368184cfeb2491a8030be5885": {
          "model_module": "@jupyter-widgets/base",
          "model_module_version": "1.2.0",
          "model_name": "LayoutModel",
          "state": {
            "_model_module": "@jupyter-widgets/base",
            "_model_module_version": "1.2.0",
            "_model_name": "LayoutModel",
            "_view_count": null,
            "_view_module": "@jupyter-widgets/base",
            "_view_module_version": "1.2.0",
            "_view_name": "LayoutView",
            "align_content": null,
            "align_items": null,
            "align_self": null,
            "border": null,
            "bottom": null,
            "display": null,
            "flex": null,
            "flex_flow": null,
            "grid_area": null,
            "grid_auto_columns": null,
            "grid_auto_flow": null,
            "grid_auto_rows": null,
            "grid_column": null,
            "grid_gap": null,
            "grid_row": null,
            "grid_template_areas": null,
            "grid_template_columns": null,
            "grid_template_rows": null,
            "height": null,
            "justify_content": null,
            "justify_items": null,
            "left": null,
            "margin": null,
            "max_height": null,
            "max_width": null,
            "min_height": null,
            "min_width": null,
            "object_fit": null,
            "object_position": null,
            "order": null,
            "overflow": null,
            "overflow_x": null,
            "overflow_y": null,
            "padding": null,
            "right": null,
            "top": null,
            "visibility": null,
            "width": null
          }
        },
        "8dc9713927e04cc497bf6e7f1ea15d83": {
          "model_module": "@jupyter-widgets/base",
          "model_module_version": "1.2.0",
          "model_name": "LayoutModel",
          "state": {
            "_model_module": "@jupyter-widgets/base",
            "_model_module_version": "1.2.0",
            "_model_name": "LayoutModel",
            "_view_count": null,
            "_view_module": "@jupyter-widgets/base",
            "_view_module_version": "1.2.0",
            "_view_name": "LayoutView",
            "align_content": null,
            "align_items": null,
            "align_self": null,
            "border": null,
            "bottom": null,
            "display": null,
            "flex": null,
            "flex_flow": null,
            "grid_area": null,
            "grid_auto_columns": null,
            "grid_auto_flow": null,
            "grid_auto_rows": null,
            "grid_column": null,
            "grid_gap": null,
            "grid_row": null,
            "grid_template_areas": null,
            "grid_template_columns": null,
            "grid_template_rows": null,
            "height": null,
            "justify_content": null,
            "justify_items": null,
            "left": null,
            "margin": null,
            "max_height": null,
            "max_width": null,
            "min_height": null,
            "min_width": null,
            "object_fit": null,
            "object_position": null,
            "order": null,
            "overflow": null,
            "overflow_x": null,
            "overflow_y": null,
            "padding": null,
            "right": null,
            "top": null,
            "visibility": null,
            "width": null
          }
        },
        "917c5727646f4ef4a81148275b987b44": {
          "model_module": "@jupyter-widgets/controls",
          "model_module_version": "1.5.0",
          "model_name": "DescriptionStyleModel",
          "state": {
            "_model_module": "@jupyter-widgets/controls",
            "_model_module_version": "1.5.0",
            "_model_name": "DescriptionStyleModel",
            "_view_count": null,
            "_view_module": "@jupyter-widgets/base",
            "_view_module_version": "1.2.0",
            "_view_name": "StyleView",
            "description_width": ""
          }
        },
        "966b178368db48228c64c75f8e3a3532": {
          "model_module": "@jupyter-widgets/controls",
          "model_module_version": "1.5.0",
          "model_name": "DescriptionStyleModel",
          "state": {
            "_model_module": "@jupyter-widgets/controls",
            "_model_module_version": "1.5.0",
            "_model_name": "DescriptionStyleModel",
            "_view_count": null,
            "_view_module": "@jupyter-widgets/base",
            "_view_module_version": "1.2.0",
            "_view_name": "StyleView",
            "description_width": ""
          }
        },
        "9a4409a122c64d1280c5c927ae0ee87e": {
          "model_module": "@jupyter-widgets/base",
          "model_module_version": "1.2.0",
          "model_name": "LayoutModel",
          "state": {
            "_model_module": "@jupyter-widgets/base",
            "_model_module_version": "1.2.0",
            "_model_name": "LayoutModel",
            "_view_count": null,
            "_view_module": "@jupyter-widgets/base",
            "_view_module_version": "1.2.0",
            "_view_name": "LayoutView",
            "align_content": null,
            "align_items": null,
            "align_self": null,
            "border": null,
            "bottom": null,
            "display": null,
            "flex": null,
            "flex_flow": null,
            "grid_area": null,
            "grid_auto_columns": null,
            "grid_auto_flow": null,
            "grid_auto_rows": null,
            "grid_column": null,
            "grid_gap": null,
            "grid_row": null,
            "grid_template_areas": null,
            "grid_template_columns": null,
            "grid_template_rows": null,
            "height": null,
            "justify_content": null,
            "justify_items": null,
            "left": null,
            "margin": null,
            "max_height": null,
            "max_width": null,
            "min_height": null,
            "min_width": null,
            "object_fit": null,
            "object_position": null,
            "order": null,
            "overflow": null,
            "overflow_x": null,
            "overflow_y": null,
            "padding": null,
            "right": null,
            "top": null,
            "visibility": null,
            "width": null
          }
        },
        "9b08a29060c045a687639f7410461cae": {
          "model_module": "@jupyter-widgets/controls",
          "model_module_version": "1.5.0",
          "model_name": "HBoxModel",
          "state": {
            "_dom_classes": [],
            "_model_module": "@jupyter-widgets/controls",
            "_model_module_version": "1.5.0",
            "_model_name": "HBoxModel",
            "_view_count": null,
            "_view_module": "@jupyter-widgets/controls",
            "_view_module_version": "1.5.0",
            "_view_name": "HBoxView",
            "box_style": "",
            "children": [
              "IPY_MODEL_1ab3802c1d624caeb94b43637473fd80",
              "IPY_MODEL_5e46af8f83da483a930a8dfef0498052",
              "IPY_MODEL_1754fc9867b0453c9bd8a9813bb1f863"
            ],
            "layout": "IPY_MODEL_a25771bafdb44334be92236eb1ac30e7"
          }
        },
        "9b243907eb634e25b1d56838138558cb": {
          "model_module": "@jupyter-widgets/controls",
          "model_module_version": "1.5.0",
          "model_name": "FloatProgressModel",
          "state": {
            "_dom_classes": [],
            "_model_module": "@jupyter-widgets/controls",
            "_model_module_version": "1.5.0",
            "_model_name": "FloatProgressModel",
            "_view_count": null,
            "_view_module": "@jupyter-widgets/controls",
            "_view_module_version": "1.5.0",
            "_view_name": "ProgressView",
            "bar_style": "success",
            "description": "",
            "description_tooltip": null,
            "layout": "IPY_MODEL_c12ce2df50f74b34a8627a3590ec7185",
            "max": 120,
            "min": 0,
            "orientation": "horizontal",
            "style": "IPY_MODEL_7a032c3602dd4705a233c814815376ca",
            "value": 120
          }
        },
        "9cecc874b91d433dbc576fb820d72f8d": {
          "model_module": "@jupyter-widgets/base",
          "model_module_version": "1.2.0",
          "model_name": "LayoutModel",
          "state": {
            "_model_module": "@jupyter-widgets/base",
            "_model_module_version": "1.2.0",
            "_model_name": "LayoutModel",
            "_view_count": null,
            "_view_module": "@jupyter-widgets/base",
            "_view_module_version": "1.2.0",
            "_view_name": "LayoutView",
            "align_content": null,
            "align_items": null,
            "align_self": null,
            "border": null,
            "bottom": null,
            "display": null,
            "flex": null,
            "flex_flow": null,
            "grid_area": null,
            "grid_auto_columns": null,
            "grid_auto_flow": null,
            "grid_auto_rows": null,
            "grid_column": null,
            "grid_gap": null,
            "grid_row": null,
            "grid_template_areas": null,
            "grid_template_columns": null,
            "grid_template_rows": null,
            "height": null,
            "justify_content": null,
            "justify_items": null,
            "left": null,
            "margin": null,
            "max_height": null,
            "max_width": null,
            "min_height": null,
            "min_width": null,
            "object_fit": null,
            "object_position": null,
            "order": null,
            "overflow": null,
            "overflow_x": null,
            "overflow_y": null,
            "padding": null,
            "right": null,
            "top": null,
            "visibility": null,
            "width": null
          }
        },
        "9d17f753c92349ecae039d30f0198729": {
          "model_module": "@jupyter-widgets/controls",
          "model_module_version": "1.5.0",
          "model_name": "DescriptionStyleModel",
          "state": {
            "_model_module": "@jupyter-widgets/controls",
            "_model_module_version": "1.5.0",
            "_model_name": "DescriptionStyleModel",
            "_view_count": null,
            "_view_module": "@jupyter-widgets/base",
            "_view_module_version": "1.2.0",
            "_view_name": "StyleView",
            "description_width": ""
          }
        },
        "a25771bafdb44334be92236eb1ac30e7": {
          "model_module": "@jupyter-widgets/base",
          "model_module_version": "1.2.0",
          "model_name": "LayoutModel",
          "state": {
            "_model_module": "@jupyter-widgets/base",
            "_model_module_version": "1.2.0",
            "_model_name": "LayoutModel",
            "_view_count": null,
            "_view_module": "@jupyter-widgets/base",
            "_view_module_version": "1.2.0",
            "_view_name": "LayoutView",
            "align_content": null,
            "align_items": null,
            "align_self": null,
            "border": null,
            "bottom": null,
            "display": null,
            "flex": null,
            "flex_flow": null,
            "grid_area": null,
            "grid_auto_columns": null,
            "grid_auto_flow": null,
            "grid_auto_rows": null,
            "grid_column": null,
            "grid_gap": null,
            "grid_row": null,
            "grid_template_areas": null,
            "grid_template_columns": null,
            "grid_template_rows": null,
            "height": null,
            "justify_content": null,
            "justify_items": null,
            "left": null,
            "margin": null,
            "max_height": null,
            "max_width": null,
            "min_height": null,
            "min_width": null,
            "object_fit": null,
            "object_position": null,
            "order": null,
            "overflow": null,
            "overflow_x": null,
            "overflow_y": null,
            "padding": null,
            "right": null,
            "top": null,
            "visibility": null,
            "width": null
          }
        },
        "a7a2103c002e4d7e961f58535a07192c": {
          "model_module": "@jupyter-widgets/controls",
          "model_module_version": "1.5.0",
          "model_name": "FloatProgressModel",
          "state": {
            "_dom_classes": [],
            "_model_module": "@jupyter-widgets/controls",
            "_model_module_version": "1.5.0",
            "_model_name": "FloatProgressModel",
            "_view_count": null,
            "_view_module": "@jupyter-widgets/controls",
            "_view_module_version": "1.5.0",
            "_view_name": "ProgressView",
            "bar_style": "success",
            "description": "",
            "description_tooltip": null,
            "layout": "IPY_MODEL_51e0eb5e0fb344a1a3926eaf7f22be53",
            "max": 120,
            "min": 0,
            "orientation": "horizontal",
            "style": "IPY_MODEL_2de6cf4ebfd24163b883e800da142c9b",
            "value": 120
          }
        },
        "aba6aac0a6d7400bb4504bc416d19267": {
          "model_module": "@jupyter-widgets/base",
          "model_module_version": "1.2.0",
          "model_name": "LayoutModel",
          "state": {
            "_model_module": "@jupyter-widgets/base",
            "_model_module_version": "1.2.0",
            "_model_name": "LayoutModel",
            "_view_count": null,
            "_view_module": "@jupyter-widgets/base",
            "_view_module_version": "1.2.0",
            "_view_name": "LayoutView",
            "align_content": null,
            "align_items": null,
            "align_self": null,
            "border": null,
            "bottom": null,
            "display": null,
            "flex": null,
            "flex_flow": null,
            "grid_area": null,
            "grid_auto_columns": null,
            "grid_auto_flow": null,
            "grid_auto_rows": null,
            "grid_column": null,
            "grid_gap": null,
            "grid_row": null,
            "grid_template_areas": null,
            "grid_template_columns": null,
            "grid_template_rows": null,
            "height": null,
            "justify_content": null,
            "justify_items": null,
            "left": null,
            "margin": null,
            "max_height": null,
            "max_width": null,
            "min_height": null,
            "min_width": null,
            "object_fit": null,
            "object_position": null,
            "order": null,
            "overflow": null,
            "overflow_x": null,
            "overflow_y": null,
            "padding": null,
            "right": null,
            "top": null,
            "visibility": null,
            "width": null
          }
        },
        "b1d2bca448764c9a8a304dcc615c20bb": {
          "model_module": "@jupyter-widgets/controls",
          "model_module_version": "1.5.0",
          "model_name": "DescriptionStyleModel",
          "state": {
            "_model_module": "@jupyter-widgets/controls",
            "_model_module_version": "1.5.0",
            "_model_name": "DescriptionStyleModel",
            "_view_count": null,
            "_view_module": "@jupyter-widgets/base",
            "_view_module_version": "1.2.0",
            "_view_name": "StyleView",
            "description_width": ""
          }
        },
        "b1e2e08c09344d1b85f6db105e865ebd": {
          "model_module": "@jupyter-widgets/controls",
          "model_module_version": "1.5.0",
          "model_name": "HTMLModel",
          "state": {
            "_dom_classes": [],
            "_model_module": "@jupyter-widgets/controls",
            "_model_module_version": "1.5.0",
            "_model_name": "HTMLModel",
            "_view_count": null,
            "_view_module": "@jupyter-widgets/controls",
            "_view_module_version": "1.5.0",
            "_view_name": "HTMLView",
            "description": "",
            "description_tooltip": null,
            "layout": "IPY_MODEL_b52a6b3f15c448e5831f192de58dabd4",
            "placeholder": "​",
            "style": "IPY_MODEL_c60719f84adb47e9a714918f701e1452",
            "value": " 30/30 [00:13&lt;00:00,  3.72it/s]"
          }
        },
        "b52a6b3f15c448e5831f192de58dabd4": {
          "model_module": "@jupyter-widgets/base",
          "model_module_version": "1.2.0",
          "model_name": "LayoutModel",
          "state": {
            "_model_module": "@jupyter-widgets/base",
            "_model_module_version": "1.2.0",
            "_model_name": "LayoutModel",
            "_view_count": null,
            "_view_module": "@jupyter-widgets/base",
            "_view_module_version": "1.2.0",
            "_view_name": "LayoutView",
            "align_content": null,
            "align_items": null,
            "align_self": null,
            "border": null,
            "bottom": null,
            "display": null,
            "flex": null,
            "flex_flow": null,
            "grid_area": null,
            "grid_auto_columns": null,
            "grid_auto_flow": null,
            "grid_auto_rows": null,
            "grid_column": null,
            "grid_gap": null,
            "grid_row": null,
            "grid_template_areas": null,
            "grid_template_columns": null,
            "grid_template_rows": null,
            "height": null,
            "justify_content": null,
            "justify_items": null,
            "left": null,
            "margin": null,
            "max_height": null,
            "max_width": null,
            "min_height": null,
            "min_width": null,
            "object_fit": null,
            "object_position": null,
            "order": null,
            "overflow": null,
            "overflow_x": null,
            "overflow_y": null,
            "padding": null,
            "right": null,
            "top": null,
            "visibility": null,
            "width": null
          }
        },
        "b690c1ca6cc64933a6fdfadf038ebcc0": {
          "model_module": "@jupyter-widgets/controls",
          "model_module_version": "1.5.0",
          "model_name": "FloatProgressModel",
          "state": {
            "_dom_classes": [],
            "_model_module": "@jupyter-widgets/controls",
            "_model_module_version": "1.5.0",
            "_model_name": "FloatProgressModel",
            "_view_count": null,
            "_view_module": "@jupyter-widgets/controls",
            "_view_module_version": "1.5.0",
            "_view_name": "ProgressView",
            "bar_style": "success",
            "description": "",
            "description_tooltip": null,
            "layout": "IPY_MODEL_6454b055164849f5911e89dc1ab17871",
            "max": 60,
            "min": 0,
            "orientation": "horizontal",
            "style": "IPY_MODEL_ef16ff87e3a3404eb88ac3d6115e3ad2",
            "value": 60
          }
        },
        "ba7aef35680d43698a472e722affccfe": {
          "model_module": "@jupyter-widgets/base",
          "model_module_version": "1.2.0",
          "model_name": "LayoutModel",
          "state": {
            "_model_module": "@jupyter-widgets/base",
            "_model_module_version": "1.2.0",
            "_model_name": "LayoutModel",
            "_view_count": null,
            "_view_module": "@jupyter-widgets/base",
            "_view_module_version": "1.2.0",
            "_view_name": "LayoutView",
            "align_content": null,
            "align_items": null,
            "align_self": null,
            "border": null,
            "bottom": null,
            "display": null,
            "flex": null,
            "flex_flow": null,
            "grid_area": null,
            "grid_auto_columns": null,
            "grid_auto_flow": null,
            "grid_auto_rows": null,
            "grid_column": null,
            "grid_gap": null,
            "grid_row": null,
            "grid_template_areas": null,
            "grid_template_columns": null,
            "grid_template_rows": null,
            "height": null,
            "justify_content": null,
            "justify_items": null,
            "left": null,
            "margin": null,
            "max_height": null,
            "max_width": null,
            "min_height": null,
            "min_width": null,
            "object_fit": null,
            "object_position": null,
            "order": null,
            "overflow": null,
            "overflow_x": null,
            "overflow_y": null,
            "padding": null,
            "right": null,
            "top": null,
            "visibility": null,
            "width": null
          }
        },
        "be5343a266124ed0ad6e4bb5dec387d3": {
          "model_module": "@jupyter-widgets/controls",
          "model_module_version": "1.5.0",
          "model_name": "DescriptionStyleModel",
          "state": {
            "_model_module": "@jupyter-widgets/controls",
            "_model_module_version": "1.5.0",
            "_model_name": "DescriptionStyleModel",
            "_view_count": null,
            "_view_module": "@jupyter-widgets/base",
            "_view_module_version": "1.2.0",
            "_view_name": "StyleView",
            "description_width": ""
          }
        },
        "becc4abf971c4c67b1a5e4d6bf91875b": {
          "model_module": "@jupyter-widgets/base",
          "model_module_version": "1.2.0",
          "model_name": "LayoutModel",
          "state": {
            "_model_module": "@jupyter-widgets/base",
            "_model_module_version": "1.2.0",
            "_model_name": "LayoutModel",
            "_view_count": null,
            "_view_module": "@jupyter-widgets/base",
            "_view_module_version": "1.2.0",
            "_view_name": "LayoutView",
            "align_content": null,
            "align_items": null,
            "align_self": null,
            "border": null,
            "bottom": null,
            "display": null,
            "flex": null,
            "flex_flow": null,
            "grid_area": null,
            "grid_auto_columns": null,
            "grid_auto_flow": null,
            "grid_auto_rows": null,
            "grid_column": null,
            "grid_gap": null,
            "grid_row": null,
            "grid_template_areas": null,
            "grid_template_columns": null,
            "grid_template_rows": null,
            "height": null,
            "justify_content": null,
            "justify_items": null,
            "left": null,
            "margin": null,
            "max_height": null,
            "max_width": null,
            "min_height": null,
            "min_width": null,
            "object_fit": null,
            "object_position": null,
            "order": null,
            "overflow": null,
            "overflow_x": null,
            "overflow_y": null,
            "padding": null,
            "right": null,
            "top": null,
            "visibility": null,
            "width": null
          }
        },
        "c12ce2df50f74b34a8627a3590ec7185": {
          "model_module": "@jupyter-widgets/base",
          "model_module_version": "1.2.0",
          "model_name": "LayoutModel",
          "state": {
            "_model_module": "@jupyter-widgets/base",
            "_model_module_version": "1.2.0",
            "_model_name": "LayoutModel",
            "_view_count": null,
            "_view_module": "@jupyter-widgets/base",
            "_view_module_version": "1.2.0",
            "_view_name": "LayoutView",
            "align_content": null,
            "align_items": null,
            "align_self": null,
            "border": null,
            "bottom": null,
            "display": null,
            "flex": null,
            "flex_flow": null,
            "grid_area": null,
            "grid_auto_columns": null,
            "grid_auto_flow": null,
            "grid_auto_rows": null,
            "grid_column": null,
            "grid_gap": null,
            "grid_row": null,
            "grid_template_areas": null,
            "grid_template_columns": null,
            "grid_template_rows": null,
            "height": null,
            "justify_content": null,
            "justify_items": null,
            "left": null,
            "margin": null,
            "max_height": null,
            "max_width": null,
            "min_height": null,
            "min_width": null,
            "object_fit": null,
            "object_position": null,
            "order": null,
            "overflow": null,
            "overflow_x": null,
            "overflow_y": null,
            "padding": null,
            "right": null,
            "top": null,
            "visibility": null,
            "width": null
          }
        },
        "c60719f84adb47e9a714918f701e1452": {
          "model_module": "@jupyter-widgets/controls",
          "model_module_version": "1.5.0",
          "model_name": "DescriptionStyleModel",
          "state": {
            "_model_module": "@jupyter-widgets/controls",
            "_model_module_version": "1.5.0",
            "_model_name": "DescriptionStyleModel",
            "_view_count": null,
            "_view_module": "@jupyter-widgets/base",
            "_view_module_version": "1.2.0",
            "_view_name": "StyleView",
            "description_width": ""
          }
        },
        "c8e658bd8e6f4c748e70f8ed70a629d8": {
          "model_module": "@jupyter-widgets/base",
          "model_module_version": "1.2.0",
          "model_name": "LayoutModel",
          "state": {
            "_model_module": "@jupyter-widgets/base",
            "_model_module_version": "1.2.0",
            "_model_name": "LayoutModel",
            "_view_count": null,
            "_view_module": "@jupyter-widgets/base",
            "_view_module_version": "1.2.0",
            "_view_name": "LayoutView",
            "align_content": null,
            "align_items": null,
            "align_self": null,
            "border": null,
            "bottom": null,
            "display": null,
            "flex": null,
            "flex_flow": null,
            "grid_area": null,
            "grid_auto_columns": null,
            "grid_auto_flow": null,
            "grid_auto_rows": null,
            "grid_column": null,
            "grid_gap": null,
            "grid_row": null,
            "grid_template_areas": null,
            "grid_template_columns": null,
            "grid_template_rows": null,
            "height": null,
            "justify_content": null,
            "justify_items": null,
            "left": null,
            "margin": null,
            "max_height": null,
            "max_width": null,
            "min_height": null,
            "min_width": null,
            "object_fit": null,
            "object_position": null,
            "order": null,
            "overflow": null,
            "overflow_x": null,
            "overflow_y": null,
            "padding": null,
            "right": null,
            "top": null,
            "visibility": null,
            "width": null
          }
        },
        "ccce6575e5d94d25b95f6715d8069039": {
          "model_module": "@jupyter-widgets/base",
          "model_module_version": "1.2.0",
          "model_name": "LayoutModel",
          "state": {
            "_model_module": "@jupyter-widgets/base",
            "_model_module_version": "1.2.0",
            "_model_name": "LayoutModel",
            "_view_count": null,
            "_view_module": "@jupyter-widgets/base",
            "_view_module_version": "1.2.0",
            "_view_name": "LayoutView",
            "align_content": null,
            "align_items": null,
            "align_self": null,
            "border": null,
            "bottom": null,
            "display": null,
            "flex": null,
            "flex_flow": null,
            "grid_area": null,
            "grid_auto_columns": null,
            "grid_auto_flow": null,
            "grid_auto_rows": null,
            "grid_column": null,
            "grid_gap": null,
            "grid_row": null,
            "grid_template_areas": null,
            "grid_template_columns": null,
            "grid_template_rows": null,
            "height": null,
            "justify_content": null,
            "justify_items": null,
            "left": null,
            "margin": null,
            "max_height": null,
            "max_width": null,
            "min_height": null,
            "min_width": null,
            "object_fit": null,
            "object_position": null,
            "order": null,
            "overflow": null,
            "overflow_x": null,
            "overflow_y": null,
            "padding": null,
            "right": null,
            "top": null,
            "visibility": null,
            "width": null
          }
        },
        "ccd4f2e1a6744cc68b99656455bd185b": {
          "model_module": "@jupyter-widgets/controls",
          "model_module_version": "1.5.0",
          "model_name": "HBoxModel",
          "state": {
            "_dom_classes": [],
            "_model_module": "@jupyter-widgets/controls",
            "_model_module_version": "1.5.0",
            "_model_name": "HBoxModel",
            "_view_count": null,
            "_view_module": "@jupyter-widgets/controls",
            "_view_module_version": "1.5.0",
            "_view_name": "HBoxView",
            "box_style": "",
            "children": [
              "IPY_MODEL_ee1fe83deecc4ec5be21fa828e5db88c",
              "IPY_MODEL_9b243907eb634e25b1d56838138558cb",
              "IPY_MODEL_f1aaa5a720b9452ea17c44e3f5c31e7c"
            ],
            "layout": "IPY_MODEL_f7295e00e25942f7a59e4aafbac2dfed"
          }
        },
        "d35250180fc243218f048230ec5d2065": {
          "model_module": "@jupyter-widgets/controls",
          "model_module_version": "1.5.0",
          "model_name": "HTMLModel",
          "state": {
            "_dom_classes": [],
            "_model_module": "@jupyter-widgets/controls",
            "_model_module_version": "1.5.0",
            "_model_name": "HTMLModel",
            "_view_count": null,
            "_view_module": "@jupyter-widgets/controls",
            "_view_module_version": "1.5.0",
            "_view_name": "HTMLView",
            "description": "",
            "description_tooltip": null,
            "layout": "IPY_MODEL_d6135f722705459cbf7b059441914dad",
            "placeholder": "​",
            "style": "IPY_MODEL_dfe7f4c7b904499687e9b1a6ecd28f7d",
            "value": "100%"
          }
        },
        "d602108eb38e48469adf3a98a8d9e942": {
          "model_module": "@jupyter-widgets/base",
          "model_module_version": "1.2.0",
          "model_name": "LayoutModel",
          "state": {
            "_model_module": "@jupyter-widgets/base",
            "_model_module_version": "1.2.0",
            "_model_name": "LayoutModel",
            "_view_count": null,
            "_view_module": "@jupyter-widgets/base",
            "_view_module_version": "1.2.0",
            "_view_name": "LayoutView",
            "align_content": null,
            "align_items": null,
            "align_self": null,
            "border": null,
            "bottom": null,
            "display": null,
            "flex": null,
            "flex_flow": null,
            "grid_area": null,
            "grid_auto_columns": null,
            "grid_auto_flow": null,
            "grid_auto_rows": null,
            "grid_column": null,
            "grid_gap": null,
            "grid_row": null,
            "grid_template_areas": null,
            "grid_template_columns": null,
            "grid_template_rows": null,
            "height": null,
            "justify_content": null,
            "justify_items": null,
            "left": null,
            "margin": null,
            "max_height": null,
            "max_width": null,
            "min_height": null,
            "min_width": null,
            "object_fit": null,
            "object_position": null,
            "order": null,
            "overflow": null,
            "overflow_x": null,
            "overflow_y": null,
            "padding": null,
            "right": null,
            "top": null,
            "visibility": null,
            "width": null
          }
        },
        "d6135f722705459cbf7b059441914dad": {
          "model_module": "@jupyter-widgets/base",
          "model_module_version": "1.2.0",
          "model_name": "LayoutModel",
          "state": {
            "_model_module": "@jupyter-widgets/base",
            "_model_module_version": "1.2.0",
            "_model_name": "LayoutModel",
            "_view_count": null,
            "_view_module": "@jupyter-widgets/base",
            "_view_module_version": "1.2.0",
            "_view_name": "LayoutView",
            "align_content": null,
            "align_items": null,
            "align_self": null,
            "border": null,
            "bottom": null,
            "display": null,
            "flex": null,
            "flex_flow": null,
            "grid_area": null,
            "grid_auto_columns": null,
            "grid_auto_flow": null,
            "grid_auto_rows": null,
            "grid_column": null,
            "grid_gap": null,
            "grid_row": null,
            "grid_template_areas": null,
            "grid_template_columns": null,
            "grid_template_rows": null,
            "height": null,
            "justify_content": null,
            "justify_items": null,
            "left": null,
            "margin": null,
            "max_height": null,
            "max_width": null,
            "min_height": null,
            "min_width": null,
            "object_fit": null,
            "object_position": null,
            "order": null,
            "overflow": null,
            "overflow_x": null,
            "overflow_y": null,
            "padding": null,
            "right": null,
            "top": null,
            "visibility": null,
            "width": null
          }
        },
        "d78185ee22174d22a90df7a0cb7786b2": {
          "model_module": "@jupyter-widgets/controls",
          "model_module_version": "1.5.0",
          "model_name": "HTMLModel",
          "state": {
            "_dom_classes": [],
            "_model_module": "@jupyter-widgets/controls",
            "_model_module_version": "1.5.0",
            "_model_name": "HTMLModel",
            "_view_count": null,
            "_view_module": "@jupyter-widgets/controls",
            "_view_module_version": "1.5.0",
            "_view_name": "HTMLView",
            "description": "",
            "description_tooltip": null,
            "layout": "IPY_MODEL_124cfa46100c4e5cb00787c6e6059f56",
            "placeholder": "​",
            "style": "IPY_MODEL_4459b96074944ee49aadf009118994a1",
            "value": " 651/651 [00:01&lt;00:00, 630.91 examples/s]"
          }
        },
        "d7df7dd4392243118cc136312edc7439": {
          "model_module": "@jupyter-widgets/controls",
          "model_module_version": "1.5.0",
          "model_name": "HBoxModel",
          "state": {
            "_dom_classes": [],
            "_model_module": "@jupyter-widgets/controls",
            "_model_module_version": "1.5.0",
            "_model_name": "HBoxModel",
            "_view_count": null,
            "_view_module": "@jupyter-widgets/controls",
            "_view_module_version": "1.5.0",
            "_view_name": "HBoxView",
            "box_style": "",
            "children": [
              "IPY_MODEL_7791e0ed78bc4232834c320a629b9ff2",
              "IPY_MODEL_3d356255a3b340f4a9bba1ccd1c2c6a5",
              "IPY_MODEL_d78185ee22174d22a90df7a0cb7786b2"
            ],
            "layout": "IPY_MODEL_aba6aac0a6d7400bb4504bc416d19267"
          }
        },
        "d84732461f984e5986f0698a10781086": {
          "model_module": "@jupyter-widgets/controls",
          "model_module_version": "1.5.0",
          "model_name": "DescriptionStyleModel",
          "state": {
            "_model_module": "@jupyter-widgets/controls",
            "_model_module_version": "1.5.0",
            "_model_name": "DescriptionStyleModel",
            "_view_count": null,
            "_view_module": "@jupyter-widgets/base",
            "_view_module_version": "1.2.0",
            "_view_name": "StyleView",
            "description_width": ""
          }
        },
        "dee37d4873574327a6dc109e320c679c": {
          "model_module": "@jupyter-widgets/controls",
          "model_module_version": "1.5.0",
          "model_name": "HTMLModel",
          "state": {
            "_dom_classes": [],
            "_model_module": "@jupyter-widgets/controls",
            "_model_module_version": "1.5.0",
            "_model_name": "HTMLModel",
            "_view_count": null,
            "_view_module": "@jupyter-widgets/controls",
            "_view_module_version": "1.5.0",
            "_view_name": "HTMLView",
            "description": "",
            "description_tooltip": null,
            "layout": "IPY_MODEL_06e03a1669cc4f3997f5298ddd7ae007",
            "placeholder": "​",
            "style": "IPY_MODEL_917c5727646f4ef4a81148275b987b44",
            "value": "Map: 100%"
          }
        },
        "dfd1f9228c934a1b86e486e0b2fc8d35": {
          "model_module": "@jupyter-widgets/controls",
          "model_module_version": "1.5.0",
          "model_name": "HBoxModel",
          "state": {
            "_dom_classes": [],
            "_model_module": "@jupyter-widgets/controls",
            "_model_module_version": "1.5.0",
            "_model_name": "HBoxModel",
            "_view_count": null,
            "_view_module": "@jupyter-widgets/controls",
            "_view_module_version": "1.5.0",
            "_view_name": "HBoxView",
            "box_style": "",
            "children": [
              "IPY_MODEL_7cb7a26cd39747c1bd2270b4fa1ebda6",
              "IPY_MODEL_10d957b653e1414abbb93af1d40e4402",
              "IPY_MODEL_03f5c6e8cb7945939be25e6e036c76a4"
            ],
            "layout": "IPY_MODEL_d602108eb38e48469adf3a98a8d9e942"
          }
        },
        "dfe7f4c7b904499687e9b1a6ecd28f7d": {
          "model_module": "@jupyter-widgets/controls",
          "model_module_version": "1.5.0",
          "model_name": "DescriptionStyleModel",
          "state": {
            "_model_module": "@jupyter-widgets/controls",
            "_model_module_version": "1.5.0",
            "_model_name": "DescriptionStyleModel",
            "_view_count": null,
            "_view_module": "@jupyter-widgets/base",
            "_view_module_version": "1.2.0",
            "_view_name": "StyleView",
            "description_width": ""
          }
        },
        "e485cd12541645d1b083542efa03c5d2": {
          "model_module": "@jupyter-widgets/base",
          "model_module_version": "1.2.0",
          "model_name": "LayoutModel",
          "state": {
            "_model_module": "@jupyter-widgets/base",
            "_model_module_version": "1.2.0",
            "_model_name": "LayoutModel",
            "_view_count": null,
            "_view_module": "@jupyter-widgets/base",
            "_view_module_version": "1.2.0",
            "_view_name": "LayoutView",
            "align_content": null,
            "align_items": null,
            "align_self": null,
            "border": null,
            "bottom": null,
            "display": null,
            "flex": null,
            "flex_flow": null,
            "grid_area": null,
            "grid_auto_columns": null,
            "grid_auto_flow": null,
            "grid_auto_rows": null,
            "grid_column": null,
            "grid_gap": null,
            "grid_row": null,
            "grid_template_areas": null,
            "grid_template_columns": null,
            "grid_template_rows": null,
            "height": null,
            "justify_content": null,
            "justify_items": null,
            "left": null,
            "margin": null,
            "max_height": null,
            "max_width": null,
            "min_height": null,
            "min_width": null,
            "object_fit": null,
            "object_position": null,
            "order": null,
            "overflow": null,
            "overflow_x": null,
            "overflow_y": null,
            "padding": null,
            "right": null,
            "top": null,
            "visibility": null,
            "width": null
          }
        },
        "ea0f972e645848159a982f12d41d37f6": {
          "model_module": "@jupyter-widgets/controls",
          "model_module_version": "1.5.0",
          "model_name": "DescriptionStyleModel",
          "state": {
            "_model_module": "@jupyter-widgets/controls",
            "_model_module_version": "1.5.0",
            "_model_name": "DescriptionStyleModel",
            "_view_count": null,
            "_view_module": "@jupyter-widgets/base",
            "_view_module_version": "1.2.0",
            "_view_name": "StyleView",
            "description_width": ""
          }
        },
        "ee1fe83deecc4ec5be21fa828e5db88c": {
          "model_module": "@jupyter-widgets/controls",
          "model_module_version": "1.5.0",
          "model_name": "HTMLModel",
          "state": {
            "_dom_classes": [],
            "_model_module": "@jupyter-widgets/controls",
            "_model_module_version": "1.5.0",
            "_model_name": "HTMLModel",
            "_view_count": null,
            "_view_module": "@jupyter-widgets/controls",
            "_view_module_version": "1.5.0",
            "_view_name": "HTMLView",
            "description": "",
            "description_tooltip": null,
            "layout": "IPY_MODEL_61b94ea197fc4cef912e0566bfee6c9d",
            "placeholder": "​",
            "style": "IPY_MODEL_31f17d76eb18454595e7e64217815709",
            "value": "Map: 100%"
          }
        },
        "ee3773e506b24338b986fda02eb5de06": {
          "model_module": "@jupyter-widgets/controls",
          "model_module_version": "1.5.0",
          "model_name": "HBoxModel",
          "state": {
            "_dom_classes": [],
            "_model_module": "@jupyter-widgets/controls",
            "_model_module_version": "1.5.0",
            "_model_name": "HBoxModel",
            "_view_count": null,
            "_view_module": "@jupyter-widgets/controls",
            "_view_module_version": "1.5.0",
            "_view_name": "HBoxView",
            "box_style": "",
            "children": [
              "IPY_MODEL_ef2d323afd3e423292a85052617e0081",
              "IPY_MODEL_a7a2103c002e4d7e961f58535a07192c",
              "IPY_MODEL_593302b5753e4b2988bb436dd997c80b"
            ],
            "layout": "IPY_MODEL_58c4e625a7d04a149894cdbcb112f2e2"
          }
        },
        "ee6ec743ad47415bb3ede31e2e32dfec": {
          "model_module": "@jupyter-widgets/controls",
          "model_module_version": "1.5.0",
          "model_name": "ProgressStyleModel",
          "state": {
            "_model_module": "@jupyter-widgets/controls",
            "_model_module_version": "1.5.0",
            "_model_name": "ProgressStyleModel",
            "_view_count": null,
            "_view_module": "@jupyter-widgets/base",
            "_view_module_version": "1.2.0",
            "_view_name": "StyleView",
            "bar_color": null,
            "description_width": ""
          }
        },
        "ef16ff87e3a3404eb88ac3d6115e3ad2": {
          "model_module": "@jupyter-widgets/controls",
          "model_module_version": "1.5.0",
          "model_name": "ProgressStyleModel",
          "state": {
            "_model_module": "@jupyter-widgets/controls",
            "_model_module_version": "1.5.0",
            "_model_name": "ProgressStyleModel",
            "_view_count": null,
            "_view_module": "@jupyter-widgets/base",
            "_view_module_version": "1.2.0",
            "_view_name": "StyleView",
            "bar_color": null,
            "description_width": ""
          }
        },
        "ef2d323afd3e423292a85052617e0081": {
          "model_module": "@jupyter-widgets/controls",
          "model_module_version": "1.5.0",
          "model_name": "HTMLModel",
          "state": {
            "_dom_classes": [],
            "_model_module": "@jupyter-widgets/controls",
            "_model_module_version": "1.5.0",
            "_model_name": "HTMLModel",
            "_view_count": null,
            "_view_module": "@jupyter-widgets/controls",
            "_view_module_version": "1.5.0",
            "_view_name": "HTMLView",
            "description": "",
            "description_tooltip": null,
            "layout": "IPY_MODEL_11fd5a5d993e4c949a5fa3374f366354",
            "placeholder": "​",
            "style": "IPY_MODEL_834e85e3b00e44ca93d834222a4adfb4",
            "value": "Map: 100%"
          }
        },
        "f1aaa5a720b9452ea17c44e3f5c31e7c": {
          "model_module": "@jupyter-widgets/controls",
          "model_module_version": "1.5.0",
          "model_name": "HTMLModel",
          "state": {
            "_dom_classes": [],
            "_model_module": "@jupyter-widgets/controls",
            "_model_module_version": "1.5.0",
            "_model_name": "HTMLModel",
            "_view_count": null,
            "_view_module": "@jupyter-widgets/controls",
            "_view_module_version": "1.5.0",
            "_view_name": "HTMLView",
            "description": "",
            "description_tooltip": null,
            "layout": "IPY_MODEL_ccce6575e5d94d25b95f6715d8069039",
            "placeholder": "​",
            "style": "IPY_MODEL_966b178368db48228c64c75f8e3a3532",
            "value": " 120/120 [00:00&lt;00:00, 949.04 examples/s]"
          }
        },
        "f6936ed1cc794dc5ad2aedbfaa41d02f": {
          "model_module": "@jupyter-widgets/controls",
          "model_module_version": "1.5.0",
          "model_name": "DescriptionStyleModel",
          "state": {
            "_model_module": "@jupyter-widgets/controls",
            "_model_module_version": "1.5.0",
            "_model_name": "DescriptionStyleModel",
            "_view_count": null,
            "_view_module": "@jupyter-widgets/base",
            "_view_module_version": "1.2.0",
            "_view_name": "StyleView",
            "description_width": ""
          }
        },
        "f7295e00e25942f7a59e4aafbac2dfed": {
          "model_module": "@jupyter-widgets/base",
          "model_module_version": "1.2.0",
          "model_name": "LayoutModel",
          "state": {
            "_model_module": "@jupyter-widgets/base",
            "_model_module_version": "1.2.0",
            "_model_name": "LayoutModel",
            "_view_count": null,
            "_view_module": "@jupyter-widgets/base",
            "_view_module_version": "1.2.0",
            "_view_name": "LayoutView",
            "align_content": null,
            "align_items": null,
            "align_self": null,
            "border": null,
            "bottom": null,
            "display": null,
            "flex": null,
            "flex_flow": null,
            "grid_area": null,
            "grid_auto_columns": null,
            "grid_auto_flow": null,
            "grid_auto_rows": null,
            "grid_column": null,
            "grid_gap": null,
            "grid_row": null,
            "grid_template_areas": null,
            "grid_template_columns": null,
            "grid_template_rows": null,
            "height": null,
            "justify_content": null,
            "justify_items": null,
            "left": null,
            "margin": null,
            "max_height": null,
            "max_width": null,
            "min_height": null,
            "min_width": null,
            "object_fit": null,
            "object_position": null,
            "order": null,
            "overflow": null,
            "overflow_x": null,
            "overflow_y": null,
            "padding": null,
            "right": null,
            "top": null,
            "visibility": null,
            "width": null
          }
        },
        "f8dadddcf21f4c208f69d2646cd9856a": {
          "model_module": "@jupyter-widgets/base",
          "model_module_version": "1.2.0",
          "model_name": "LayoutModel",
          "state": {
            "_model_module": "@jupyter-widgets/base",
            "_model_module_version": "1.2.0",
            "_model_name": "LayoutModel",
            "_view_count": null,
            "_view_module": "@jupyter-widgets/base",
            "_view_module_version": "1.2.0",
            "_view_name": "LayoutView",
            "align_content": null,
            "align_items": null,
            "align_self": null,
            "border": null,
            "bottom": null,
            "display": null,
            "flex": null,
            "flex_flow": null,
            "grid_area": null,
            "grid_auto_columns": null,
            "grid_auto_flow": null,
            "grid_auto_rows": null,
            "grid_column": null,
            "grid_gap": null,
            "grid_row": null,
            "grid_template_areas": null,
            "grid_template_columns": null,
            "grid_template_rows": null,
            "height": null,
            "justify_content": null,
            "justify_items": null,
            "left": null,
            "margin": null,
            "max_height": null,
            "max_width": null,
            "min_height": null,
            "min_width": null,
            "object_fit": null,
            "object_position": null,
            "order": null,
            "overflow": null,
            "overflow_x": null,
            "overflow_y": null,
            "padding": null,
            "right": null,
            "top": null,
            "visibility": null,
            "width": null
          }
        },
        "f98261d3868142948cfc58c3416af9e3": {
          "model_module": "@jupyter-widgets/controls",
          "model_module_version": "1.5.0",
          "model_name": "ProgressStyleModel",
          "state": {
            "_model_module": "@jupyter-widgets/controls",
            "_model_module_version": "1.5.0",
            "_model_name": "ProgressStyleModel",
            "_view_count": null,
            "_view_module": "@jupyter-widgets/base",
            "_view_module_version": "1.2.0",
            "_view_name": "StyleView",
            "bar_color": null,
            "description_width": ""
          }
        },
        "fb944a33256a4288bd3fea5d68619982": {
          "model_module": "@jupyter-widgets/base",
          "model_module_version": "1.2.0",
          "model_name": "LayoutModel",
          "state": {
            "_model_module": "@jupyter-widgets/base",
            "_model_module_version": "1.2.0",
            "_model_name": "LayoutModel",
            "_view_count": null,
            "_view_module": "@jupyter-widgets/base",
            "_view_module_version": "1.2.0",
            "_view_name": "LayoutView",
            "align_content": null,
            "align_items": null,
            "align_self": null,
            "border": null,
            "bottom": null,
            "display": null,
            "flex": null,
            "flex_flow": null,
            "grid_area": null,
            "grid_auto_columns": null,
            "grid_auto_flow": null,
            "grid_auto_rows": null,
            "grid_column": null,
            "grid_gap": null,
            "grid_row": null,
            "grid_template_areas": null,
            "grid_template_columns": null,
            "grid_template_rows": null,
            "height": null,
            "justify_content": null,
            "justify_items": null,
            "left": null,
            "margin": null,
            "max_height": null,
            "max_width": null,
            "min_height": null,
            "min_width": null,
            "object_fit": null,
            "object_position": null,
            "order": null,
            "overflow": null,
            "overflow_x": null,
            "overflow_y": null,
            "padding": null,
            "right": null,
            "top": null,
            "visibility": null,
            "width": null
          }
        },
        "fcc20c345faf4df886f8c3a1cbca6f35": {
          "model_module": "@jupyter-widgets/controls",
          "model_module_version": "1.5.0",
          "model_name": "HTMLModel",
          "state": {
            "_dom_classes": [],
            "_model_module": "@jupyter-widgets/controls",
            "_model_module_version": "1.5.0",
            "_model_name": "HTMLModel",
            "_view_count": null,
            "_view_module": "@jupyter-widgets/controls",
            "_view_module_version": "1.5.0",
            "_view_name": "HTMLView",
            "description": "",
            "description_tooltip": null,
            "layout": "IPY_MODEL_9a4409a122c64d1280c5c927ae0ee87e",
            "placeholder": "​",
            "style": "IPY_MODEL_775b66d8e80546258184d43c76b7669a",
            "value": " 60/60 [00:00&lt;00:00, 1019.41 examples/s]"
          }
        }
      }
    }
  },
  "nbformat": 4,
  "nbformat_minor": 0
}
